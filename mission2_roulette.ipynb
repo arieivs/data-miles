{
  "nbformat": 4,
  "nbformat_minor": 0,
  "metadata": {
    "colab": {
      "name": "Mission2.ipynb",
      "provenance": [],
      "collapsed_sections": []
    },
    "kernelspec": {
      "name": "python3",
      "display_name": "Python 3"
    },
    "language_info": {
      "name": "python"
    }
  },
  "cells": [
    {
      "cell_type": "markdown",
      "source": [
        "# Build an Online Roulette Game"
      ],
      "metadata": {
        "id": "d3dPeiu-ob3m"
      }
    },
    {
      "cell_type": "markdown",
      "source": [
        "## 1. Let's Play Red or Black "
      ],
      "metadata": {
        "id": "1W4QGDpUpRdc"
      }
    },
    {
      "cell_type": "code",
      "source": [
        "import random"
      ],
      "metadata": {
        "id": "tD6Nfd8iqDzZ"
      },
      "execution_count": null,
      "outputs": []
    },
    {
      "cell_type": "code",
      "execution_count": 31,
      "metadata": {
        "id": "xVeTFApAoAVF",
        "colab": {
          "base_uri": "https://localhost:8080/"
        },
        "outputId": "83472b8b-1bdd-45e0-e828-a41be19a5c02"
      },
      "outputs": [
        {
          "output_type": "stream",
          "name": "stdout",
          "text": [
            "Roulette's result: black\n",
            "You lost... You now have 900 €\n"
          ]
        }
      ],
      "source": [
        "colour_possibilities = ['red', 'black']\n",
        "user_balance = 1000\n",
        "user_bet_amount = 100\n",
        "user_bet_choice = 'red'\n",
        "\n",
        "roulette_result = random.choice(colour_possibilities)\n",
        "print(\"Roulette's result: %s\" % roulette_result)\n",
        "if roulette_result == user_bet_choice:\n",
        "  user_balance += user_bet_amount * 2\n",
        "  print(\"You won! You now have %d €\" % user_balance)\n",
        "else:\n",
        "  user_balance -= user_bet_amount\n",
        "  print(\"You lost... You now have %d €\" % user_balance)\n"
      ]
    },
    {
      "cell_type": "markdown",
      "source": [
        "## 2. Play it 50 times"
      ],
      "metadata": {
        "id": "J5g37TDLrJo-"
      }
    },
    {
      "cell_type": "code",
      "source": [
        "# assuming the user_bet_amount and user_bet_choice is the same for all rounds\n",
        "# should something happen if our balance gets to zero? Or we just owe the casino then?\n",
        "roulette_results = []\n",
        "for i in range(0, 50):\n",
        "  roulette_results.append(random.choice(colour_possibilities))\n",
        "  print(\"Roulette's result: %s\" % roulette_results[-1])\n",
        "  if roulette_results[-1] == user_bet_choice:\n",
        "    user_balance += user_bet_amount * 2\n",
        "    print(\"You won! You now have %d €\" % user_balance)\n",
        "  else:\n",
        "    user_balance -= user_bet_amount\n",
        "    print(\"You lost... You now have %d €\" % user_balance)"
      ],
      "metadata": {
        "colab": {
          "base_uri": "https://localhost:8080/"
        },
        "id": "9IQmZl3FpvY3",
        "outputId": "b2e894e1-cce9-4ba0-858e-11eff833a2dc"
      },
      "execution_count": 24,
      "outputs": [
        {
          "output_type": "stream",
          "name": "stdout",
          "text": [
            "Roulette's result: black\n",
            "You lost... You now have 19500 €\n",
            "Roulette's result: black\n",
            "You lost... You now have 19400 €\n",
            "Roulette's result: red\n",
            "You won! You now have 19600 €\n",
            "Roulette's result: black\n",
            "You lost... You now have 19500 €\n",
            "Roulette's result: red\n",
            "You won! You now have 19700 €\n",
            "Roulette's result: black\n",
            "You lost... You now have 19600 €\n",
            "Roulette's result: black\n",
            "You lost... You now have 19500 €\n",
            "Roulette's result: black\n",
            "You lost... You now have 19400 €\n",
            "Roulette's result: red\n",
            "You won! You now have 19600 €\n",
            "Roulette's result: red\n",
            "You won! You now have 19800 €\n",
            "Roulette's result: red\n",
            "You won! You now have 20000 €\n",
            "Roulette's result: black\n",
            "You lost... You now have 19900 €\n",
            "Roulette's result: black\n",
            "You lost... You now have 19800 €\n",
            "Roulette's result: black\n",
            "You lost... You now have 19700 €\n",
            "Roulette's result: black\n",
            "You lost... You now have 19600 €\n",
            "Roulette's result: red\n",
            "You won! You now have 19800 €\n",
            "Roulette's result: black\n",
            "You lost... You now have 19700 €\n",
            "Roulette's result: black\n",
            "You lost... You now have 19600 €\n",
            "Roulette's result: red\n",
            "You won! You now have 19800 €\n",
            "Roulette's result: black\n",
            "You lost... You now have 19700 €\n",
            "Roulette's result: black\n",
            "You lost... You now have 19600 €\n",
            "Roulette's result: red\n",
            "You won! You now have 19800 €\n",
            "Roulette's result: black\n",
            "You lost... You now have 19700 €\n",
            "Roulette's result: black\n",
            "You lost... You now have 19600 €\n",
            "Roulette's result: black\n",
            "You lost... You now have 19500 €\n",
            "Roulette's result: black\n",
            "You lost... You now have 19400 €\n",
            "Roulette's result: red\n",
            "You won! You now have 19600 €\n",
            "Roulette's result: black\n",
            "You lost... You now have 19500 €\n",
            "Roulette's result: red\n",
            "You won! You now have 19700 €\n",
            "Roulette's result: black\n",
            "You lost... You now have 19600 €\n",
            "Roulette's result: black\n",
            "You lost... You now have 19500 €\n",
            "Roulette's result: red\n",
            "You won! You now have 19700 €\n",
            "Roulette's result: black\n",
            "You lost... You now have 19600 €\n",
            "Roulette's result: red\n",
            "You won! You now have 19800 €\n",
            "Roulette's result: red\n",
            "You won! You now have 20000 €\n",
            "Roulette's result: red\n",
            "You won! You now have 20200 €\n",
            "Roulette's result: red\n",
            "You won! You now have 20400 €\n",
            "Roulette's result: black\n",
            "You lost... You now have 20300 €\n",
            "Roulette's result: black\n",
            "You lost... You now have 20200 €\n",
            "Roulette's result: red\n",
            "You won! You now have 20400 €\n",
            "Roulette's result: black\n",
            "You lost... You now have 20300 €\n",
            "Roulette's result: red\n",
            "You won! You now have 20500 €\n",
            "Roulette's result: red\n",
            "You won! You now have 20700 €\n",
            "Roulette's result: black\n",
            "You lost... You now have 20600 €\n",
            "Roulette's result: green\n",
            "You lost... You now have 20500 €\n",
            "Roulette's result: red\n",
            "You won! You now have 20700 €\n",
            "Roulette's result: black\n",
            "You lost... You now have 20600 €\n",
            "Roulette's result: black\n",
            "You lost... You now have 20500 €\n",
            "Roulette's result: black\n",
            "You lost... You now have 20400 €\n",
            "Roulette's result: black\n",
            "You lost... You now have 20300 €\n"
          ]
        }
      ]
    },
    {
      "cell_type": "markdown",
      "source": [
        "## 3. The odds are always in favor of the casino"
      ],
      "metadata": {
        "id": "KTHa0Vd1srrI"
      }
    },
    {
      "cell_type": "code",
      "source": [
        "colour_possibilities = ['black'] * 18 + ['red'] * 18 + ['green']\n",
        "roulette_results = []\n",
        "for i in range(0, 50):\n",
        "  roulette_results.append(random.choice(colour_possibilities))\n",
        "  print(\"Roulette's result: %s\" % roulette_results[-1])\n",
        "  if roulette_results[-1] == user_bet_choice:\n",
        "    user_balance += user_bet_amount * 2\n",
        "    print(\"You won! You now have %d €\" % user_balance)\n",
        "  else:\n",
        "    user_balance -= user_bet_amount\n",
        "    print(\"You lost... You now have %d €\" % user_balance)"
      ],
      "metadata": {
        "colab": {
          "base_uri": "https://localhost:8080/"
        },
        "id": "tfrgJxYysNpD",
        "outputId": "ce2c5515-8953-4c8a-bfc2-4df122adccf7"
      },
      "execution_count": 25,
      "outputs": [
        {
          "output_type": "stream",
          "name": "stdout",
          "text": [
            "Roulette's result: red\n",
            "You won! You now have 20500 €\n",
            "Roulette's result: black\n",
            "You lost... You now have 20400 €\n",
            "Roulette's result: black\n",
            "You lost... You now have 20300 €\n",
            "Roulette's result: red\n",
            "You won! You now have 20500 €\n",
            "Roulette's result: black\n",
            "You lost... You now have 20400 €\n",
            "Roulette's result: red\n",
            "You won! You now have 20600 €\n",
            "Roulette's result: black\n",
            "You lost... You now have 20500 €\n",
            "Roulette's result: black\n",
            "You lost... You now have 20400 €\n",
            "Roulette's result: red\n",
            "You won! You now have 20600 €\n",
            "Roulette's result: red\n",
            "You won! You now have 20800 €\n",
            "Roulette's result: green\n",
            "You lost... You now have 20700 €\n",
            "Roulette's result: red\n",
            "You won! You now have 20900 €\n",
            "Roulette's result: red\n",
            "You won! You now have 21100 €\n",
            "Roulette's result: red\n",
            "You won! You now have 21300 €\n",
            "Roulette's result: black\n",
            "You lost... You now have 21200 €\n",
            "Roulette's result: red\n",
            "You won! You now have 21400 €\n",
            "Roulette's result: red\n",
            "You won! You now have 21600 €\n",
            "Roulette's result: black\n",
            "You lost... You now have 21500 €\n",
            "Roulette's result: black\n",
            "You lost... You now have 21400 €\n",
            "Roulette's result: red\n",
            "You won! You now have 21600 €\n",
            "Roulette's result: black\n",
            "You lost... You now have 21500 €\n",
            "Roulette's result: red\n",
            "You won! You now have 21700 €\n",
            "Roulette's result: red\n",
            "You won! You now have 21900 €\n",
            "Roulette's result: black\n",
            "You lost... You now have 21800 €\n",
            "Roulette's result: red\n",
            "You won! You now have 22000 €\n",
            "Roulette's result: black\n",
            "You lost... You now have 21900 €\n",
            "Roulette's result: red\n",
            "You won! You now have 22100 €\n",
            "Roulette's result: red\n",
            "You won! You now have 22300 €\n",
            "Roulette's result: black\n",
            "You lost... You now have 22200 €\n",
            "Roulette's result: red\n",
            "You won! You now have 22400 €\n",
            "Roulette's result: red\n",
            "You won! You now have 22600 €\n",
            "Roulette's result: black\n",
            "You lost... You now have 22500 €\n",
            "Roulette's result: black\n",
            "You lost... You now have 22400 €\n",
            "Roulette's result: red\n",
            "You won! You now have 22600 €\n",
            "Roulette's result: black\n",
            "You lost... You now have 22500 €\n",
            "Roulette's result: black\n",
            "You lost... You now have 22400 €\n",
            "Roulette's result: black\n",
            "You lost... You now have 22300 €\n",
            "Roulette's result: red\n",
            "You won! You now have 22500 €\n",
            "Roulette's result: red\n",
            "You won! You now have 22700 €\n",
            "Roulette's result: red\n",
            "You won! You now have 22900 €\n",
            "Roulette's result: black\n",
            "You lost... You now have 22800 €\n",
            "Roulette's result: red\n",
            "You won! You now have 23000 €\n",
            "Roulette's result: red\n",
            "You won! You now have 23200 €\n",
            "Roulette's result: red\n",
            "You won! You now have 23400 €\n",
            "Roulette's result: red\n",
            "You won! You now have 23600 €\n",
            "Roulette's result: red\n",
            "You won! You now have 23800 €\n",
            "Roulette's result: red\n",
            "You won! You now have 24000 €\n",
            "Roulette's result: red\n",
            "You won! You now have 24200 €\n",
            "Roulette's result: red\n",
            "You won! You now have 24400 €\n",
            "Roulette's result: red\n",
            "You won! You now have 24600 €\n"
          ]
        }
      ]
    },
    {
      "cell_type": "markdown",
      "source": [
        "## 4. Roulette Goes Beyond Colours"
      ],
      "metadata": {
        "id": "vBmiwzxVu2TE"
      }
    },
    {
      "cell_type": "code",
      "source": [
        "# zero is green, odd numbers are red, even numbers are black\n",
        "def roulette_nb_colour(nb):\n",
        "  if nb == 0:\n",
        "    return 'green'\n",
        "  if nb % 2 == 0:\n",
        "    return 'black'\n",
        "  return 'red'\n",
        "\n",
        "def user_bet_is_colour(user_bet_choice):\n",
        "  colours = ['red', 'black', 'green']\n",
        "  return user_bet_choice in colours"
      ],
      "metadata": {
        "id": "rhBM5-jRwZ74"
      },
      "execution_count": 29,
      "outputs": []
    },
    {
      "cell_type": "code",
      "source": [
        "\n",
        "roulette_results = []\n",
        "for i in range(0, 50):\n",
        "  roulette_results.append(random.randint(0, 36))\n",
        "  roulette_result_colour = roulette_nb_colour(roulette_results[-1])\n",
        "  print(\"Roulette's result: %d - %s\" % (roulette_results[-1], roulette_result_colour))\n",
        "  if (not user_bet_is_colour(user_bet_choice) and roulette_results[-1] == user_bet_choice) or (user_bet_is_colour(user_bet_choice) and roulette_result_colour == user_bet_choice):\n",
        "    user_balance += user_bet_amount * 2\n",
        "    print(\"You won! You now have %d €\" % user_balance)\n",
        "  else:\n",
        "    user_balance -= user_bet_amount\n",
        "    print(\"You lost... You now have %d €\" % user_balance)"
      ],
      "metadata": {
        "id": "tsFdN297tfix",
        "colab": {
          "base_uri": "https://localhost:8080/"
        },
        "outputId": "f744082f-095e-4e8a-87b1-ee2ac7d2a19f"
      },
      "execution_count": 32,
      "outputs": [
        {
          "output_type": "stream",
          "name": "stdout",
          "text": [
            "Roulette's result: 19 - red\n",
            "You won! You now have 1100 €\n",
            "Roulette's result: 35 - red\n",
            "You won! You now have 1300 €\n",
            "Roulette's result: 4 - black\n",
            "You lost... You now have 1200 €\n",
            "Roulette's result: 30 - black\n",
            "You lost... You now have 1100 €\n",
            "Roulette's result: 4 - black\n",
            "You lost... You now have 1000 €\n",
            "Roulette's result: 27 - red\n",
            "You won! You now have 1200 €\n",
            "Roulette's result: 5 - red\n",
            "You won! You now have 1400 €\n",
            "Roulette's result: 2 - black\n",
            "You lost... You now have 1300 €\n",
            "Roulette's result: 6 - black\n",
            "You lost... You now have 1200 €\n",
            "Roulette's result: 26 - black\n",
            "You lost... You now have 1100 €\n",
            "Roulette's result: 29 - red\n",
            "You won! You now have 1300 €\n",
            "Roulette's result: 11 - red\n",
            "You won! You now have 1500 €\n",
            "Roulette's result: 30 - black\n",
            "You lost... You now have 1400 €\n",
            "Roulette's result: 32 - black\n",
            "You lost... You now have 1300 €\n",
            "Roulette's result: 2 - black\n",
            "You lost... You now have 1200 €\n",
            "Roulette's result: 1 - red\n",
            "You won! You now have 1400 €\n",
            "Roulette's result: 15 - red\n",
            "You won! You now have 1600 €\n",
            "Roulette's result: 15 - red\n",
            "You won! You now have 1800 €\n",
            "Roulette's result: 33 - red\n",
            "You won! You now have 2000 €\n",
            "Roulette's result: 8 - black\n",
            "You lost... You now have 1900 €\n",
            "Roulette's result: 30 - black\n",
            "You lost... You now have 1800 €\n",
            "Roulette's result: 8 - black\n",
            "You lost... You now have 1700 €\n",
            "Roulette's result: 11 - red\n",
            "You won! You now have 1900 €\n",
            "Roulette's result: 28 - black\n",
            "You lost... You now have 1800 €\n",
            "Roulette's result: 21 - red\n",
            "You won! You now have 2000 €\n",
            "Roulette's result: 2 - black\n",
            "You lost... You now have 1900 €\n",
            "Roulette's result: 1 - red\n",
            "You won! You now have 2100 €\n",
            "Roulette's result: 24 - black\n",
            "You lost... You now have 2000 €\n",
            "Roulette's result: 1 - red\n",
            "You won! You now have 2200 €\n",
            "Roulette's result: 8 - black\n",
            "You lost... You now have 2100 €\n",
            "Roulette's result: 20 - black\n",
            "You lost... You now have 2000 €\n",
            "Roulette's result: 30 - black\n",
            "You lost... You now have 1900 €\n",
            "Roulette's result: 21 - red\n",
            "You won! You now have 2100 €\n",
            "Roulette's result: 19 - red\n",
            "You won! You now have 2300 €\n",
            "Roulette's result: 18 - black\n",
            "You lost... You now have 2200 €\n",
            "Roulette's result: 7 - red\n",
            "You won! You now have 2400 €\n",
            "Roulette's result: 24 - black\n",
            "You lost... You now have 2300 €\n",
            "Roulette's result: 24 - black\n",
            "You lost... You now have 2200 €\n",
            "Roulette's result: 7 - red\n",
            "You won! You now have 2400 €\n",
            "Roulette's result: 8 - black\n",
            "You lost... You now have 2300 €\n",
            "Roulette's result: 21 - red\n",
            "You won! You now have 2500 €\n",
            "Roulette's result: 30 - black\n",
            "You lost... You now have 2400 €\n",
            "Roulette's result: 28 - black\n",
            "You lost... You now have 2300 €\n",
            "Roulette's result: 3 - red\n",
            "You won! You now have 2500 €\n",
            "Roulette's result: 11 - red\n",
            "You won! You now have 2700 €\n",
            "Roulette's result: 35 - red\n",
            "You won! You now have 2900 €\n",
            "Roulette's result: 32 - black\n",
            "You lost... You now have 2800 €\n",
            "Roulette's result: 13 - red\n",
            "You won! You now have 3000 €\n",
            "Roulette's result: 13 - red\n",
            "You won! You now have 3200 €\n",
            "Roulette's result: 17 - red\n",
            "You won! You now have 3400 €\n"
          ]
        }
      ]
    },
    {
      "cell_type": "markdown",
      "source": [
        "## 5. Let's make it playable "
      ],
      "metadata": {
        "id": "katEDmGPyOoD"
      }
    },
    {
      "cell_type": "code",
      "source": [
        "keep_playing = True\n",
        "user_balance = 1000\n",
        "roulette_results = []\n",
        "\n",
        "while keep_playing:\n",
        "  # Get user input for this round\n",
        "  print(\"How much do you want to bet?\")\n",
        "  user_bet_amount = int(input())\n",
        "  if user_bet_amount > user_balance:\n",
        "    print(\"Sorry, you only have %d €\" % user_balance)\n",
        "    continue\n",
        "  print(\"What's your bet?\")\n",
        "  user_bet_choice = input()\n",
        "\n",
        "  # Get roulette results for this round\n",
        "  roulette_results.append(random.randint(0, 36))\n",
        "  roulette_result_colour = roulette_nb_colour(roulette_results[-1])\n",
        "  print(\"Roulette's result: %d - %s\" % (roulette_results[-1], roulette_result_colour))\n",
        "  if (not user_bet_is_colour(user_bet_choice) and roulette_results[-1] == user_bet_choice) or (user_bet_is_colour(user_bet_choice) and roulette_result_colour == user_bet_choice):\n",
        "    user_balance += user_bet_amount * 2\n",
        "    print(\"You won! You now have %d €\" % user_balance)\n",
        "  else:\n",
        "    user_balance -= user_bet_amount\n",
        "    print(\"You lost... You now have %d €\" % user_balance)\n",
        "\n",
        "  # Check if the user can/wants to continue\n",
        "  if user_balance <= 0:\n",
        "    print(\"Sorry, you're bankrupt.\")\n",
        "    keep_playing = False\n",
        "    break\n",
        "  print(\"Would tou like to continue? Answer 'y' or 'n'\")\n",
        "  user_keep_playing = input()\n",
        "  if user_keep_playing == \"n\":\n",
        "    keep_playing = False\n",
        "\n",
        "print(\"Your final balance: %d €\" % user_balance)\n",
        "print(\"Goobye!\")"
      ],
      "metadata": {
        "colab": {
          "base_uri": "https://localhost:8080/"
        },
        "id": "epUDLUz6xphZ",
        "outputId": "a217e9aa-b5f3-4d77-81a6-54cdfd7ea2f1"
      },
      "execution_count": 36,
      "outputs": [
        {
          "output_type": "stream",
          "name": "stdout",
          "text": [
            "How much do you want to bet?\n",
            "1200\n",
            "Sorry, you only have 1000 €\n",
            "How much do you want to bet?\n",
            "1000\n",
            "What's your bet?\n",
            "0\n",
            "Roulette's result: 22 - black\n",
            "You lost... You now have 0 €\n",
            "Sorry, you're bankrupt.\n",
            "Your final balance: 0 €\n",
            "Goobye!\n"
          ]
        }
      ]
    },
    {
      "cell_type": "code",
      "source": [
        ""
      ],
      "metadata": {
        "id": "f1gQxbjX0QGI"
      },
      "execution_count": null,
      "outputs": []
    }
  ]
}