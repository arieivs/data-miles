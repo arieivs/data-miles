{
  "nbformat": 4,
  "nbformat_minor": 0,
  "metadata": {
    "colab": {
      "name": "Mission5.ipynb",
      "provenance": [],
      "collapsed_sections": []
    },
    "kernelspec": {
      "name": "python3",
      "display_name": "Python 3"
    },
    "language_info": {
      "name": "python"
    }
  },
  "cells": [
    {
      "cell_type": "markdown",
      "source": [
        "# Housing Market Data Analysis"
      ],
      "metadata": {
        "id": "PV1VD0VggKnO"
      }
    },
    {
      "cell_type": "markdown",
      "source": [
        "## 1. Work with Python Libraries "
      ],
      "metadata": {
        "id": "5XJpme2Eq2bF"
      }
    },
    {
      "cell_type": "code",
      "execution_count": 2,
      "metadata": {
        "id": "NM_9Q1AMfw7k"
      },
      "outputs": [],
      "source": [
        "# Import libraries\n",
        "import pandas as pd\n",
        "from matplotlib import pyplot as plt"
      ]
    },
    {
      "cell_type": "markdown",
      "source": [
        "## 2. Look, clean and join datasets "
      ],
      "metadata": {
        "id": "wre0YkvMt7tV"
      }
    },
    {
      "cell_type": "code",
      "source": [
        "# Import datasets\n",
        "df_campolide_raw = pd.read_csv(\"/content/drive/MyDrive/Colab Notebooks/campolide.csv\")\n",
        "df_lumiar_houses_raw = pd.read_csv(\"/content/drive/MyDrive/Colab Notebooks/lumiar_house_params.csv\")\n",
        "df_lumiar_ads_raw = pd.read_csv(\"/content/drive/MyDrive/Colab Notebooks/lumiar_title_link.csv\")\n",
        "df_benfica_raw = pd.read_csv(\"/content/drive/MyDrive/Colab Notebooks/sao-domingos-de-benfica.csv\")"
      ],
      "metadata": {
        "id": "_oepLc0ltzKB"
      },
      "execution_count": 4,
      "outputs": []
    },
    {
      "cell_type": "markdown",
      "source": [
        "Testing different methods to understand the structure of the dataset:"
      ],
      "metadata": {
        "id": "TrckbZnx1Z3X"
      }
    },
    {
      "cell_type": "code",
      "source": [
        "df_campolide_raw.columns"
      ],
      "metadata": {
        "colab": {
          "base_uri": "https://localhost:8080/"
        },
        "id": "liexKIqK0dzX",
        "outputId": "0217b046-22bb-4a91-9597-0d0767ae4328"
      },
      "execution_count": 5,
      "outputs": [
        {
          "output_type": "execute_result",
          "data": {
            "text/plain": [
              "Index(['idealista_id', 'typology', 'area_in_m2', 'floor', 'region_parish',\n",
              "       'price_in_euros', 'seller contact', 'link_idealista',\n",
              "       'idealista_ad_title'],\n",
              "      dtype='object')"
            ]
          },
          "metadata": {},
          "execution_count": 5
        }
      ]
    },
    {
      "cell_type": "code",
      "source": [
        "df_lumiar_houses_raw.dtypes"
      ],
      "metadata": {
        "colab": {
          "base_uri": "https://localhost:8080/"
        },
        "id": "AOeNP6rp0xZQ",
        "outputId": "e1c6c2d1-49bf-407d-e48f-d83c41859619"
      },
      "execution_count": 6,
      "outputs": [
        {
          "output_type": "execute_result",
          "data": {
            "text/plain": [
              "id                 int64\n",
              "typology          object\n",
              "area               int64\n",
              "floor             object\n",
              "location          object\n",
              "price              int64\n",
              "seller contact    object\n",
              "dtype: object"
            ]
          },
          "metadata": {},
          "execution_count": 6
        }
      ]
    },
    {
      "cell_type": "code",
      "source": [
        "df_lumiar_ads_raw.shape"
      ],
      "metadata": {
        "colab": {
          "base_uri": "https://localhost:8080/"
        },
        "id": "v9FQ0pre03rs",
        "outputId": "79bb5d6e-0050-47f7-add7-e6565447e309"
      },
      "execution_count": 7,
      "outputs": [
        {
          "output_type": "execute_result",
          "data": {
            "text/plain": [
              "(512, 3)"
            ]
          },
          "metadata": {},
          "execution_count": 7
        }
      ]
    },
    {
      "cell_type": "code",
      "source": [
        "df_lumiar_houses_raw.head(2)"
      ],
      "metadata": {
        "colab": {
          "base_uri": "https://localhost:8080/",
          "height": 112
        },
        "id": "a5WSuKi06JKh",
        "outputId": "97e46a15-693e-4304-970d-5abf87601afe"
      },
      "execution_count": 8,
      "outputs": [
        {
          "output_type": "execute_result",
          "data": {
            "text/plain": [
              "         id typology  area floor location    price seller contact\n",
              "0  30857595      T3    545   NaN   lumiar  1669489      215561507\n",
              "1  30857604      T3    500   NaN   lumiar  1619801      215561507"
            ],
            "text/html": [
              "\n",
              "  <div id=\"df-1eeeb2e3-de66-4ed6-9548-71d51cdb2fca\">\n",
              "    <div class=\"colab-df-container\">\n",
              "      <div>\n",
              "<style scoped>\n",
              "    .dataframe tbody tr th:only-of-type {\n",
              "        vertical-align: middle;\n",
              "    }\n",
              "\n",
              "    .dataframe tbody tr th {\n",
              "        vertical-align: top;\n",
              "    }\n",
              "\n",
              "    .dataframe thead th {\n",
              "        text-align: right;\n",
              "    }\n",
              "</style>\n",
              "<table border=\"1\" class=\"dataframe\">\n",
              "  <thead>\n",
              "    <tr style=\"text-align: right;\">\n",
              "      <th></th>\n",
              "      <th>id</th>\n",
              "      <th>typology</th>\n",
              "      <th>area</th>\n",
              "      <th>floor</th>\n",
              "      <th>location</th>\n",
              "      <th>price</th>\n",
              "      <th>seller contact</th>\n",
              "    </tr>\n",
              "  </thead>\n",
              "  <tbody>\n",
              "    <tr>\n",
              "      <th>0</th>\n",
              "      <td>30857595</td>\n",
              "      <td>T3</td>\n",
              "      <td>545</td>\n",
              "      <td>NaN</td>\n",
              "      <td>lumiar</td>\n",
              "      <td>1669489</td>\n",
              "      <td>215561507</td>\n",
              "    </tr>\n",
              "    <tr>\n",
              "      <th>1</th>\n",
              "      <td>30857604</td>\n",
              "      <td>T3</td>\n",
              "      <td>500</td>\n",
              "      <td>NaN</td>\n",
              "      <td>lumiar</td>\n",
              "      <td>1619801</td>\n",
              "      <td>215561507</td>\n",
              "    </tr>\n",
              "  </tbody>\n",
              "</table>\n",
              "</div>\n",
              "      <button class=\"colab-df-convert\" onclick=\"convertToInteractive('df-1eeeb2e3-de66-4ed6-9548-71d51cdb2fca')\"\n",
              "              title=\"Convert this dataframe to an interactive table.\"\n",
              "              style=\"display:none;\">\n",
              "        \n",
              "  <svg xmlns=\"http://www.w3.org/2000/svg\" height=\"24px\"viewBox=\"0 0 24 24\"\n",
              "       width=\"24px\">\n",
              "    <path d=\"M0 0h24v24H0V0z\" fill=\"none\"/>\n",
              "    <path d=\"M18.56 5.44l.94 2.06.94-2.06 2.06-.94-2.06-.94-.94-2.06-.94 2.06-2.06.94zm-11 1L8.5 8.5l.94-2.06 2.06-.94-2.06-.94L8.5 2.5l-.94 2.06-2.06.94zm10 10l.94 2.06.94-2.06 2.06-.94-2.06-.94-.94-2.06-.94 2.06-2.06.94z\"/><path d=\"M17.41 7.96l-1.37-1.37c-.4-.4-.92-.59-1.43-.59-.52 0-1.04.2-1.43.59L10.3 9.45l-7.72 7.72c-.78.78-.78 2.05 0 2.83L4 21.41c.39.39.9.59 1.41.59.51 0 1.02-.2 1.41-.59l7.78-7.78 2.81-2.81c.8-.78.8-2.07 0-2.86zM5.41 20L4 18.59l7.72-7.72 1.47 1.35L5.41 20z\"/>\n",
              "  </svg>\n",
              "      </button>\n",
              "      \n",
              "  <style>\n",
              "    .colab-df-container {\n",
              "      display:flex;\n",
              "      flex-wrap:wrap;\n",
              "      gap: 12px;\n",
              "    }\n",
              "\n",
              "    .colab-df-convert {\n",
              "      background-color: #E8F0FE;\n",
              "      border: none;\n",
              "      border-radius: 50%;\n",
              "      cursor: pointer;\n",
              "      display: none;\n",
              "      fill: #1967D2;\n",
              "      height: 32px;\n",
              "      padding: 0 0 0 0;\n",
              "      width: 32px;\n",
              "    }\n",
              "\n",
              "    .colab-df-convert:hover {\n",
              "      background-color: #E2EBFA;\n",
              "      box-shadow: 0px 1px 2px rgba(60, 64, 67, 0.3), 0px 1px 3px 1px rgba(60, 64, 67, 0.15);\n",
              "      fill: #174EA6;\n",
              "    }\n",
              "\n",
              "    [theme=dark] .colab-df-convert {\n",
              "      background-color: #3B4455;\n",
              "      fill: #D2E3FC;\n",
              "    }\n",
              "\n",
              "    [theme=dark] .colab-df-convert:hover {\n",
              "      background-color: #434B5C;\n",
              "      box-shadow: 0px 1px 3px 1px rgba(0, 0, 0, 0.15);\n",
              "      filter: drop-shadow(0px 1px 2px rgba(0, 0, 0, 0.3));\n",
              "      fill: #FFFFFF;\n",
              "    }\n",
              "  </style>\n",
              "\n",
              "      <script>\n",
              "        const buttonEl =\n",
              "          document.querySelector('#df-1eeeb2e3-de66-4ed6-9548-71d51cdb2fca button.colab-df-convert');\n",
              "        buttonEl.style.display =\n",
              "          google.colab.kernel.accessAllowed ? 'block' : 'none';\n",
              "\n",
              "        async function convertToInteractive(key) {\n",
              "          const element = document.querySelector('#df-1eeeb2e3-de66-4ed6-9548-71d51cdb2fca');\n",
              "          const dataTable =\n",
              "            await google.colab.kernel.invokeFunction('convertToInteractive',\n",
              "                                                     [key], {});\n",
              "          if (!dataTable) return;\n",
              "\n",
              "          const docLinkHtml = 'Like what you see? Visit the ' +\n",
              "            '<a target=\"_blank\" href=https://colab.research.google.com/notebooks/data_table.ipynb>data table notebook</a>'\n",
              "            + ' to learn more about interactive tables.';\n",
              "          element.innerHTML = '';\n",
              "          dataTable['output_type'] = 'display_data';\n",
              "          await google.colab.output.renderOutput(dataTable, element);\n",
              "          const docLink = document.createElement('div');\n",
              "          docLink.innerHTML = docLinkHtml;\n",
              "          element.appendChild(docLink);\n",
              "        }\n",
              "      </script>\n",
              "    </div>\n",
              "  </div>\n",
              "  "
            ]
          },
          "metadata": {},
          "execution_count": 8
        }
      ]
    },
    {
      "cell_type": "markdown",
      "source": [
        "### 2.1. Renaming columns\n",
        "Goal: id, typology, area_in_m2, floor, region_parish, price_in_euros, seller_contact, link_idealista, idealista_ad_title"
      ],
      "metadata": {
        "id": "c-8tJdvb356P"
      }
    },
    {
      "cell_type": "code",
      "source": [
        "df_campolide = df_campolide_raw.rename(columns={'idealista_id': 'id',\n",
        "                                                'seller contact': 'seller_contact'})"
      ],
      "metadata": {
        "id": "piJAPxvs3j9T"
      },
      "execution_count": 9,
      "outputs": []
    },
    {
      "cell_type": "code",
      "source": [
        "df_lumiar_houses = df_lumiar_houses_raw.rename(columns={'area': 'area_in_m2',\n",
        "                                                        'location': 'region_parish',\n",
        "                                                        'price': 'price_in_euros',\n",
        "                                                        'seller contact': 'seller_contact'})"
      ],
      "metadata": {
        "id": "xkWBp-nG1HqS"
      },
      "execution_count": 10,
      "outputs": []
    },
    {
      "cell_type": "code",
      "source": [
        "df_lumiar_ads = df_lumiar_ads_raw.rename(columns={'link': 'link_idealista',\n",
        "                                                  'title': 'idealista_ad_title'})"
      ],
      "metadata": {
        "id": "zlkJyUV146Cr"
      },
      "execution_count": 11,
      "outputs": []
    },
    {
      "cell_type": "code",
      "source": [
        "df_benfica = df_benfica_raw.rename(columns={'area': 'area_in_m2',\n",
        "                                                'price': 'price_in_euros',\n",
        "                                                'seller contact': 'seller_contact',\n",
        "                                                'link': 'link_idealista',\n",
        "                                                'title': 'idealista_ad_title'})"
      ],
      "metadata": {
        "id": "lrpx0GjF5P7-"
      },
      "execution_count": 12,
      "outputs": []
    },
    {
      "cell_type": "markdown",
      "source": [
        "### 2.2. Add missing columns\n",
        "São Domingos de Benfica is missing the region_parish field, which should be sao-domingos-de-benfica"
      ],
      "metadata": {
        "id": "sO9smD-V51zB"
      }
    },
    {
      "cell_type": "code",
      "source": [
        "df_benfica['region_parish'] = 'sao-domingos-benfica'\n",
        "df_benfica.head(2)"
      ],
      "metadata": {
        "colab": {
          "base_uri": "https://localhost:8080/",
          "height": 246
        },
        "id": "iXI93wCo5lN-",
        "outputId": "d5e6a888-f4d5-4851-d6ec-ab935023e888"
      },
      "execution_count": 13,
      "outputs": [
        {
          "output_type": "execute_result",
          "data": {
            "text/plain": [
              "         id typology  area_in_m2      floor  price_in_euros  seller_contact  \\\n",
              "0  31508143      T1           82  3º andar           330000     925105141.0   \n",
              "1  31509096      T3          130        NaN          450000     215552741.0   \n",
              "\n",
              "                              link_idealista  \\\n",
              "0  https://www.idealista.pt/imovel/31508143/   \n",
              "1  https://www.idealista.pt/imovel/31509096/   \n",
              "\n",
              "                                  idealista_ad_title         region_parish  \n",
              "0  Apartamento T1 na rua Manuel da Fonseca, 4, La...  sao-domingos-benfica  \n",
              "1  Apartamento T3 em Laranjeiras, São Domingos de...  sao-domingos-benfica  "
            ],
            "text/html": [
              "\n",
              "  <div id=\"df-5770bcb0-6b96-4289-91a9-dcf49bc4d05e\">\n",
              "    <div class=\"colab-df-container\">\n",
              "      <div>\n",
              "<style scoped>\n",
              "    .dataframe tbody tr th:only-of-type {\n",
              "        vertical-align: middle;\n",
              "    }\n",
              "\n",
              "    .dataframe tbody tr th {\n",
              "        vertical-align: top;\n",
              "    }\n",
              "\n",
              "    .dataframe thead th {\n",
              "        text-align: right;\n",
              "    }\n",
              "</style>\n",
              "<table border=\"1\" class=\"dataframe\">\n",
              "  <thead>\n",
              "    <tr style=\"text-align: right;\">\n",
              "      <th></th>\n",
              "      <th>id</th>\n",
              "      <th>typology</th>\n",
              "      <th>area_in_m2</th>\n",
              "      <th>floor</th>\n",
              "      <th>price_in_euros</th>\n",
              "      <th>seller_contact</th>\n",
              "      <th>link_idealista</th>\n",
              "      <th>idealista_ad_title</th>\n",
              "      <th>region_parish</th>\n",
              "    </tr>\n",
              "  </thead>\n",
              "  <tbody>\n",
              "    <tr>\n",
              "      <th>0</th>\n",
              "      <td>31508143</td>\n",
              "      <td>T1</td>\n",
              "      <td>82</td>\n",
              "      <td>3º andar</td>\n",
              "      <td>330000</td>\n",
              "      <td>925105141.0</td>\n",
              "      <td>https://www.idealista.pt/imovel/31508143/</td>\n",
              "      <td>Apartamento T1 na rua Manuel da Fonseca, 4, La...</td>\n",
              "      <td>sao-domingos-benfica</td>\n",
              "    </tr>\n",
              "    <tr>\n",
              "      <th>1</th>\n",
              "      <td>31509096</td>\n",
              "      <td>T3</td>\n",
              "      <td>130</td>\n",
              "      <td>NaN</td>\n",
              "      <td>450000</td>\n",
              "      <td>215552741.0</td>\n",
              "      <td>https://www.idealista.pt/imovel/31509096/</td>\n",
              "      <td>Apartamento T3 em Laranjeiras, São Domingos de...</td>\n",
              "      <td>sao-domingos-benfica</td>\n",
              "    </tr>\n",
              "  </tbody>\n",
              "</table>\n",
              "</div>\n",
              "      <button class=\"colab-df-convert\" onclick=\"convertToInteractive('df-5770bcb0-6b96-4289-91a9-dcf49bc4d05e')\"\n",
              "              title=\"Convert this dataframe to an interactive table.\"\n",
              "              style=\"display:none;\">\n",
              "        \n",
              "  <svg xmlns=\"http://www.w3.org/2000/svg\" height=\"24px\"viewBox=\"0 0 24 24\"\n",
              "       width=\"24px\">\n",
              "    <path d=\"M0 0h24v24H0V0z\" fill=\"none\"/>\n",
              "    <path d=\"M18.56 5.44l.94 2.06.94-2.06 2.06-.94-2.06-.94-.94-2.06-.94 2.06-2.06.94zm-11 1L8.5 8.5l.94-2.06 2.06-.94-2.06-.94L8.5 2.5l-.94 2.06-2.06.94zm10 10l.94 2.06.94-2.06 2.06-.94-2.06-.94-.94-2.06-.94 2.06-2.06.94z\"/><path d=\"M17.41 7.96l-1.37-1.37c-.4-.4-.92-.59-1.43-.59-.52 0-1.04.2-1.43.59L10.3 9.45l-7.72 7.72c-.78.78-.78 2.05 0 2.83L4 21.41c.39.39.9.59 1.41.59.51 0 1.02-.2 1.41-.59l7.78-7.78 2.81-2.81c.8-.78.8-2.07 0-2.86zM5.41 20L4 18.59l7.72-7.72 1.47 1.35L5.41 20z\"/>\n",
              "  </svg>\n",
              "      </button>\n",
              "      \n",
              "  <style>\n",
              "    .colab-df-container {\n",
              "      display:flex;\n",
              "      flex-wrap:wrap;\n",
              "      gap: 12px;\n",
              "    }\n",
              "\n",
              "    .colab-df-convert {\n",
              "      background-color: #E8F0FE;\n",
              "      border: none;\n",
              "      border-radius: 50%;\n",
              "      cursor: pointer;\n",
              "      display: none;\n",
              "      fill: #1967D2;\n",
              "      height: 32px;\n",
              "      padding: 0 0 0 0;\n",
              "      width: 32px;\n",
              "    }\n",
              "\n",
              "    .colab-df-convert:hover {\n",
              "      background-color: #E2EBFA;\n",
              "      box-shadow: 0px 1px 2px rgba(60, 64, 67, 0.3), 0px 1px 3px 1px rgba(60, 64, 67, 0.15);\n",
              "      fill: #174EA6;\n",
              "    }\n",
              "\n",
              "    [theme=dark] .colab-df-convert {\n",
              "      background-color: #3B4455;\n",
              "      fill: #D2E3FC;\n",
              "    }\n",
              "\n",
              "    [theme=dark] .colab-df-convert:hover {\n",
              "      background-color: #434B5C;\n",
              "      box-shadow: 0px 1px 3px 1px rgba(0, 0, 0, 0.15);\n",
              "      filter: drop-shadow(0px 1px 2px rgba(0, 0, 0, 0.3));\n",
              "      fill: #FFFFFF;\n",
              "    }\n",
              "  </style>\n",
              "\n",
              "      <script>\n",
              "        const buttonEl =\n",
              "          document.querySelector('#df-5770bcb0-6b96-4289-91a9-dcf49bc4d05e button.colab-df-convert');\n",
              "        buttonEl.style.display =\n",
              "          google.colab.kernel.accessAllowed ? 'block' : 'none';\n",
              "\n",
              "        async function convertToInteractive(key) {\n",
              "          const element = document.querySelector('#df-5770bcb0-6b96-4289-91a9-dcf49bc4d05e');\n",
              "          const dataTable =\n",
              "            await google.colab.kernel.invokeFunction('convertToInteractive',\n",
              "                                                     [key], {});\n",
              "          if (!dataTable) return;\n",
              "\n",
              "          const docLinkHtml = 'Like what you see? Visit the ' +\n",
              "            '<a target=\"_blank\" href=https://colab.research.google.com/notebooks/data_table.ipynb>data table notebook</a>'\n",
              "            + ' to learn more about interactive tables.';\n",
              "          element.innerHTML = '';\n",
              "          dataTable['output_type'] = 'display_data';\n",
              "          await google.colab.output.renderOutput(dataTable, element);\n",
              "          const docLink = document.createElement('div');\n",
              "          docLink.innerHTML = docLinkHtml;\n",
              "          element.appendChild(docLink);\n",
              "        }\n",
              "      </script>\n",
              "    </div>\n",
              "  </div>\n",
              "  "
            ]
          },
          "metadata": {},
          "execution_count": 13
        }
      ]
    },
    {
      "cell_type": "markdown",
      "source": [
        "### 2.3. Check for nulls\n",
        "And... do what with them?"
      ],
      "metadata": {
        "id": "55DWcTxj6pe3"
      }
    },
    {
      "cell_type": "code",
      "source": [
        "df_campolide.isnull().sum()"
      ],
      "metadata": {
        "colab": {
          "base_uri": "https://localhost:8080/"
        },
        "id": "GjfQz7At6iQg",
        "outputId": "4a5af14e-8384-464f-fd8c-b58bb96347f8"
      },
      "execution_count": 14,
      "outputs": [
        {
          "output_type": "execute_result",
          "data": {
            "text/plain": [
              "id                      0\n",
              "typology                0\n",
              "area_in_m2              0\n",
              "floor                 114\n",
              "region_parish           0\n",
              "price_in_euros          0\n",
              "seller_contact          4\n",
              "link_idealista          0\n",
              "idealista_ad_title      0\n",
              "dtype: int64"
            ]
          },
          "metadata": {},
          "execution_count": 14
        }
      ]
    },
    {
      "cell_type": "code",
      "source": [
        "df_lumiar_houses.isnull().sum()"
      ],
      "metadata": {
        "colab": {
          "base_uri": "https://localhost:8080/"
        },
        "id": "mvFDPvCA66Gd",
        "outputId": "422ab665-466e-47a5-b43a-8a9d8cac9524"
      },
      "execution_count": 15,
      "outputs": [
        {
          "output_type": "execute_result",
          "data": {
            "text/plain": [
              "id                  0\n",
              "typology            0\n",
              "area_in_m2          0\n",
              "floor             112\n",
              "region_parish       0\n",
              "price_in_euros      0\n",
              "seller_contact      9\n",
              "dtype: int64"
            ]
          },
          "metadata": {},
          "execution_count": 15
        }
      ]
    },
    {
      "cell_type": "code",
      "source": [
        "df_lumiar_ads.isnull().sum()"
      ],
      "metadata": {
        "colab": {
          "base_uri": "https://localhost:8080/"
        },
        "id": "Vkr9isGT7TFw",
        "outputId": "a111245b-6496-4502-9e92-db7ecc5c4290"
      },
      "execution_count": 16,
      "outputs": [
        {
          "output_type": "execute_result",
          "data": {
            "text/plain": [
              "id                    0\n",
              "link_idealista        0\n",
              "idealista_ad_title    0\n",
              "dtype: int64"
            ]
          },
          "metadata": {},
          "execution_count": 16
        }
      ]
    },
    {
      "cell_type": "code",
      "source": [
        "df_benfica.isnull().sum()"
      ],
      "metadata": {
        "colab": {
          "base_uri": "https://localhost:8080/"
        },
        "id": "hHznMcz87w2x",
        "outputId": "7bb66e74-63aa-43c0-bbd6-0dd4a30f0e98"
      },
      "execution_count": 17,
      "outputs": [
        {
          "output_type": "execute_result",
          "data": {
            "text/plain": [
              "id                      0\n",
              "typology                0\n",
              "area_in_m2              0\n",
              "floor                 107\n",
              "price_in_euros          0\n",
              "seller_contact          6\n",
              "link_idealista          0\n",
              "idealista_ad_title      0\n",
              "region_parish           0\n",
              "dtype: int64"
            ]
          },
          "metadata": {},
          "execution_count": 17
        }
      ]
    },
    {
      "cell_type": "markdown",
      "source": [
        "The absence of floor number doesn't seem super relevant to me. Not sure if i should treat it in any way?\n",
        "Although seller_contact is a number, it's not a number per se, in the sense that I won't be performing mathematical operations on them. So once again, not sure if I should treat them in any way."
      ],
      "metadata": {
        "id": "6Mxky8z_7FJc"
      }
    },
    {
      "cell_type": "markdown",
      "source": [
        "### 2.4. Look for and eliminate duplicates"
      ],
      "metadata": {
        "id": "Mf7L1CN28CCo"
      }
    },
    {
      "cell_type": "code",
      "source": [
        "df_campolide.duplicated('id').sum()"
      ],
      "metadata": {
        "colab": {
          "base_uri": "https://localhost:8080/"
        },
        "id": "grWT-B8R7zwA",
        "outputId": "83024706-a734-4947-beea-be534f37a622"
      },
      "execution_count": 18,
      "outputs": [
        {
          "output_type": "execute_result",
          "data": {
            "text/plain": [
              "13"
            ]
          },
          "metadata": {},
          "execution_count": 18
        }
      ]
    },
    {
      "cell_type": "code",
      "source": [
        "df_campolide = df_campolide.drop_duplicates('id')"
      ],
      "metadata": {
        "id": "akK356sP9m4b"
      },
      "execution_count": 19,
      "outputs": []
    },
    {
      "cell_type": "code",
      "source": [
        "df_lumiar_houses.duplicated('id').sum()"
      ],
      "metadata": {
        "colab": {
          "base_uri": "https://localhost:8080/"
        },
        "id": "EWAPrJSK-C-B",
        "outputId": "d4ffee06-6c71-4cf9-ffd2-83b232876c74"
      },
      "execution_count": 20,
      "outputs": [
        {
          "output_type": "execute_result",
          "data": {
            "text/plain": [
              "0"
            ]
          },
          "metadata": {},
          "execution_count": 20
        }
      ]
    },
    {
      "cell_type": "code",
      "source": [
        "df_lumiar_ads.duplicated('id').sum()"
      ],
      "metadata": {
        "colab": {
          "base_uri": "https://localhost:8080/"
        },
        "id": "71UBg5HQ-T9k",
        "outputId": "8e608134-caa8-4fe7-ce4f-0e686d8f65e3"
      },
      "execution_count": 21,
      "outputs": [
        {
          "output_type": "execute_result",
          "data": {
            "text/plain": [
              "0"
            ]
          },
          "metadata": {},
          "execution_count": 21
        }
      ]
    },
    {
      "cell_type": "code",
      "source": [
        "df_benfica.duplicated('id').sum()"
      ],
      "metadata": {
        "colab": {
          "base_uri": "https://localhost:8080/"
        },
        "id": "SSfJ-uf9-XC5",
        "outputId": "12065079-87a3-49b9-864a-2a2220e8f551"
      },
      "execution_count": 22,
      "outputs": [
        {
          "output_type": "execute_result",
          "data": {
            "text/plain": [
              "0"
            ]
          },
          "metadata": {},
          "execution_count": 22
        }
      ]
    },
    {
      "cell_type": "markdown",
      "source": [
        "### 2.5. Merge complementary datasets"
      ],
      "metadata": {
        "id": "w9tVD_xg-iAv"
      }
    },
    {
      "cell_type": "code",
      "source": [
        "df_lumiar = pd.merge(df_lumiar_houses, df_lumiar_ads, how=\"inner\", on='id', validate='one_to_one')\n",
        "df_lumiar.head(5)"
      ],
      "metadata": {
        "colab": {
          "base_uri": "https://localhost:8080/",
          "height": 409
        },
        "id": "wi1xYfhy-aDR",
        "outputId": "70098e39-d468-48fa-ca3a-89a1a4598dde"
      },
      "execution_count": 23,
      "outputs": [
        {
          "output_type": "execute_result",
          "data": {
            "text/plain": [
              "         id typology  area_in_m2      floor region_parish  price_in_euros  \\\n",
              "0  30857595      T3          545        NaN        lumiar         1669489   \n",
              "1  30857604      T3          500        NaN        lumiar         1619801   \n",
              "2  31508307      T3          190  2º andar         lumiar          648000   \n",
              "3  31492088      T2          111  3º andar         lumiar          335000   \n",
              "4  31492087      T2          125  7º andar         lumiar          400000   \n",
              "\n",
              "  seller_contact                             link_idealista  \\\n",
              "0      215561507  https://www.idealista.pt/imovel/30857595/   \n",
              "1      215561507  https://www.idealista.pt/imovel/30857604/   \n",
              "2      215563197  https://www.idealista.pt/imovel/31508307/   \n",
              "3      215550925  https://www.idealista.pt/imovel/31492088/   \n",
              "4      215550925  https://www.idealista.pt/imovel/31492087/   \n",
              "\n",
              "                                  idealista_ad_title  \n",
              "0                  Moradia em Paço do Lumiar, Lumiar  \n",
              "1                  Moradia em Paço do Lumiar, Lumiar  \n",
              "2  Apartamento T3 na rua Professor Simões Raposo,...  \n",
              "3  Apartamento T2 em Alto do Lumiar - Quinta das ...  \n",
              "4  Apartamento T2 em Alto do Lumiar - Quinta das ...  "
            ],
            "text/html": [
              "\n",
              "  <div id=\"df-0a67010a-8f47-49cc-a467-b88828de5761\">\n",
              "    <div class=\"colab-df-container\">\n",
              "      <div>\n",
              "<style scoped>\n",
              "    .dataframe tbody tr th:only-of-type {\n",
              "        vertical-align: middle;\n",
              "    }\n",
              "\n",
              "    .dataframe tbody tr th {\n",
              "        vertical-align: top;\n",
              "    }\n",
              "\n",
              "    .dataframe thead th {\n",
              "        text-align: right;\n",
              "    }\n",
              "</style>\n",
              "<table border=\"1\" class=\"dataframe\">\n",
              "  <thead>\n",
              "    <tr style=\"text-align: right;\">\n",
              "      <th></th>\n",
              "      <th>id</th>\n",
              "      <th>typology</th>\n",
              "      <th>area_in_m2</th>\n",
              "      <th>floor</th>\n",
              "      <th>region_parish</th>\n",
              "      <th>price_in_euros</th>\n",
              "      <th>seller_contact</th>\n",
              "      <th>link_idealista</th>\n",
              "      <th>idealista_ad_title</th>\n",
              "    </tr>\n",
              "  </thead>\n",
              "  <tbody>\n",
              "    <tr>\n",
              "      <th>0</th>\n",
              "      <td>30857595</td>\n",
              "      <td>T3</td>\n",
              "      <td>545</td>\n",
              "      <td>NaN</td>\n",
              "      <td>lumiar</td>\n",
              "      <td>1669489</td>\n",
              "      <td>215561507</td>\n",
              "      <td>https://www.idealista.pt/imovel/30857595/</td>\n",
              "      <td>Moradia em Paço do Lumiar, Lumiar</td>\n",
              "    </tr>\n",
              "    <tr>\n",
              "      <th>1</th>\n",
              "      <td>30857604</td>\n",
              "      <td>T3</td>\n",
              "      <td>500</td>\n",
              "      <td>NaN</td>\n",
              "      <td>lumiar</td>\n",
              "      <td>1619801</td>\n",
              "      <td>215561507</td>\n",
              "      <td>https://www.idealista.pt/imovel/30857604/</td>\n",
              "      <td>Moradia em Paço do Lumiar, Lumiar</td>\n",
              "    </tr>\n",
              "    <tr>\n",
              "      <th>2</th>\n",
              "      <td>31508307</td>\n",
              "      <td>T3</td>\n",
              "      <td>190</td>\n",
              "      <td>2º andar</td>\n",
              "      <td>lumiar</td>\n",
              "      <td>648000</td>\n",
              "      <td>215563197</td>\n",
              "      <td>https://www.idealista.pt/imovel/31508307/</td>\n",
              "      <td>Apartamento T3 na rua Professor Simões Raposo,...</td>\n",
              "    </tr>\n",
              "    <tr>\n",
              "      <th>3</th>\n",
              "      <td>31492088</td>\n",
              "      <td>T2</td>\n",
              "      <td>111</td>\n",
              "      <td>3º andar</td>\n",
              "      <td>lumiar</td>\n",
              "      <td>335000</td>\n",
              "      <td>215550925</td>\n",
              "      <td>https://www.idealista.pt/imovel/31492088/</td>\n",
              "      <td>Apartamento T2 em Alto do Lumiar - Quinta das ...</td>\n",
              "    </tr>\n",
              "    <tr>\n",
              "      <th>4</th>\n",
              "      <td>31492087</td>\n",
              "      <td>T2</td>\n",
              "      <td>125</td>\n",
              "      <td>7º andar</td>\n",
              "      <td>lumiar</td>\n",
              "      <td>400000</td>\n",
              "      <td>215550925</td>\n",
              "      <td>https://www.idealista.pt/imovel/31492087/</td>\n",
              "      <td>Apartamento T2 em Alto do Lumiar - Quinta das ...</td>\n",
              "    </tr>\n",
              "  </tbody>\n",
              "</table>\n",
              "</div>\n",
              "      <button class=\"colab-df-convert\" onclick=\"convertToInteractive('df-0a67010a-8f47-49cc-a467-b88828de5761')\"\n",
              "              title=\"Convert this dataframe to an interactive table.\"\n",
              "              style=\"display:none;\">\n",
              "        \n",
              "  <svg xmlns=\"http://www.w3.org/2000/svg\" height=\"24px\"viewBox=\"0 0 24 24\"\n",
              "       width=\"24px\">\n",
              "    <path d=\"M0 0h24v24H0V0z\" fill=\"none\"/>\n",
              "    <path d=\"M18.56 5.44l.94 2.06.94-2.06 2.06-.94-2.06-.94-.94-2.06-.94 2.06-2.06.94zm-11 1L8.5 8.5l.94-2.06 2.06-.94-2.06-.94L8.5 2.5l-.94 2.06-2.06.94zm10 10l.94 2.06.94-2.06 2.06-.94-2.06-.94-.94-2.06-.94 2.06-2.06.94z\"/><path d=\"M17.41 7.96l-1.37-1.37c-.4-.4-.92-.59-1.43-.59-.52 0-1.04.2-1.43.59L10.3 9.45l-7.72 7.72c-.78.78-.78 2.05 0 2.83L4 21.41c.39.39.9.59 1.41.59.51 0 1.02-.2 1.41-.59l7.78-7.78 2.81-2.81c.8-.78.8-2.07 0-2.86zM5.41 20L4 18.59l7.72-7.72 1.47 1.35L5.41 20z\"/>\n",
              "  </svg>\n",
              "      </button>\n",
              "      \n",
              "  <style>\n",
              "    .colab-df-container {\n",
              "      display:flex;\n",
              "      flex-wrap:wrap;\n",
              "      gap: 12px;\n",
              "    }\n",
              "\n",
              "    .colab-df-convert {\n",
              "      background-color: #E8F0FE;\n",
              "      border: none;\n",
              "      border-radius: 50%;\n",
              "      cursor: pointer;\n",
              "      display: none;\n",
              "      fill: #1967D2;\n",
              "      height: 32px;\n",
              "      padding: 0 0 0 0;\n",
              "      width: 32px;\n",
              "    }\n",
              "\n",
              "    .colab-df-convert:hover {\n",
              "      background-color: #E2EBFA;\n",
              "      box-shadow: 0px 1px 2px rgba(60, 64, 67, 0.3), 0px 1px 3px 1px rgba(60, 64, 67, 0.15);\n",
              "      fill: #174EA6;\n",
              "    }\n",
              "\n",
              "    [theme=dark] .colab-df-convert {\n",
              "      background-color: #3B4455;\n",
              "      fill: #D2E3FC;\n",
              "    }\n",
              "\n",
              "    [theme=dark] .colab-df-convert:hover {\n",
              "      background-color: #434B5C;\n",
              "      box-shadow: 0px 1px 3px 1px rgba(0, 0, 0, 0.15);\n",
              "      filter: drop-shadow(0px 1px 2px rgba(0, 0, 0, 0.3));\n",
              "      fill: #FFFFFF;\n",
              "    }\n",
              "  </style>\n",
              "\n",
              "      <script>\n",
              "        const buttonEl =\n",
              "          document.querySelector('#df-0a67010a-8f47-49cc-a467-b88828de5761 button.colab-df-convert');\n",
              "        buttonEl.style.display =\n",
              "          google.colab.kernel.accessAllowed ? 'block' : 'none';\n",
              "\n",
              "        async function convertToInteractive(key) {\n",
              "          const element = document.querySelector('#df-0a67010a-8f47-49cc-a467-b88828de5761');\n",
              "          const dataTable =\n",
              "            await google.colab.kernel.invokeFunction('convertToInteractive',\n",
              "                                                     [key], {});\n",
              "          if (!dataTable) return;\n",
              "\n",
              "          const docLinkHtml = 'Like what you see? Visit the ' +\n",
              "            '<a target=\"_blank\" href=https://colab.research.google.com/notebooks/data_table.ipynb>data table notebook</a>'\n",
              "            + ' to learn more about interactive tables.';\n",
              "          element.innerHTML = '';\n",
              "          dataTable['output_type'] = 'display_data';\n",
              "          await google.colab.output.renderOutput(dataTable, element);\n",
              "          const docLink = document.createElement('div');\n",
              "          docLink.innerHTML = docLinkHtml;\n",
              "          element.appendChild(docLink);\n",
              "        }\n",
              "      </script>\n",
              "    </div>\n",
              "  </div>\n",
              "  "
            ]
          },
          "metadata": {},
          "execution_count": 23
        }
      ]
    },
    {
      "cell_type": "markdown",
      "source": [
        "### 2.6. Concatenate all the datasets"
      ],
      "metadata": {
        "id": "faEWUlS9AZ0n"
      }
    },
    {
      "cell_type": "code",
      "source": [
        "df_houses = pd.concat([df_campolide, df_lumiar, df_benfica])\n",
        "df_houses"
      ],
      "metadata": {
        "colab": {
          "base_uri": "https://localhost:8080/",
          "height": 835
        },
        "id": "2kZKohGOAIAV",
        "outputId": "3d843faf-3f82-4532-b58b-806c154fc29f"
      },
      "execution_count": 98,
      "outputs": [
        {
          "output_type": "execute_result",
          "data": {
            "text/plain": [
              "           id typology  area_in_m2      floor         region_parish  \\\n",
              "0    31508669      T2          101                        campolide   \n",
              "1    30319965      T3          160  7º andar              campolide   \n",
              "2    29897687      T2           92  1º andar              campolide   \n",
              "3    29893223      T2           92  1º andar              campolide   \n",
              "4    29897703      T2           97  5º andar              campolide   \n",
              "..        ...      ...         ...        ...                   ...   \n",
              "423  29517697      T6          197        NaN  sao-domingos-benfica   \n",
              "424  29509972      T2           88  5º andar   sao-domingos-benfica   \n",
              "425  29099794      T4          226             sao-domingos-benfica   \n",
              "426  28988900      T1           69        NaN  sao-domingos-benfica   \n",
              "427  28102675      T5          208             sao-domingos-benfica   \n",
              "\n",
              "     price_in_euros seller_contact                             link_idealista  \\\n",
              "0            520000    210062154.0  https://www.idealista.pt/imovel/31508669/   \n",
              "1           1370000    215553642.0  https://www.idealista.pt/imovel/30319965/   \n",
              "2            700000    215553642.0  https://www.idealista.pt/imovel/29897687/   \n",
              "3            700000    215553642.0  https://www.idealista.pt/imovel/29893223/   \n",
              "4            780000    215553642.0  https://www.idealista.pt/imovel/29897703/   \n",
              "..              ...            ...                                        ...   \n",
              "423          680000    215561712.0  https://www.idealista.pt/imovel/29517697/   \n",
              "424          330000    215550638.0  https://www.idealista.pt/imovel/29509972/   \n",
              "425          750000    289987045.0  https://www.idealista.pt/imovel/29099794/   \n",
              "426          320000    215552854.0  https://www.idealista.pt/imovel/28988900/   \n",
              "427          900000    215553184.0  https://www.idealista.pt/imovel/28102675/   \n",
              "\n",
              "                                    idealista_ad_title  \n",
              "0    Apartamento T2 em Centro - Nova Campolide, Cam...  \n",
              "1    Apartamento T3 em Centro - Nova Campolide, Cam...  \n",
              "2    Apartamento T2 em Centro - Nova Campolide, Cam...  \n",
              "3    Apartamento T2 em Centro - Nova Campolide, Cam...  \n",
              "4    Apartamento T2 em Centro - Nova Campolide, Cam...  \n",
              "..                                                 ...  \n",
              "423  Apartamento T6 em Estrada de Benfica, São Domi...  \n",
              "424  Apartamento T2 na estrada soeiros, Alto dos Mo...  \n",
              "425  Apartamento T4 em Alto dos Moinhos, São Doming...  \n",
              "426  Apartamento T1 na estrada da Luz, s/n, Alto do...  \n",
              "427  Apartamento T5 em Alto dos Moinhos, São Doming...  \n",
              "\n",
              "[1459 rows x 9 columns]"
            ],
            "text/html": [
              "\n",
              "  <div id=\"df-3c2b7e0b-2ab0-41f7-9a18-8588b3d78645\">\n",
              "    <div class=\"colab-df-container\">\n",
              "      <div>\n",
              "<style scoped>\n",
              "    .dataframe tbody tr th:only-of-type {\n",
              "        vertical-align: middle;\n",
              "    }\n",
              "\n",
              "    .dataframe tbody tr th {\n",
              "        vertical-align: top;\n",
              "    }\n",
              "\n",
              "    .dataframe thead th {\n",
              "        text-align: right;\n",
              "    }\n",
              "</style>\n",
              "<table border=\"1\" class=\"dataframe\">\n",
              "  <thead>\n",
              "    <tr style=\"text-align: right;\">\n",
              "      <th></th>\n",
              "      <th>id</th>\n",
              "      <th>typology</th>\n",
              "      <th>area_in_m2</th>\n",
              "      <th>floor</th>\n",
              "      <th>region_parish</th>\n",
              "      <th>price_in_euros</th>\n",
              "      <th>seller_contact</th>\n",
              "      <th>link_idealista</th>\n",
              "      <th>idealista_ad_title</th>\n",
              "    </tr>\n",
              "  </thead>\n",
              "  <tbody>\n",
              "    <tr>\n",
              "      <th>0</th>\n",
              "      <td>31508669</td>\n",
              "      <td>T2</td>\n",
              "      <td>101</td>\n",
              "      <td></td>\n",
              "      <td>campolide</td>\n",
              "      <td>520000</td>\n",
              "      <td>210062154.0</td>\n",
              "      <td>https://www.idealista.pt/imovel/31508669/</td>\n",
              "      <td>Apartamento T2 em Centro - Nova Campolide, Cam...</td>\n",
              "    </tr>\n",
              "    <tr>\n",
              "      <th>1</th>\n",
              "      <td>30319965</td>\n",
              "      <td>T3</td>\n",
              "      <td>160</td>\n",
              "      <td>7º andar</td>\n",
              "      <td>campolide</td>\n",
              "      <td>1370000</td>\n",
              "      <td>215553642.0</td>\n",
              "      <td>https://www.idealista.pt/imovel/30319965/</td>\n",
              "      <td>Apartamento T3 em Centro - Nova Campolide, Cam...</td>\n",
              "    </tr>\n",
              "    <tr>\n",
              "      <th>2</th>\n",
              "      <td>29897687</td>\n",
              "      <td>T2</td>\n",
              "      <td>92</td>\n",
              "      <td>1º andar</td>\n",
              "      <td>campolide</td>\n",
              "      <td>700000</td>\n",
              "      <td>215553642.0</td>\n",
              "      <td>https://www.idealista.pt/imovel/29897687/</td>\n",
              "      <td>Apartamento T2 em Centro - Nova Campolide, Cam...</td>\n",
              "    </tr>\n",
              "    <tr>\n",
              "      <th>3</th>\n",
              "      <td>29893223</td>\n",
              "      <td>T2</td>\n",
              "      <td>92</td>\n",
              "      <td>1º andar</td>\n",
              "      <td>campolide</td>\n",
              "      <td>700000</td>\n",
              "      <td>215553642.0</td>\n",
              "      <td>https://www.idealista.pt/imovel/29893223/</td>\n",
              "      <td>Apartamento T2 em Centro - Nova Campolide, Cam...</td>\n",
              "    </tr>\n",
              "    <tr>\n",
              "      <th>4</th>\n",
              "      <td>29897703</td>\n",
              "      <td>T2</td>\n",
              "      <td>97</td>\n",
              "      <td>5º andar</td>\n",
              "      <td>campolide</td>\n",
              "      <td>780000</td>\n",
              "      <td>215553642.0</td>\n",
              "      <td>https://www.idealista.pt/imovel/29897703/</td>\n",
              "      <td>Apartamento T2 em Centro - Nova Campolide, Cam...</td>\n",
              "    </tr>\n",
              "    <tr>\n",
              "      <th>...</th>\n",
              "      <td>...</td>\n",
              "      <td>...</td>\n",
              "      <td>...</td>\n",
              "      <td>...</td>\n",
              "      <td>...</td>\n",
              "      <td>...</td>\n",
              "      <td>...</td>\n",
              "      <td>...</td>\n",
              "      <td>...</td>\n",
              "    </tr>\n",
              "    <tr>\n",
              "      <th>423</th>\n",
              "      <td>29517697</td>\n",
              "      <td>T6</td>\n",
              "      <td>197</td>\n",
              "      <td>NaN</td>\n",
              "      <td>sao-domingos-benfica</td>\n",
              "      <td>680000</td>\n",
              "      <td>215561712.0</td>\n",
              "      <td>https://www.idealista.pt/imovel/29517697/</td>\n",
              "      <td>Apartamento T6 em Estrada de Benfica, São Domi...</td>\n",
              "    </tr>\n",
              "    <tr>\n",
              "      <th>424</th>\n",
              "      <td>29509972</td>\n",
              "      <td>T2</td>\n",
              "      <td>88</td>\n",
              "      <td>5º andar</td>\n",
              "      <td>sao-domingos-benfica</td>\n",
              "      <td>330000</td>\n",
              "      <td>215550638.0</td>\n",
              "      <td>https://www.idealista.pt/imovel/29509972/</td>\n",
              "      <td>Apartamento T2 na estrada soeiros, Alto dos Mo...</td>\n",
              "    </tr>\n",
              "    <tr>\n",
              "      <th>425</th>\n",
              "      <td>29099794</td>\n",
              "      <td>T4</td>\n",
              "      <td>226</td>\n",
              "      <td></td>\n",
              "      <td>sao-domingos-benfica</td>\n",
              "      <td>750000</td>\n",
              "      <td>289987045.0</td>\n",
              "      <td>https://www.idealista.pt/imovel/29099794/</td>\n",
              "      <td>Apartamento T4 em Alto dos Moinhos, São Doming...</td>\n",
              "    </tr>\n",
              "    <tr>\n",
              "      <th>426</th>\n",
              "      <td>28988900</td>\n",
              "      <td>T1</td>\n",
              "      <td>69</td>\n",
              "      <td>NaN</td>\n",
              "      <td>sao-domingos-benfica</td>\n",
              "      <td>320000</td>\n",
              "      <td>215552854.0</td>\n",
              "      <td>https://www.idealista.pt/imovel/28988900/</td>\n",
              "      <td>Apartamento T1 na estrada da Luz, s/n, Alto do...</td>\n",
              "    </tr>\n",
              "    <tr>\n",
              "      <th>427</th>\n",
              "      <td>28102675</td>\n",
              "      <td>T5</td>\n",
              "      <td>208</td>\n",
              "      <td></td>\n",
              "      <td>sao-domingos-benfica</td>\n",
              "      <td>900000</td>\n",
              "      <td>215553184.0</td>\n",
              "      <td>https://www.idealista.pt/imovel/28102675/</td>\n",
              "      <td>Apartamento T5 em Alto dos Moinhos, São Doming...</td>\n",
              "    </tr>\n",
              "  </tbody>\n",
              "</table>\n",
              "<p>1459 rows × 9 columns</p>\n",
              "</div>\n",
              "      <button class=\"colab-df-convert\" onclick=\"convertToInteractive('df-3c2b7e0b-2ab0-41f7-9a18-8588b3d78645')\"\n",
              "              title=\"Convert this dataframe to an interactive table.\"\n",
              "              style=\"display:none;\">\n",
              "        \n",
              "  <svg xmlns=\"http://www.w3.org/2000/svg\" height=\"24px\"viewBox=\"0 0 24 24\"\n",
              "       width=\"24px\">\n",
              "    <path d=\"M0 0h24v24H0V0z\" fill=\"none\"/>\n",
              "    <path d=\"M18.56 5.44l.94 2.06.94-2.06 2.06-.94-2.06-.94-.94-2.06-.94 2.06-2.06.94zm-11 1L8.5 8.5l.94-2.06 2.06-.94-2.06-.94L8.5 2.5l-.94 2.06-2.06.94zm10 10l.94 2.06.94-2.06 2.06-.94-2.06-.94-.94-2.06-.94 2.06-2.06.94z\"/><path d=\"M17.41 7.96l-1.37-1.37c-.4-.4-.92-.59-1.43-.59-.52 0-1.04.2-1.43.59L10.3 9.45l-7.72 7.72c-.78.78-.78 2.05 0 2.83L4 21.41c.39.39.9.59 1.41.59.51 0 1.02-.2 1.41-.59l7.78-7.78 2.81-2.81c.8-.78.8-2.07 0-2.86zM5.41 20L4 18.59l7.72-7.72 1.47 1.35L5.41 20z\"/>\n",
              "  </svg>\n",
              "      </button>\n",
              "      \n",
              "  <style>\n",
              "    .colab-df-container {\n",
              "      display:flex;\n",
              "      flex-wrap:wrap;\n",
              "      gap: 12px;\n",
              "    }\n",
              "\n",
              "    .colab-df-convert {\n",
              "      background-color: #E8F0FE;\n",
              "      border: none;\n",
              "      border-radius: 50%;\n",
              "      cursor: pointer;\n",
              "      display: none;\n",
              "      fill: #1967D2;\n",
              "      height: 32px;\n",
              "      padding: 0 0 0 0;\n",
              "      width: 32px;\n",
              "    }\n",
              "\n",
              "    .colab-df-convert:hover {\n",
              "      background-color: #E2EBFA;\n",
              "      box-shadow: 0px 1px 2px rgba(60, 64, 67, 0.3), 0px 1px 3px 1px rgba(60, 64, 67, 0.15);\n",
              "      fill: #174EA6;\n",
              "    }\n",
              "\n",
              "    [theme=dark] .colab-df-convert {\n",
              "      background-color: #3B4455;\n",
              "      fill: #D2E3FC;\n",
              "    }\n",
              "\n",
              "    [theme=dark] .colab-df-convert:hover {\n",
              "      background-color: #434B5C;\n",
              "      box-shadow: 0px 1px 3px 1px rgba(0, 0, 0, 0.15);\n",
              "      filter: drop-shadow(0px 1px 2px rgba(0, 0, 0, 0.3));\n",
              "      fill: #FFFFFF;\n",
              "    }\n",
              "  </style>\n",
              "\n",
              "      <script>\n",
              "        const buttonEl =\n",
              "          document.querySelector('#df-3c2b7e0b-2ab0-41f7-9a18-8588b3d78645 button.colab-df-convert');\n",
              "        buttonEl.style.display =\n",
              "          google.colab.kernel.accessAllowed ? 'block' : 'none';\n",
              "\n",
              "        async function convertToInteractive(key) {\n",
              "          const element = document.querySelector('#df-3c2b7e0b-2ab0-41f7-9a18-8588b3d78645');\n",
              "          const dataTable =\n",
              "            await google.colab.kernel.invokeFunction('convertToInteractive',\n",
              "                                                     [key], {});\n",
              "          if (!dataTable) return;\n",
              "\n",
              "          const docLinkHtml = 'Like what you see? Visit the ' +\n",
              "            '<a target=\"_blank\" href=https://colab.research.google.com/notebooks/data_table.ipynb>data table notebook</a>'\n",
              "            + ' to learn more about interactive tables.';\n",
              "          element.innerHTML = '';\n",
              "          dataTable['output_type'] = 'display_data';\n",
              "          await google.colab.output.renderOutput(dataTable, element);\n",
              "          const docLink = document.createElement('div');\n",
              "          docLink.innerHTML = docLinkHtml;\n",
              "          element.appendChild(docLink);\n",
              "        }\n",
              "      </script>\n",
              "    </div>\n",
              "  </div>\n",
              "  "
            ]
          },
          "metadata": {},
          "execution_count": 98
        }
      ]
    },
    {
      "cell_type": "markdown",
      "source": [
        "## 3. Prepare your dataset"
      ],
      "metadata": {
        "id": "iYx6YP_IAs05"
      }
    },
    {
      "cell_type": "markdown",
      "source": [
        "### 3.1. Create a column of price per square meter using series operations"
      ],
      "metadata": {
        "id": "zJNbccHVCj2u"
      }
    },
    {
      "cell_type": "code",
      "source": [
        "df_houses['price_per_m2'] = df_houses['price_in_euros'] / df_houses['area_in_m2']\n",
        "df_houses.head(2)"
      ],
      "metadata": {
        "colab": {
          "base_uri": "https://localhost:8080/",
          "height": 246
        },
        "id": "hvNvBVJSAnIi",
        "outputId": "36bd2889-9cd2-4845-abfb-5707a72cc7a0"
      },
      "execution_count": 99,
      "outputs": [
        {
          "output_type": "execute_result",
          "data": {
            "text/plain": [
              "         id typology  area_in_m2      floor region_parish  price_in_euros  \\\n",
              "0  31508669      T2          101                campolide          520000   \n",
              "1  30319965      T3          160  7º andar      campolide         1370000   \n",
              "\n",
              "  seller_contact                             link_idealista  \\\n",
              "0    210062154.0  https://www.idealista.pt/imovel/31508669/   \n",
              "1    215553642.0  https://www.idealista.pt/imovel/30319965/   \n",
              "\n",
              "                                  idealista_ad_title  price_per_m2  \n",
              "0  Apartamento T2 em Centro - Nova Campolide, Cam...   5148.514851  \n",
              "1  Apartamento T3 em Centro - Nova Campolide, Cam...   8562.500000  "
            ],
            "text/html": [
              "\n",
              "  <div id=\"df-58f67946-01f5-48fc-8715-651db54591a0\">\n",
              "    <div class=\"colab-df-container\">\n",
              "      <div>\n",
              "<style scoped>\n",
              "    .dataframe tbody tr th:only-of-type {\n",
              "        vertical-align: middle;\n",
              "    }\n",
              "\n",
              "    .dataframe tbody tr th {\n",
              "        vertical-align: top;\n",
              "    }\n",
              "\n",
              "    .dataframe thead th {\n",
              "        text-align: right;\n",
              "    }\n",
              "</style>\n",
              "<table border=\"1\" class=\"dataframe\">\n",
              "  <thead>\n",
              "    <tr style=\"text-align: right;\">\n",
              "      <th></th>\n",
              "      <th>id</th>\n",
              "      <th>typology</th>\n",
              "      <th>area_in_m2</th>\n",
              "      <th>floor</th>\n",
              "      <th>region_parish</th>\n",
              "      <th>price_in_euros</th>\n",
              "      <th>seller_contact</th>\n",
              "      <th>link_idealista</th>\n",
              "      <th>idealista_ad_title</th>\n",
              "      <th>price_per_m2</th>\n",
              "    </tr>\n",
              "  </thead>\n",
              "  <tbody>\n",
              "    <tr>\n",
              "      <th>0</th>\n",
              "      <td>31508669</td>\n",
              "      <td>T2</td>\n",
              "      <td>101</td>\n",
              "      <td></td>\n",
              "      <td>campolide</td>\n",
              "      <td>520000</td>\n",
              "      <td>210062154.0</td>\n",
              "      <td>https://www.idealista.pt/imovel/31508669/</td>\n",
              "      <td>Apartamento T2 em Centro - Nova Campolide, Cam...</td>\n",
              "      <td>5148.514851</td>\n",
              "    </tr>\n",
              "    <tr>\n",
              "      <th>1</th>\n",
              "      <td>30319965</td>\n",
              "      <td>T3</td>\n",
              "      <td>160</td>\n",
              "      <td>7º andar</td>\n",
              "      <td>campolide</td>\n",
              "      <td>1370000</td>\n",
              "      <td>215553642.0</td>\n",
              "      <td>https://www.idealista.pt/imovel/30319965/</td>\n",
              "      <td>Apartamento T3 em Centro - Nova Campolide, Cam...</td>\n",
              "      <td>8562.500000</td>\n",
              "    </tr>\n",
              "  </tbody>\n",
              "</table>\n",
              "</div>\n",
              "      <button class=\"colab-df-convert\" onclick=\"convertToInteractive('df-58f67946-01f5-48fc-8715-651db54591a0')\"\n",
              "              title=\"Convert this dataframe to an interactive table.\"\n",
              "              style=\"display:none;\">\n",
              "        \n",
              "  <svg xmlns=\"http://www.w3.org/2000/svg\" height=\"24px\"viewBox=\"0 0 24 24\"\n",
              "       width=\"24px\">\n",
              "    <path d=\"M0 0h24v24H0V0z\" fill=\"none\"/>\n",
              "    <path d=\"M18.56 5.44l.94 2.06.94-2.06 2.06-.94-2.06-.94-.94-2.06-.94 2.06-2.06.94zm-11 1L8.5 8.5l.94-2.06 2.06-.94-2.06-.94L8.5 2.5l-.94 2.06-2.06.94zm10 10l.94 2.06.94-2.06 2.06-.94-2.06-.94-.94-2.06-.94 2.06-2.06.94z\"/><path d=\"M17.41 7.96l-1.37-1.37c-.4-.4-.92-.59-1.43-.59-.52 0-1.04.2-1.43.59L10.3 9.45l-7.72 7.72c-.78.78-.78 2.05 0 2.83L4 21.41c.39.39.9.59 1.41.59.51 0 1.02-.2 1.41-.59l7.78-7.78 2.81-2.81c.8-.78.8-2.07 0-2.86zM5.41 20L4 18.59l7.72-7.72 1.47 1.35L5.41 20z\"/>\n",
              "  </svg>\n",
              "      </button>\n",
              "      \n",
              "  <style>\n",
              "    .colab-df-container {\n",
              "      display:flex;\n",
              "      flex-wrap:wrap;\n",
              "      gap: 12px;\n",
              "    }\n",
              "\n",
              "    .colab-df-convert {\n",
              "      background-color: #E8F0FE;\n",
              "      border: none;\n",
              "      border-radius: 50%;\n",
              "      cursor: pointer;\n",
              "      display: none;\n",
              "      fill: #1967D2;\n",
              "      height: 32px;\n",
              "      padding: 0 0 0 0;\n",
              "      width: 32px;\n",
              "    }\n",
              "\n",
              "    .colab-df-convert:hover {\n",
              "      background-color: #E2EBFA;\n",
              "      box-shadow: 0px 1px 2px rgba(60, 64, 67, 0.3), 0px 1px 3px 1px rgba(60, 64, 67, 0.15);\n",
              "      fill: #174EA6;\n",
              "    }\n",
              "\n",
              "    [theme=dark] .colab-df-convert {\n",
              "      background-color: #3B4455;\n",
              "      fill: #D2E3FC;\n",
              "    }\n",
              "\n",
              "    [theme=dark] .colab-df-convert:hover {\n",
              "      background-color: #434B5C;\n",
              "      box-shadow: 0px 1px 3px 1px rgba(0, 0, 0, 0.15);\n",
              "      filter: drop-shadow(0px 1px 2px rgba(0, 0, 0, 0.3));\n",
              "      fill: #FFFFFF;\n",
              "    }\n",
              "  </style>\n",
              "\n",
              "      <script>\n",
              "        const buttonEl =\n",
              "          document.querySelector('#df-58f67946-01f5-48fc-8715-651db54591a0 button.colab-df-convert');\n",
              "        buttonEl.style.display =\n",
              "          google.colab.kernel.accessAllowed ? 'block' : 'none';\n",
              "\n",
              "        async function convertToInteractive(key) {\n",
              "          const element = document.querySelector('#df-58f67946-01f5-48fc-8715-651db54591a0');\n",
              "          const dataTable =\n",
              "            await google.colab.kernel.invokeFunction('convertToInteractive',\n",
              "                                                     [key], {});\n",
              "          if (!dataTable) return;\n",
              "\n",
              "          const docLinkHtml = 'Like what you see? Visit the ' +\n",
              "            '<a target=\"_blank\" href=https://colab.research.google.com/notebooks/data_table.ipynb>data table notebook</a>'\n",
              "            + ' to learn more about interactive tables.';\n",
              "          element.innerHTML = '';\n",
              "          dataTable['output_type'] = 'display_data';\n",
              "          await google.colab.output.renderOutput(dataTable, element);\n",
              "          const docLink = document.createElement('div');\n",
              "          docLink.innerHTML = docLinkHtml;\n",
              "          element.appendChild(docLink);\n",
              "        }\n",
              "      </script>\n",
              "    </div>\n",
              "  </div>\n",
              "  "
            ]
          },
          "metadata": {},
          "execution_count": 99
        }
      ]
    },
    {
      "cell_type": "markdown",
      "source": [
        "### 3.2. Extract the house type - “apartamento”, “moradia”, etc. - from the “title” column"
      ],
      "metadata": {
        "id": "QuQMOLGOEhNw"
      }
    },
    {
      "cell_type": "code",
      "source": [
        "df_houses['idealista_ad_title'].str.partition()[0].str.strip(',').unique()"
      ],
      "metadata": {
        "colab": {
          "base_uri": "https://localhost:8080/"
        },
        "id": "Wtd3tpaEDoon",
        "outputId": "f7b53fe7-79a3-4e7d-d081-185d017981f0"
      },
      "execution_count": 100,
      "outputs": [
        {
          "output_type": "execute_result",
          "data": {
            "text/plain": [
              "array(['Apartamento', 'Moradia', 'Duplex', 'Penthouse', 'Palácio',\n",
              "       'Herdade', 'Andar'], dtype=object)"
            ]
          },
          "metadata": {},
          "execution_count": 100
        }
      ]
    },
    {
      "cell_type": "code",
      "source": [
        "df_houses['house_type'] = df_houses['idealista_ad_title'].str.partition()[0].str.strip(',')\n",
        "df_houses.head(2)"
      ],
      "metadata": {
        "colab": {
          "base_uri": "https://localhost:8080/",
          "height": 246
        },
        "id": "wszoSlOsD8Wa",
        "outputId": "a0e4c895-6c16-4564-bc93-9b5ef9c94d18"
      },
      "execution_count": 101,
      "outputs": [
        {
          "output_type": "execute_result",
          "data": {
            "text/plain": [
              "         id typology  area_in_m2      floor region_parish  price_in_euros  \\\n",
              "0  31508669      T2          101                campolide          520000   \n",
              "1  30319965      T3          160  7º andar      campolide         1370000   \n",
              "\n",
              "  seller_contact                             link_idealista  \\\n",
              "0    210062154.0  https://www.idealista.pt/imovel/31508669/   \n",
              "1    215553642.0  https://www.idealista.pt/imovel/30319965/   \n",
              "\n",
              "                                  idealista_ad_title  price_per_m2  \\\n",
              "0  Apartamento T2 em Centro - Nova Campolide, Cam...   5148.514851   \n",
              "1  Apartamento T3 em Centro - Nova Campolide, Cam...   8562.500000   \n",
              "\n",
              "    house_type  \n",
              "0  Apartamento  \n",
              "1  Apartamento  "
            ],
            "text/html": [
              "\n",
              "  <div id=\"df-f816a3b2-1643-40c2-9c2b-e3b7a9eb02a3\">\n",
              "    <div class=\"colab-df-container\">\n",
              "      <div>\n",
              "<style scoped>\n",
              "    .dataframe tbody tr th:only-of-type {\n",
              "        vertical-align: middle;\n",
              "    }\n",
              "\n",
              "    .dataframe tbody tr th {\n",
              "        vertical-align: top;\n",
              "    }\n",
              "\n",
              "    .dataframe thead th {\n",
              "        text-align: right;\n",
              "    }\n",
              "</style>\n",
              "<table border=\"1\" class=\"dataframe\">\n",
              "  <thead>\n",
              "    <tr style=\"text-align: right;\">\n",
              "      <th></th>\n",
              "      <th>id</th>\n",
              "      <th>typology</th>\n",
              "      <th>area_in_m2</th>\n",
              "      <th>floor</th>\n",
              "      <th>region_parish</th>\n",
              "      <th>price_in_euros</th>\n",
              "      <th>seller_contact</th>\n",
              "      <th>link_idealista</th>\n",
              "      <th>idealista_ad_title</th>\n",
              "      <th>price_per_m2</th>\n",
              "      <th>house_type</th>\n",
              "    </tr>\n",
              "  </thead>\n",
              "  <tbody>\n",
              "    <tr>\n",
              "      <th>0</th>\n",
              "      <td>31508669</td>\n",
              "      <td>T2</td>\n",
              "      <td>101</td>\n",
              "      <td></td>\n",
              "      <td>campolide</td>\n",
              "      <td>520000</td>\n",
              "      <td>210062154.0</td>\n",
              "      <td>https://www.idealista.pt/imovel/31508669/</td>\n",
              "      <td>Apartamento T2 em Centro - Nova Campolide, Cam...</td>\n",
              "      <td>5148.514851</td>\n",
              "      <td>Apartamento</td>\n",
              "    </tr>\n",
              "    <tr>\n",
              "      <th>1</th>\n",
              "      <td>30319965</td>\n",
              "      <td>T3</td>\n",
              "      <td>160</td>\n",
              "      <td>7º andar</td>\n",
              "      <td>campolide</td>\n",
              "      <td>1370000</td>\n",
              "      <td>215553642.0</td>\n",
              "      <td>https://www.idealista.pt/imovel/30319965/</td>\n",
              "      <td>Apartamento T3 em Centro - Nova Campolide, Cam...</td>\n",
              "      <td>8562.500000</td>\n",
              "      <td>Apartamento</td>\n",
              "    </tr>\n",
              "  </tbody>\n",
              "</table>\n",
              "</div>\n",
              "      <button class=\"colab-df-convert\" onclick=\"convertToInteractive('df-f816a3b2-1643-40c2-9c2b-e3b7a9eb02a3')\"\n",
              "              title=\"Convert this dataframe to an interactive table.\"\n",
              "              style=\"display:none;\">\n",
              "        \n",
              "  <svg xmlns=\"http://www.w3.org/2000/svg\" height=\"24px\"viewBox=\"0 0 24 24\"\n",
              "       width=\"24px\">\n",
              "    <path d=\"M0 0h24v24H0V0z\" fill=\"none\"/>\n",
              "    <path d=\"M18.56 5.44l.94 2.06.94-2.06 2.06-.94-2.06-.94-.94-2.06-.94 2.06-2.06.94zm-11 1L8.5 8.5l.94-2.06 2.06-.94-2.06-.94L8.5 2.5l-.94 2.06-2.06.94zm10 10l.94 2.06.94-2.06 2.06-.94-2.06-.94-.94-2.06-.94 2.06-2.06.94z\"/><path d=\"M17.41 7.96l-1.37-1.37c-.4-.4-.92-.59-1.43-.59-.52 0-1.04.2-1.43.59L10.3 9.45l-7.72 7.72c-.78.78-.78 2.05 0 2.83L4 21.41c.39.39.9.59 1.41.59.51 0 1.02-.2 1.41-.59l7.78-7.78 2.81-2.81c.8-.78.8-2.07 0-2.86zM5.41 20L4 18.59l7.72-7.72 1.47 1.35L5.41 20z\"/>\n",
              "  </svg>\n",
              "      </button>\n",
              "      \n",
              "  <style>\n",
              "    .colab-df-container {\n",
              "      display:flex;\n",
              "      flex-wrap:wrap;\n",
              "      gap: 12px;\n",
              "    }\n",
              "\n",
              "    .colab-df-convert {\n",
              "      background-color: #E8F0FE;\n",
              "      border: none;\n",
              "      border-radius: 50%;\n",
              "      cursor: pointer;\n",
              "      display: none;\n",
              "      fill: #1967D2;\n",
              "      height: 32px;\n",
              "      padding: 0 0 0 0;\n",
              "      width: 32px;\n",
              "    }\n",
              "\n",
              "    .colab-df-convert:hover {\n",
              "      background-color: #E2EBFA;\n",
              "      box-shadow: 0px 1px 2px rgba(60, 64, 67, 0.3), 0px 1px 3px 1px rgba(60, 64, 67, 0.15);\n",
              "      fill: #174EA6;\n",
              "    }\n",
              "\n",
              "    [theme=dark] .colab-df-convert {\n",
              "      background-color: #3B4455;\n",
              "      fill: #D2E3FC;\n",
              "    }\n",
              "\n",
              "    [theme=dark] .colab-df-convert:hover {\n",
              "      background-color: #434B5C;\n",
              "      box-shadow: 0px 1px 3px 1px rgba(0, 0, 0, 0.15);\n",
              "      filter: drop-shadow(0px 1px 2px rgba(0, 0, 0, 0.3));\n",
              "      fill: #FFFFFF;\n",
              "    }\n",
              "  </style>\n",
              "\n",
              "      <script>\n",
              "        const buttonEl =\n",
              "          document.querySelector('#df-f816a3b2-1643-40c2-9c2b-e3b7a9eb02a3 button.colab-df-convert');\n",
              "        buttonEl.style.display =\n",
              "          google.colab.kernel.accessAllowed ? 'block' : 'none';\n",
              "\n",
              "        async function convertToInteractive(key) {\n",
              "          const element = document.querySelector('#df-f816a3b2-1643-40c2-9c2b-e3b7a9eb02a3');\n",
              "          const dataTable =\n",
              "            await google.colab.kernel.invokeFunction('convertToInteractive',\n",
              "                                                     [key], {});\n",
              "          if (!dataTable) return;\n",
              "\n",
              "          const docLinkHtml = 'Like what you see? Visit the ' +\n",
              "            '<a target=\"_blank\" href=https://colab.research.google.com/notebooks/data_table.ipynb>data table notebook</a>'\n",
              "            + ' to learn more about interactive tables.';\n",
              "          element.innerHTML = '';\n",
              "          dataTable['output_type'] = 'display_data';\n",
              "          await google.colab.output.renderOutput(dataTable, element);\n",
              "          const docLink = document.createElement('div');\n",
              "          docLink.innerHTML = docLinkHtml;\n",
              "          element.appendChild(docLink);\n",
              "        }\n",
              "      </script>\n",
              "    </div>\n",
              "  </div>\n",
              "  "
            ]
          },
          "metadata": {},
          "execution_count": 101
        }
      ]
    },
    {
      "cell_type": "code",
      "source": [
        "df_houses['house_type'].unique()"
      ],
      "metadata": {
        "colab": {
          "base_uri": "https://localhost:8080/"
        },
        "id": "ziYAr1BzF9UE",
        "outputId": "189ee493-9a1f-4984-9598-5fd50881bad8"
      },
      "execution_count": 102,
      "outputs": [
        {
          "output_type": "execute_result",
          "data": {
            "text/plain": [
              "array(['Apartamento', 'Moradia', 'Duplex', 'Penthouse', 'Palácio',\n",
              "       'Herdade', 'Andar'], dtype=object)"
            ]
          },
          "metadata": {},
          "execution_count": 102
        }
      ]
    },
    {
      "cell_type": "markdown",
      "source": [
        "### 3.3. Extract the sub_region data from the title column"
      ],
      "metadata": {
        "id": "uFxuV_fPIKIA"
      }
    },
    {
      "cell_type": "code",
      "source": [
        "def get_subparish_from_title(title):\n",
        "  sub_parish = title.rpartition(',')[0].rpartition(',')[2].strip()\n",
        "  if ' na ' in sub_parish:\n",
        "    return sub_parish.rpartition(' na ')[2]\n",
        "  if ' em ' in sub_parish:\n",
        "    return sub_parish.rpartition(' em ')[2]\n",
        "  return sub_parish\n",
        "df_houses['idealista_ad_title'].apply(get_subparish_from_title).unique()\n"
      ],
      "metadata": {
        "colab": {
          "base_uri": "https://localhost:8080/"
        },
        "id": "YWM67hqjJfRr",
        "outputId": "2216d96f-c199-4ffa-c7bb-1d4a26ef6924"
      },
      "execution_count": 103,
      "outputs": [
        {
          "output_type": "execute_result",
          "data": {
            "text/plain": [
              "array(['Centro - Nova Campolide',\n",
              "       'Bairro da Serafina - Bairro da Liberdade',\n",
              "       'Praça de Espanha - Sete Rios', 'Bairro Calçada dos Mestres',\n",
              "       'Paço do Lumiar', 'Telheiras',\n",
              "       'Alto do Lumiar - Quinta das Conchas - Quinta do Lambert',\n",
              "       'Carriche - Hospital das Forças Armadas', 'Centro',\n",
              "       'Quinta dos Alcoutins', 'Laranjeiras', 'Alto dos Moinhos',\n",
              "       'Estrada de Benfica', 'Sete Rios'], dtype=object)"
            ]
          },
          "metadata": {},
          "execution_count": 103
        }
      ]
    },
    {
      "cell_type": "code",
      "source": [
        "df_houses['sub_parish'] = df_houses['idealista_ad_title'].apply(get_subparish_from_title)\n",
        "df_houses.head(2)"
      ],
      "metadata": {
        "colab": {
          "base_uri": "https://localhost:8080/",
          "height": 246
        },
        "id": "B6QrI2dNJ2Ik",
        "outputId": "019bcff8-ce2b-4ef5-be00-c88a7cf45beb"
      },
      "execution_count": 104,
      "outputs": [
        {
          "output_type": "execute_result",
          "data": {
            "text/plain": [
              "         id typology  area_in_m2      floor region_parish  price_in_euros  \\\n",
              "0  31508669      T2          101                campolide          520000   \n",
              "1  30319965      T3          160  7º andar      campolide         1370000   \n",
              "\n",
              "  seller_contact                             link_idealista  \\\n",
              "0    210062154.0  https://www.idealista.pt/imovel/31508669/   \n",
              "1    215553642.0  https://www.idealista.pt/imovel/30319965/   \n",
              "\n",
              "                                  idealista_ad_title  price_per_m2  \\\n",
              "0  Apartamento T2 em Centro - Nova Campolide, Cam...   5148.514851   \n",
              "1  Apartamento T3 em Centro - Nova Campolide, Cam...   8562.500000   \n",
              "\n",
              "    house_type               sub_parish  \n",
              "0  Apartamento  Centro - Nova Campolide  \n",
              "1  Apartamento  Centro - Nova Campolide  "
            ],
            "text/html": [
              "\n",
              "  <div id=\"df-9d0295dc-f532-46db-8a36-c3bfd8765cf0\">\n",
              "    <div class=\"colab-df-container\">\n",
              "      <div>\n",
              "<style scoped>\n",
              "    .dataframe tbody tr th:only-of-type {\n",
              "        vertical-align: middle;\n",
              "    }\n",
              "\n",
              "    .dataframe tbody tr th {\n",
              "        vertical-align: top;\n",
              "    }\n",
              "\n",
              "    .dataframe thead th {\n",
              "        text-align: right;\n",
              "    }\n",
              "</style>\n",
              "<table border=\"1\" class=\"dataframe\">\n",
              "  <thead>\n",
              "    <tr style=\"text-align: right;\">\n",
              "      <th></th>\n",
              "      <th>id</th>\n",
              "      <th>typology</th>\n",
              "      <th>area_in_m2</th>\n",
              "      <th>floor</th>\n",
              "      <th>region_parish</th>\n",
              "      <th>price_in_euros</th>\n",
              "      <th>seller_contact</th>\n",
              "      <th>link_idealista</th>\n",
              "      <th>idealista_ad_title</th>\n",
              "      <th>price_per_m2</th>\n",
              "      <th>house_type</th>\n",
              "      <th>sub_parish</th>\n",
              "    </tr>\n",
              "  </thead>\n",
              "  <tbody>\n",
              "    <tr>\n",
              "      <th>0</th>\n",
              "      <td>31508669</td>\n",
              "      <td>T2</td>\n",
              "      <td>101</td>\n",
              "      <td></td>\n",
              "      <td>campolide</td>\n",
              "      <td>520000</td>\n",
              "      <td>210062154.0</td>\n",
              "      <td>https://www.idealista.pt/imovel/31508669/</td>\n",
              "      <td>Apartamento T2 em Centro - Nova Campolide, Cam...</td>\n",
              "      <td>5148.514851</td>\n",
              "      <td>Apartamento</td>\n",
              "      <td>Centro - Nova Campolide</td>\n",
              "    </tr>\n",
              "    <tr>\n",
              "      <th>1</th>\n",
              "      <td>30319965</td>\n",
              "      <td>T3</td>\n",
              "      <td>160</td>\n",
              "      <td>7º andar</td>\n",
              "      <td>campolide</td>\n",
              "      <td>1370000</td>\n",
              "      <td>215553642.0</td>\n",
              "      <td>https://www.idealista.pt/imovel/30319965/</td>\n",
              "      <td>Apartamento T3 em Centro - Nova Campolide, Cam...</td>\n",
              "      <td>8562.500000</td>\n",
              "      <td>Apartamento</td>\n",
              "      <td>Centro - Nova Campolide</td>\n",
              "    </tr>\n",
              "  </tbody>\n",
              "</table>\n",
              "</div>\n",
              "      <button class=\"colab-df-convert\" onclick=\"convertToInteractive('df-9d0295dc-f532-46db-8a36-c3bfd8765cf0')\"\n",
              "              title=\"Convert this dataframe to an interactive table.\"\n",
              "              style=\"display:none;\">\n",
              "        \n",
              "  <svg xmlns=\"http://www.w3.org/2000/svg\" height=\"24px\"viewBox=\"0 0 24 24\"\n",
              "       width=\"24px\">\n",
              "    <path d=\"M0 0h24v24H0V0z\" fill=\"none\"/>\n",
              "    <path d=\"M18.56 5.44l.94 2.06.94-2.06 2.06-.94-2.06-.94-.94-2.06-.94 2.06-2.06.94zm-11 1L8.5 8.5l.94-2.06 2.06-.94-2.06-.94L8.5 2.5l-.94 2.06-2.06.94zm10 10l.94 2.06.94-2.06 2.06-.94-2.06-.94-.94-2.06-.94 2.06-2.06.94z\"/><path d=\"M17.41 7.96l-1.37-1.37c-.4-.4-.92-.59-1.43-.59-.52 0-1.04.2-1.43.59L10.3 9.45l-7.72 7.72c-.78.78-.78 2.05 0 2.83L4 21.41c.39.39.9.59 1.41.59.51 0 1.02-.2 1.41-.59l7.78-7.78 2.81-2.81c.8-.78.8-2.07 0-2.86zM5.41 20L4 18.59l7.72-7.72 1.47 1.35L5.41 20z\"/>\n",
              "  </svg>\n",
              "      </button>\n",
              "      \n",
              "  <style>\n",
              "    .colab-df-container {\n",
              "      display:flex;\n",
              "      flex-wrap:wrap;\n",
              "      gap: 12px;\n",
              "    }\n",
              "\n",
              "    .colab-df-convert {\n",
              "      background-color: #E8F0FE;\n",
              "      border: none;\n",
              "      border-radius: 50%;\n",
              "      cursor: pointer;\n",
              "      display: none;\n",
              "      fill: #1967D2;\n",
              "      height: 32px;\n",
              "      padding: 0 0 0 0;\n",
              "      width: 32px;\n",
              "    }\n",
              "\n",
              "    .colab-df-convert:hover {\n",
              "      background-color: #E2EBFA;\n",
              "      box-shadow: 0px 1px 2px rgba(60, 64, 67, 0.3), 0px 1px 3px 1px rgba(60, 64, 67, 0.15);\n",
              "      fill: #174EA6;\n",
              "    }\n",
              "\n",
              "    [theme=dark] .colab-df-convert {\n",
              "      background-color: #3B4455;\n",
              "      fill: #D2E3FC;\n",
              "    }\n",
              "\n",
              "    [theme=dark] .colab-df-convert:hover {\n",
              "      background-color: #434B5C;\n",
              "      box-shadow: 0px 1px 3px 1px rgba(0, 0, 0, 0.15);\n",
              "      filter: drop-shadow(0px 1px 2px rgba(0, 0, 0, 0.3));\n",
              "      fill: #FFFFFF;\n",
              "    }\n",
              "  </style>\n",
              "\n",
              "      <script>\n",
              "        const buttonEl =\n",
              "          document.querySelector('#df-9d0295dc-f532-46db-8a36-c3bfd8765cf0 button.colab-df-convert');\n",
              "        buttonEl.style.display =\n",
              "          google.colab.kernel.accessAllowed ? 'block' : 'none';\n",
              "\n",
              "        async function convertToInteractive(key) {\n",
              "          const element = document.querySelector('#df-9d0295dc-f532-46db-8a36-c3bfd8765cf0');\n",
              "          const dataTable =\n",
              "            await google.colab.kernel.invokeFunction('convertToInteractive',\n",
              "                                                     [key], {});\n",
              "          if (!dataTable) return;\n",
              "\n",
              "          const docLinkHtml = 'Like what you see? Visit the ' +\n",
              "            '<a target=\"_blank\" href=https://colab.research.google.com/notebooks/data_table.ipynb>data table notebook</a>'\n",
              "            + ' to learn more about interactive tables.';\n",
              "          element.innerHTML = '';\n",
              "          dataTable['output_type'] = 'display_data';\n",
              "          await google.colab.output.renderOutput(dataTable, element);\n",
              "          const docLink = document.createElement('div');\n",
              "          docLink.innerHTML = docLinkHtml;\n",
              "          element.appendChild(docLink);\n",
              "        }\n",
              "      </script>\n",
              "    </div>\n",
              "  </div>\n",
              "  "
            ]
          },
          "metadata": {},
          "execution_count": 104
        }
      ]
    },
    {
      "cell_type": "code",
      "source": [
        "df_houses['sub_parish'].unique()"
      ],
      "metadata": {
        "colab": {
          "base_uri": "https://localhost:8080/"
        },
        "id": "0rXKspik15IJ",
        "outputId": "8048e872-21ab-4e57-c143-16b7be8606d1"
      },
      "execution_count": 105,
      "outputs": [
        {
          "output_type": "execute_result",
          "data": {
            "text/plain": [
              "array(['Centro - Nova Campolide',\n",
              "       'Bairro da Serafina - Bairro da Liberdade',\n",
              "       'Praça de Espanha - Sete Rios', 'Bairro Calçada dos Mestres',\n",
              "       'Paço do Lumiar', 'Telheiras',\n",
              "       'Alto do Lumiar - Quinta das Conchas - Quinta do Lambert',\n",
              "       'Carriche - Hospital das Forças Armadas', 'Centro',\n",
              "       'Quinta dos Alcoutins', 'Laranjeiras', 'Alto dos Moinhos',\n",
              "       'Estrada de Benfica', 'Sete Rios'], dtype=object)"
            ]
          },
          "metadata": {},
          "execution_count": 105
        }
      ]
    },
    {
      "cell_type": "markdown",
      "source": [
        "### 3.4. Transform the floor column to take only the floor number"
      ],
      "metadata": {
        "id": "ebu1bIFTjl2t"
      }
    },
    {
      "cell_type": "code",
      "source": [
        "df_houses['floor'].unique()"
      ],
      "metadata": {
        "colab": {
          "base_uri": "https://localhost:8080/"
        },
        "id": "wjEbUwKInmOU",
        "outputId": "07b6fd1d-2258-45a7-ca58-a884c7bfe189"
      },
      "execution_count": 106,
      "outputs": [
        {
          "output_type": "execute_result",
          "data": {
            "text/plain": [
              "array([' ', '7º andar ', '1º andar ', '5º andar ', '2º andar ',\n",
              "       '3º andar ', '4º andar ', '6º andar ', nan, '9º andar ',\n",
              "       '16º andar ', 'Rés do chão ', '10º andar ', '15º andar ',\n",
              "       '8º andar ', '17º andar ', '21º andar ', '11º andar ',\n",
              "       '19º andar ', '22º andar ', '14º andar ', 'Entreplanta ', 'Cave ',\n",
              "       '13º andar ', '12º andar ', 'Andar -1 ', 'Sub cave '], dtype=object)"
            ]
          },
          "metadata": {},
          "execution_count": 106
        }
      ]
    },
    {
      "cell_type": "code",
      "source": [
        "def get_floor_nb(floor):\n",
        "  # if pd.isna(floor) or floor.strip() == \"Entreplanta\": return None\n",
        "  if floor.strip() == \"Rés do chão\": return 0\n",
        "  if \"cave\" in floor.lower(): return -1\n",
        "  nb_floor = \"\".join(list(filter(lambda x: x.isdigit() or x == '-', floor)))\n",
        "  if any(x.isdigit() for x in nb_floor): return int(nb_floor)\n",
        "  return None\n",
        "\n",
        "floors = [' ', '7º andar ', '1º andar ', '5º andar ', '2º andar ',\n",
        "          '3º andar ', '4º andar ', '6º andar ', '9º andar ',\n",
        "          '16º andar ', 'Rés do chão ', '10º andar ', '15º andar ',\n",
        "          '8º andar ', '17º andar ', '21º andar ', '11º andar ',\n",
        "          '19º andar ', '22º andar ', '14º andar ', 'Entreplanta ', 'Cave ',\n",
        "          '13º andar ', '12º andar ', 'Andar -1 ', 'Sub cave ']\n",
        "for floor in floors:\n",
        "  get_floor_nb(floor)"
      ],
      "metadata": {
        "id": "gIwFr4H9jjIu"
      },
      "execution_count": 107,
      "outputs": []
    },
    {
      "cell_type": "code",
      "source": [
        "df_houses['floor'] = df_houses['floor'].map(get_floor_nb, na_action=\"ignore\")\n",
        "df_houses['floor'].unique()"
      ],
      "metadata": {
        "colab": {
          "base_uri": "https://localhost:8080/"
        },
        "id": "OOqJwx5JlE_9",
        "outputId": "e82bdbcc-1922-4341-c83b-3435da5e4bc0"
      },
      "execution_count": 108,
      "outputs": [
        {
          "output_type": "execute_result",
          "data": {
            "text/plain": [
              "array([nan,  7.,  1.,  5.,  2.,  3.,  4.,  6.,  9., 16.,  0., 10., 15.,\n",
              "        8., 17., 21., 11., 19., 22., 14., -1., 13., 12.])"
            ]
          },
          "metadata": {},
          "execution_count": 108
        }
      ]
    },
    {
      "cell_type": "markdown",
      "source": [
        "## 3.5. Extract the number of bedrooms from the typology column"
      ],
      "metadata": {
        "id": "O9dq1olitIE1"
      }
    },
    {
      "cell_type": "code",
      "source": [
        "df_houses['typology'].unique()"
      ],
      "metadata": {
        "colab": {
          "base_uri": "https://localhost:8080/"
        },
        "id": "tTJZArBTqDYR",
        "outputId": "ba53b81f-86b5-4559-c55d-762fda5a69e2"
      },
      "execution_count": 109,
      "outputs": [
        {
          "output_type": "execute_result",
          "data": {
            "text/plain": [
              "array(['T2 ', 'T3 ', 'T1 ', 'T0 ', 'T4 ', 'T5 ', 'T7 ', 'T6 ', 'T9 ',\n",
              "       'T8 ', 'T10 '], dtype=object)"
            ]
          },
          "metadata": {},
          "execution_count": 109
        }
      ]
    },
    {
      "cell_type": "code",
      "source": [
        "df_houses['typology'].str[1].astype(int)"
      ],
      "metadata": {
        "colab": {
          "base_uri": "https://localhost:8080/"
        },
        "id": "hTEE9Ui3wKij",
        "outputId": "7064a626-dac9-4061-9968-e6d3d0ba99f2"
      },
      "execution_count": 110,
      "outputs": [
        {
          "output_type": "execute_result",
          "data": {
            "text/plain": [
              "0      2\n",
              "1      3\n",
              "2      2\n",
              "3      2\n",
              "4      2\n",
              "      ..\n",
              "423    6\n",
              "424    2\n",
              "425    4\n",
              "426    1\n",
              "427    5\n",
              "Name: typology, Length: 1459, dtype: int64"
            ]
          },
          "metadata": {},
          "execution_count": 110
        }
      ]
    },
    {
      "cell_type": "code",
      "source": [
        "df_houses['nb_rooms'] = df_houses['typology'].str[1].astype(int)\n",
        "df_houses.head(5)"
      ],
      "metadata": {
        "colab": {
          "base_uri": "https://localhost:8080/",
          "height": 444
        },
        "id": "CmZtF3rUwYY7",
        "outputId": "c7c4923d-2402-42f9-80ab-b240730d79b6"
      },
      "execution_count": 111,
      "outputs": [
        {
          "output_type": "execute_result",
          "data": {
            "text/plain": [
              "         id typology  area_in_m2  floor region_parish  price_in_euros  \\\n",
              "0  31508669      T2          101    NaN     campolide          520000   \n",
              "1  30319965      T3          160    7.0     campolide         1370000   \n",
              "2  29897687      T2           92    1.0     campolide          700000   \n",
              "3  29893223      T2           92    1.0     campolide          700000   \n",
              "4  29897703      T2           97    5.0     campolide          780000   \n",
              "\n",
              "  seller_contact                             link_idealista  \\\n",
              "0    210062154.0  https://www.idealista.pt/imovel/31508669/   \n",
              "1    215553642.0  https://www.idealista.pt/imovel/30319965/   \n",
              "2    215553642.0  https://www.idealista.pt/imovel/29897687/   \n",
              "3    215553642.0  https://www.idealista.pt/imovel/29893223/   \n",
              "4    215553642.0  https://www.idealista.pt/imovel/29897703/   \n",
              "\n",
              "                                  idealista_ad_title  price_per_m2  \\\n",
              "0  Apartamento T2 em Centro - Nova Campolide, Cam...   5148.514851   \n",
              "1  Apartamento T3 em Centro - Nova Campolide, Cam...   8562.500000   \n",
              "2  Apartamento T2 em Centro - Nova Campolide, Cam...   7608.695652   \n",
              "3  Apartamento T2 em Centro - Nova Campolide, Cam...   7608.695652   \n",
              "4  Apartamento T2 em Centro - Nova Campolide, Cam...   8041.237113   \n",
              "\n",
              "    house_type               sub_parish  nb_rooms  \n",
              "0  Apartamento  Centro - Nova Campolide         2  \n",
              "1  Apartamento  Centro - Nova Campolide         3  \n",
              "2  Apartamento  Centro - Nova Campolide         2  \n",
              "3  Apartamento  Centro - Nova Campolide         2  \n",
              "4  Apartamento  Centro - Nova Campolide         2  "
            ],
            "text/html": [
              "\n",
              "  <div id=\"df-ee12b3d1-b571-4139-bf6d-88f4f54d7fb1\">\n",
              "    <div class=\"colab-df-container\">\n",
              "      <div>\n",
              "<style scoped>\n",
              "    .dataframe tbody tr th:only-of-type {\n",
              "        vertical-align: middle;\n",
              "    }\n",
              "\n",
              "    .dataframe tbody tr th {\n",
              "        vertical-align: top;\n",
              "    }\n",
              "\n",
              "    .dataframe thead th {\n",
              "        text-align: right;\n",
              "    }\n",
              "</style>\n",
              "<table border=\"1\" class=\"dataframe\">\n",
              "  <thead>\n",
              "    <tr style=\"text-align: right;\">\n",
              "      <th></th>\n",
              "      <th>id</th>\n",
              "      <th>typology</th>\n",
              "      <th>area_in_m2</th>\n",
              "      <th>floor</th>\n",
              "      <th>region_parish</th>\n",
              "      <th>price_in_euros</th>\n",
              "      <th>seller_contact</th>\n",
              "      <th>link_idealista</th>\n",
              "      <th>idealista_ad_title</th>\n",
              "      <th>price_per_m2</th>\n",
              "      <th>house_type</th>\n",
              "      <th>sub_parish</th>\n",
              "      <th>nb_rooms</th>\n",
              "    </tr>\n",
              "  </thead>\n",
              "  <tbody>\n",
              "    <tr>\n",
              "      <th>0</th>\n",
              "      <td>31508669</td>\n",
              "      <td>T2</td>\n",
              "      <td>101</td>\n",
              "      <td>NaN</td>\n",
              "      <td>campolide</td>\n",
              "      <td>520000</td>\n",
              "      <td>210062154.0</td>\n",
              "      <td>https://www.idealista.pt/imovel/31508669/</td>\n",
              "      <td>Apartamento T2 em Centro - Nova Campolide, Cam...</td>\n",
              "      <td>5148.514851</td>\n",
              "      <td>Apartamento</td>\n",
              "      <td>Centro - Nova Campolide</td>\n",
              "      <td>2</td>\n",
              "    </tr>\n",
              "    <tr>\n",
              "      <th>1</th>\n",
              "      <td>30319965</td>\n",
              "      <td>T3</td>\n",
              "      <td>160</td>\n",
              "      <td>7.0</td>\n",
              "      <td>campolide</td>\n",
              "      <td>1370000</td>\n",
              "      <td>215553642.0</td>\n",
              "      <td>https://www.idealista.pt/imovel/30319965/</td>\n",
              "      <td>Apartamento T3 em Centro - Nova Campolide, Cam...</td>\n",
              "      <td>8562.500000</td>\n",
              "      <td>Apartamento</td>\n",
              "      <td>Centro - Nova Campolide</td>\n",
              "      <td>3</td>\n",
              "    </tr>\n",
              "    <tr>\n",
              "      <th>2</th>\n",
              "      <td>29897687</td>\n",
              "      <td>T2</td>\n",
              "      <td>92</td>\n",
              "      <td>1.0</td>\n",
              "      <td>campolide</td>\n",
              "      <td>700000</td>\n",
              "      <td>215553642.0</td>\n",
              "      <td>https://www.idealista.pt/imovel/29897687/</td>\n",
              "      <td>Apartamento T2 em Centro - Nova Campolide, Cam...</td>\n",
              "      <td>7608.695652</td>\n",
              "      <td>Apartamento</td>\n",
              "      <td>Centro - Nova Campolide</td>\n",
              "      <td>2</td>\n",
              "    </tr>\n",
              "    <tr>\n",
              "      <th>3</th>\n",
              "      <td>29893223</td>\n",
              "      <td>T2</td>\n",
              "      <td>92</td>\n",
              "      <td>1.0</td>\n",
              "      <td>campolide</td>\n",
              "      <td>700000</td>\n",
              "      <td>215553642.0</td>\n",
              "      <td>https://www.idealista.pt/imovel/29893223/</td>\n",
              "      <td>Apartamento T2 em Centro - Nova Campolide, Cam...</td>\n",
              "      <td>7608.695652</td>\n",
              "      <td>Apartamento</td>\n",
              "      <td>Centro - Nova Campolide</td>\n",
              "      <td>2</td>\n",
              "    </tr>\n",
              "    <tr>\n",
              "      <th>4</th>\n",
              "      <td>29897703</td>\n",
              "      <td>T2</td>\n",
              "      <td>97</td>\n",
              "      <td>5.0</td>\n",
              "      <td>campolide</td>\n",
              "      <td>780000</td>\n",
              "      <td>215553642.0</td>\n",
              "      <td>https://www.idealista.pt/imovel/29897703/</td>\n",
              "      <td>Apartamento T2 em Centro - Nova Campolide, Cam...</td>\n",
              "      <td>8041.237113</td>\n",
              "      <td>Apartamento</td>\n",
              "      <td>Centro - Nova Campolide</td>\n",
              "      <td>2</td>\n",
              "    </tr>\n",
              "  </tbody>\n",
              "</table>\n",
              "</div>\n",
              "      <button class=\"colab-df-convert\" onclick=\"convertToInteractive('df-ee12b3d1-b571-4139-bf6d-88f4f54d7fb1')\"\n",
              "              title=\"Convert this dataframe to an interactive table.\"\n",
              "              style=\"display:none;\">\n",
              "        \n",
              "  <svg xmlns=\"http://www.w3.org/2000/svg\" height=\"24px\"viewBox=\"0 0 24 24\"\n",
              "       width=\"24px\">\n",
              "    <path d=\"M0 0h24v24H0V0z\" fill=\"none\"/>\n",
              "    <path d=\"M18.56 5.44l.94 2.06.94-2.06 2.06-.94-2.06-.94-.94-2.06-.94 2.06-2.06.94zm-11 1L8.5 8.5l.94-2.06 2.06-.94-2.06-.94L8.5 2.5l-.94 2.06-2.06.94zm10 10l.94 2.06.94-2.06 2.06-.94-2.06-.94-.94-2.06-.94 2.06-2.06.94z\"/><path d=\"M17.41 7.96l-1.37-1.37c-.4-.4-.92-.59-1.43-.59-.52 0-1.04.2-1.43.59L10.3 9.45l-7.72 7.72c-.78.78-.78 2.05 0 2.83L4 21.41c.39.39.9.59 1.41.59.51 0 1.02-.2 1.41-.59l7.78-7.78 2.81-2.81c.8-.78.8-2.07 0-2.86zM5.41 20L4 18.59l7.72-7.72 1.47 1.35L5.41 20z\"/>\n",
              "  </svg>\n",
              "      </button>\n",
              "      \n",
              "  <style>\n",
              "    .colab-df-container {\n",
              "      display:flex;\n",
              "      flex-wrap:wrap;\n",
              "      gap: 12px;\n",
              "    }\n",
              "\n",
              "    .colab-df-convert {\n",
              "      background-color: #E8F0FE;\n",
              "      border: none;\n",
              "      border-radius: 50%;\n",
              "      cursor: pointer;\n",
              "      display: none;\n",
              "      fill: #1967D2;\n",
              "      height: 32px;\n",
              "      padding: 0 0 0 0;\n",
              "      width: 32px;\n",
              "    }\n",
              "\n",
              "    .colab-df-convert:hover {\n",
              "      background-color: #E2EBFA;\n",
              "      box-shadow: 0px 1px 2px rgba(60, 64, 67, 0.3), 0px 1px 3px 1px rgba(60, 64, 67, 0.15);\n",
              "      fill: #174EA6;\n",
              "    }\n",
              "\n",
              "    [theme=dark] .colab-df-convert {\n",
              "      background-color: #3B4455;\n",
              "      fill: #D2E3FC;\n",
              "    }\n",
              "\n",
              "    [theme=dark] .colab-df-convert:hover {\n",
              "      background-color: #434B5C;\n",
              "      box-shadow: 0px 1px 3px 1px rgba(0, 0, 0, 0.15);\n",
              "      filter: drop-shadow(0px 1px 2px rgba(0, 0, 0, 0.3));\n",
              "      fill: #FFFFFF;\n",
              "    }\n",
              "  </style>\n",
              "\n",
              "      <script>\n",
              "        const buttonEl =\n",
              "          document.querySelector('#df-ee12b3d1-b571-4139-bf6d-88f4f54d7fb1 button.colab-df-convert');\n",
              "        buttonEl.style.display =\n",
              "          google.colab.kernel.accessAllowed ? 'block' : 'none';\n",
              "\n",
              "        async function convertToInteractive(key) {\n",
              "          const element = document.querySelector('#df-ee12b3d1-b571-4139-bf6d-88f4f54d7fb1');\n",
              "          const dataTable =\n",
              "            await google.colab.kernel.invokeFunction('convertToInteractive',\n",
              "                                                     [key], {});\n",
              "          if (!dataTable) return;\n",
              "\n",
              "          const docLinkHtml = 'Like what you see? Visit the ' +\n",
              "            '<a target=\"_blank\" href=https://colab.research.google.com/notebooks/data_table.ipynb>data table notebook</a>'\n",
              "            + ' to learn more about interactive tables.';\n",
              "          element.innerHTML = '';\n",
              "          dataTable['output_type'] = 'display_data';\n",
              "          await google.colab.output.renderOutput(dataTable, element);\n",
              "          const docLink = document.createElement('div');\n",
              "          docLink.innerHTML = docLinkHtml;\n",
              "          element.appendChild(docLink);\n",
              "        }\n",
              "      </script>\n",
              "    </div>\n",
              "  </div>\n",
              "  "
            ]
          },
          "metadata": {},
          "execution_count": 111
        }
      ]
    },
    {
      "cell_type": "markdown",
      "source": [
        "## 4. Perform a data analysis with visualizations"
      ],
      "metadata": {
        "id": "uqeNOghoyKoG"
      }
    },
    {
      "cell_type": "markdown",
      "source": [
        "### 4.1. Group data by subregion to calculate its average price per square meter"
      ],
      "metadata": {
        "id": "cp1uwa0KEpJh"
      }
    },
    {
      "cell_type": "code",
      "source": [
        "df_subparishes = df_houses.groupby('sub_parish').mean()\n",
        "df_subparishes[['price_per_m2']]"
      ],
      "metadata": {
        "colab": {
          "base_uri": "https://localhost:8080/",
          "height": 520
        },
        "id": "eJE1sZ_qxg4D",
        "outputId": "4fea545f-4415-4db0-db70-ca77f4b9f375"
      },
      "execution_count": 118,
      "outputs": [
        {
          "output_type": "execute_result",
          "data": {
            "text/plain": [
              "                                                    price_per_m2\n",
              "sub_parish                                                      \n",
              "Alto do Lumiar - Quinta das Conchas - Quinta do...   3373.664651\n",
              "Alto dos Moinhos                                     4674.528764\n",
              "Bairro Calçada dos Mestres                           3856.997267\n",
              "Bairro da Serafina - Bairro da Liberdade             2921.143299\n",
              "Carriche - Hospital das Forças Armadas               3242.661619\n",
              "Centro                                               3758.871321\n",
              "Centro - Nova Campolide                              6272.029879\n",
              "Estrada de Benfica                                   4032.888603\n",
              "Laranjeiras                                          4270.963880\n",
              "Paço do Lumiar                                       4749.447702\n",
              "Praça de Espanha - Sete Rios                         5055.965995\n",
              "Quinta dos Alcoutins                                 4150.878769\n",
              "Sete Rios                                            4521.548413\n",
              "Telheiras                                            3932.898680"
            ],
            "text/html": [
              "\n",
              "  <div id=\"df-14819009-4000-4c3a-802f-4a2ae7c43a24\">\n",
              "    <div class=\"colab-df-container\">\n",
              "      <div>\n",
              "<style scoped>\n",
              "    .dataframe tbody tr th:only-of-type {\n",
              "        vertical-align: middle;\n",
              "    }\n",
              "\n",
              "    .dataframe tbody tr th {\n",
              "        vertical-align: top;\n",
              "    }\n",
              "\n",
              "    .dataframe thead th {\n",
              "        text-align: right;\n",
              "    }\n",
              "</style>\n",
              "<table border=\"1\" class=\"dataframe\">\n",
              "  <thead>\n",
              "    <tr style=\"text-align: right;\">\n",
              "      <th></th>\n",
              "      <th>price_per_m2</th>\n",
              "    </tr>\n",
              "    <tr>\n",
              "      <th>sub_parish</th>\n",
              "      <th></th>\n",
              "    </tr>\n",
              "  </thead>\n",
              "  <tbody>\n",
              "    <tr>\n",
              "      <th>Alto do Lumiar - Quinta das Conchas - Quinta do Lambert</th>\n",
              "      <td>3373.664651</td>\n",
              "    </tr>\n",
              "    <tr>\n",
              "      <th>Alto dos Moinhos</th>\n",
              "      <td>4674.528764</td>\n",
              "    </tr>\n",
              "    <tr>\n",
              "      <th>Bairro Calçada dos Mestres</th>\n",
              "      <td>3856.997267</td>\n",
              "    </tr>\n",
              "    <tr>\n",
              "      <th>Bairro da Serafina - Bairro da Liberdade</th>\n",
              "      <td>2921.143299</td>\n",
              "    </tr>\n",
              "    <tr>\n",
              "      <th>Carriche - Hospital das Forças Armadas</th>\n",
              "      <td>3242.661619</td>\n",
              "    </tr>\n",
              "    <tr>\n",
              "      <th>Centro</th>\n",
              "      <td>3758.871321</td>\n",
              "    </tr>\n",
              "    <tr>\n",
              "      <th>Centro - Nova Campolide</th>\n",
              "      <td>6272.029879</td>\n",
              "    </tr>\n",
              "    <tr>\n",
              "      <th>Estrada de Benfica</th>\n",
              "      <td>4032.888603</td>\n",
              "    </tr>\n",
              "    <tr>\n",
              "      <th>Laranjeiras</th>\n",
              "      <td>4270.963880</td>\n",
              "    </tr>\n",
              "    <tr>\n",
              "      <th>Paço do Lumiar</th>\n",
              "      <td>4749.447702</td>\n",
              "    </tr>\n",
              "    <tr>\n",
              "      <th>Praça de Espanha - Sete Rios</th>\n",
              "      <td>5055.965995</td>\n",
              "    </tr>\n",
              "    <tr>\n",
              "      <th>Quinta dos Alcoutins</th>\n",
              "      <td>4150.878769</td>\n",
              "    </tr>\n",
              "    <tr>\n",
              "      <th>Sete Rios</th>\n",
              "      <td>4521.548413</td>\n",
              "    </tr>\n",
              "    <tr>\n",
              "      <th>Telheiras</th>\n",
              "      <td>3932.898680</td>\n",
              "    </tr>\n",
              "  </tbody>\n",
              "</table>\n",
              "</div>\n",
              "      <button class=\"colab-df-convert\" onclick=\"convertToInteractive('df-14819009-4000-4c3a-802f-4a2ae7c43a24')\"\n",
              "              title=\"Convert this dataframe to an interactive table.\"\n",
              "              style=\"display:none;\">\n",
              "        \n",
              "  <svg xmlns=\"http://www.w3.org/2000/svg\" height=\"24px\"viewBox=\"0 0 24 24\"\n",
              "       width=\"24px\">\n",
              "    <path d=\"M0 0h24v24H0V0z\" fill=\"none\"/>\n",
              "    <path d=\"M18.56 5.44l.94 2.06.94-2.06 2.06-.94-2.06-.94-.94-2.06-.94 2.06-2.06.94zm-11 1L8.5 8.5l.94-2.06 2.06-.94-2.06-.94L8.5 2.5l-.94 2.06-2.06.94zm10 10l.94 2.06.94-2.06 2.06-.94-2.06-.94-.94-2.06-.94 2.06-2.06.94z\"/><path d=\"M17.41 7.96l-1.37-1.37c-.4-.4-.92-.59-1.43-.59-.52 0-1.04.2-1.43.59L10.3 9.45l-7.72 7.72c-.78.78-.78 2.05 0 2.83L4 21.41c.39.39.9.59 1.41.59.51 0 1.02-.2 1.41-.59l7.78-7.78 2.81-2.81c.8-.78.8-2.07 0-2.86zM5.41 20L4 18.59l7.72-7.72 1.47 1.35L5.41 20z\"/>\n",
              "  </svg>\n",
              "      </button>\n",
              "      \n",
              "  <style>\n",
              "    .colab-df-container {\n",
              "      display:flex;\n",
              "      flex-wrap:wrap;\n",
              "      gap: 12px;\n",
              "    }\n",
              "\n",
              "    .colab-df-convert {\n",
              "      background-color: #E8F0FE;\n",
              "      border: none;\n",
              "      border-radius: 50%;\n",
              "      cursor: pointer;\n",
              "      display: none;\n",
              "      fill: #1967D2;\n",
              "      height: 32px;\n",
              "      padding: 0 0 0 0;\n",
              "      width: 32px;\n",
              "    }\n",
              "\n",
              "    .colab-df-convert:hover {\n",
              "      background-color: #E2EBFA;\n",
              "      box-shadow: 0px 1px 2px rgba(60, 64, 67, 0.3), 0px 1px 3px 1px rgba(60, 64, 67, 0.15);\n",
              "      fill: #174EA6;\n",
              "    }\n",
              "\n",
              "    [theme=dark] .colab-df-convert {\n",
              "      background-color: #3B4455;\n",
              "      fill: #D2E3FC;\n",
              "    }\n",
              "\n",
              "    [theme=dark] .colab-df-convert:hover {\n",
              "      background-color: #434B5C;\n",
              "      box-shadow: 0px 1px 3px 1px rgba(0, 0, 0, 0.15);\n",
              "      filter: drop-shadow(0px 1px 2px rgba(0, 0, 0, 0.3));\n",
              "      fill: #FFFFFF;\n",
              "    }\n",
              "  </style>\n",
              "\n",
              "      <script>\n",
              "        const buttonEl =\n",
              "          document.querySelector('#df-14819009-4000-4c3a-802f-4a2ae7c43a24 button.colab-df-convert');\n",
              "        buttonEl.style.display =\n",
              "          google.colab.kernel.accessAllowed ? 'block' : 'none';\n",
              "\n",
              "        async function convertToInteractive(key) {\n",
              "          const element = document.querySelector('#df-14819009-4000-4c3a-802f-4a2ae7c43a24');\n",
              "          const dataTable =\n",
              "            await google.colab.kernel.invokeFunction('convertToInteractive',\n",
              "                                                     [key], {});\n",
              "          if (!dataTable) return;\n",
              "\n",
              "          const docLinkHtml = 'Like what you see? Visit the ' +\n",
              "            '<a target=\"_blank\" href=https://colab.research.google.com/notebooks/data_table.ipynb>data table notebook</a>'\n",
              "            + ' to learn more about interactive tables.';\n",
              "          element.innerHTML = '';\n",
              "          dataTable['output_type'] = 'display_data';\n",
              "          await google.colab.output.renderOutput(dataTable, element);\n",
              "          const docLink = document.createElement('div');\n",
              "          docLink.innerHTML = docLinkHtml;\n",
              "          element.appendChild(docLink);\n",
              "        }\n",
              "      </script>\n",
              "    </div>\n",
              "  </div>\n",
              "  "
            ]
          },
          "metadata": {},
          "execution_count": 118
        }
      ]
    },
    {
      "cell_type": "markdown",
      "source": [
        "### 4.2. Use agg method to extract multiple metrics (like min, max, median, 75% and 25% percentile) for the price per square meter"
      ],
      "metadata": {
        "id": "2zg8C9FHEuMc"
      }
    },
    {
      "cell_type": "code",
      "source": [
        "# https://pbpython.com/groupby-agg.html\n",
        "# https://stackoverflow.com/questions/17578115/pass-percentiles-to-pandas-agg-function\n",
        "\n",
        "# return percentile_ is returning a pointer to a function, not a value\n",
        "# then this function is called inside agg\n",
        "def percentile(q):\n",
        "    def percentile_(x):\n",
        "        return x.quantile(q)\n",
        "    percentile_.__name__ = 'percentile_%s' % q\n",
        "    return percentile_\n",
        "\n",
        "# another option would be to have inside agg -> lambda x: percentile(x, q)\n",
        "# which would call the following function:\n",
        "# def percentile(x, q):\n",
        "#    return x.quantile(q)\n",
        "# sadly I can only have access to x (the row) with an anonymous function or the wrapper\n",
        "\n",
        "df_subparishes['price_per_m2'].agg(['min', 'max', 'median', percentile(0.25), percentile(0.75)])"
      ],
      "metadata": {
        "colab": {
          "base_uri": "https://localhost:8080/"
        },
        "id": "arRW5wot0eNl",
        "outputId": "d57c84f0-f0ac-4599-8c1f-ebbf076d3a8c"
      },
      "execution_count": 133,
      "outputs": [
        {
          "output_type": "execute_result",
          "data": {
            "text/plain": [
              "min                2921.143299\n",
              "max                6272.029879\n",
              "median             4091.883686\n",
              "percentile_0.25    3783.402807\n",
              "percentile_0.75    4636.283677\n",
              "Name: price_per_m2, dtype: float64"
            ]
          },
          "metadata": {},
          "execution_count": 133
        }
      ]
    },
    {
      "cell_type": "markdown",
      "source": [
        "### 4.3. Analyze the distribution of price per square meter by region and sub-region using a boxplot"
      ],
      "metadata": {
        "id": "gtXVl7fgE3Th"
      }
    },
    {
      "cell_type": "code",
      "source": [
        "plt.boxplot(df_subparishes['price_per_m2'], labels=[\"Price €/m2\"])"
      ],
      "metadata": {
        "colab": {
          "base_uri": "https://localhost:8080/",
          "height": 412
        },
        "id": "DiIeSfxu6HKr",
        "outputId": "0e246ca4-a5bf-47eb-e73f-9266a1ef69ce"
      },
      "execution_count": 137,
      "outputs": [
        {
          "output_type": "execute_result",
          "data": {
            "text/plain": [
              "{'boxes': [<matplotlib.lines.Line2D at 0x7f5edbd65150>],\n",
              " 'caps': [<matplotlib.lines.Line2D at 0x7f5edbd6a210>,\n",
              "  <matplotlib.lines.Line2D at 0x7f5edbd6a750>],\n",
              " 'fliers': [<matplotlib.lines.Line2D at 0x7f5edbd74250>],\n",
              " 'means': [],\n",
              " 'medians': [<matplotlib.lines.Line2D at 0x7f5edbd6acd0>],\n",
              " 'whiskers': [<matplotlib.lines.Line2D at 0x7f5edbd65750>,\n",
              "  <matplotlib.lines.Line2D at 0x7f5edbd65c90>]}"
            ]
          },
          "metadata": {},
          "execution_count": 137
        },
        {
          "output_type": "display_data",
          "data": {
            "text/plain": [
              "<Figure size 432x288 with 1 Axes>"
            ],
            "image/png": "[encoded data removed]"
          },
          "metadata": {
            "needs_background": "light"
          }
        }
      ]
    },
    {
      "cell_type": "code",
      "source": [
        "df_parishes = df_houses.groupby('region_parish').mean()\n",
        "df_parishes[['price_per_m2']]"
      ],
      "metadata": {
        "colab": {
          "base_uri": "https://localhost:8080/",
          "height": 175
        },
        "id": "bzMR2HD7He7v",
        "outputId": "322a3407-abc2-4d16-c59e-abb395578f87"
      },
      "execution_count": 139,
      "outputs": [
        {
          "output_type": "execute_result",
          "data": {
            "text/plain": [
              "                      price_per_m2\n",
              "region_parish                     \n",
              "campolide              5808.701686\n",
              "lumiar                 3687.817073\n",
              "sao-domingos-benfica   4340.916372"
            ],
            "text/html": [
              "\n",
              "  <div id=\"df-5a83f9eb-15fa-4838-a85c-feaa09f9996a\">\n",
              "    <div class=\"colab-df-container\">\n",
              "      <div>\n",
              "<style scoped>\n",
              "    .dataframe tbody tr th:only-of-type {\n",
              "        vertical-align: middle;\n",
              "    }\n",
              "\n",
              "    .dataframe tbody tr th {\n",
              "        vertical-align: top;\n",
              "    }\n",
              "\n",
              "    .dataframe thead th {\n",
              "        text-align: right;\n",
              "    }\n",
              "</style>\n",
              "<table border=\"1\" class=\"dataframe\">\n",
              "  <thead>\n",
              "    <tr style=\"text-align: right;\">\n",
              "      <th></th>\n",
              "      <th>price_per_m2</th>\n",
              "    </tr>\n",
              "    <tr>\n",
              "      <th>region_parish</th>\n",
              "      <th></th>\n",
              "    </tr>\n",
              "  </thead>\n",
              "  <tbody>\n",
              "    <tr>\n",
              "      <th>campolide</th>\n",
              "      <td>5808.701686</td>\n",
              "    </tr>\n",
              "    <tr>\n",
              "      <th>lumiar</th>\n",
              "      <td>3687.817073</td>\n",
              "    </tr>\n",
              "    <tr>\n",
              "      <th>sao-domingos-benfica</th>\n",
              "      <td>4340.916372</td>\n",
              "    </tr>\n",
              "  </tbody>\n",
              "</table>\n",
              "</div>\n",
              "      <button class=\"colab-df-convert\" onclick=\"convertToInteractive('df-5a83f9eb-15fa-4838-a85c-feaa09f9996a')\"\n",
              "              title=\"Convert this dataframe to an interactive table.\"\n",
              "              style=\"display:none;\">\n",
              "        \n",
              "  <svg xmlns=\"http://www.w3.org/2000/svg\" height=\"24px\"viewBox=\"0 0 24 24\"\n",
              "       width=\"24px\">\n",
              "    <path d=\"M0 0h24v24H0V0z\" fill=\"none\"/>\n",
              "    <path d=\"M18.56 5.44l.94 2.06.94-2.06 2.06-.94-2.06-.94-.94-2.06-.94 2.06-2.06.94zm-11 1L8.5 8.5l.94-2.06 2.06-.94-2.06-.94L8.5 2.5l-.94 2.06-2.06.94zm10 10l.94 2.06.94-2.06 2.06-.94-2.06-.94-.94-2.06-.94 2.06-2.06.94z\"/><path d=\"M17.41 7.96l-1.37-1.37c-.4-.4-.92-.59-1.43-.59-.52 0-1.04.2-1.43.59L10.3 9.45l-7.72 7.72c-.78.78-.78 2.05 0 2.83L4 21.41c.39.39.9.59 1.41.59.51 0 1.02-.2 1.41-.59l7.78-7.78 2.81-2.81c.8-.78.8-2.07 0-2.86zM5.41 20L4 18.59l7.72-7.72 1.47 1.35L5.41 20z\"/>\n",
              "  </svg>\n",
              "      </button>\n",
              "      \n",
              "  <style>\n",
              "    .colab-df-container {\n",
              "      display:flex;\n",
              "      flex-wrap:wrap;\n",
              "      gap: 12px;\n",
              "    }\n",
              "\n",
              "    .colab-df-convert {\n",
              "      background-color: #E8F0FE;\n",
              "      border: none;\n",
              "      border-radius: 50%;\n",
              "      cursor: pointer;\n",
              "      display: none;\n",
              "      fill: #1967D2;\n",
              "      height: 32px;\n",
              "      padding: 0 0 0 0;\n",
              "      width: 32px;\n",
              "    }\n",
              "\n",
              "    .colab-df-convert:hover {\n",
              "      background-color: #E2EBFA;\n",
              "      box-shadow: 0px 1px 2px rgba(60, 64, 67, 0.3), 0px 1px 3px 1px rgba(60, 64, 67, 0.15);\n",
              "      fill: #174EA6;\n",
              "    }\n",
              "\n",
              "    [theme=dark] .colab-df-convert {\n",
              "      background-color: #3B4455;\n",
              "      fill: #D2E3FC;\n",
              "    }\n",
              "\n",
              "    [theme=dark] .colab-df-convert:hover {\n",
              "      background-color: #434B5C;\n",
              "      box-shadow: 0px 1px 3px 1px rgba(0, 0, 0, 0.15);\n",
              "      filter: drop-shadow(0px 1px 2px rgba(0, 0, 0, 0.3));\n",
              "      fill: #FFFFFF;\n",
              "    }\n",
              "  </style>\n",
              "\n",
              "      <script>\n",
              "        const buttonEl =\n",
              "          document.querySelector('#df-5a83f9eb-15fa-4838-a85c-feaa09f9996a button.colab-df-convert');\n",
              "        buttonEl.style.display =\n",
              "          google.colab.kernel.accessAllowed ? 'block' : 'none';\n",
              "\n",
              "        async function convertToInteractive(key) {\n",
              "          const element = document.querySelector('#df-5a83f9eb-15fa-4838-a85c-feaa09f9996a');\n",
              "          const dataTable =\n",
              "            await google.colab.kernel.invokeFunction('convertToInteractive',\n",
              "                                                     [key], {});\n",
              "          if (!dataTable) return;\n",
              "\n",
              "          const docLinkHtml = 'Like what you see? Visit the ' +\n",
              "            '<a target=\"_blank\" href=https://colab.research.google.com/notebooks/data_table.ipynb>data table notebook</a>'\n",
              "            + ' to learn more about interactive tables.';\n",
              "          element.innerHTML = '';\n",
              "          dataTable['output_type'] = 'display_data';\n",
              "          await google.colab.output.renderOutput(dataTable, element);\n",
              "          const docLink = document.createElement('div');\n",
              "          docLink.innerHTML = docLinkHtml;\n",
              "          element.appendChild(docLink);\n",
              "        }\n",
              "      </script>\n",
              "    </div>\n",
              "  </div>\n",
              "  "
            ]
          },
          "metadata": {},
          "execution_count": 139
        }
      ]
    },
    {
      "cell_type": "code",
      "source": [
        "plt.boxplot(df_parishes['price_per_m2'], labels=[\"Price €/m2\"])"
      ],
      "metadata": {
        "colab": {
          "base_uri": "https://localhost:8080/",
          "height": 412
        },
        "id": "udaZKfSiIKqY",
        "outputId": "3e8470d4-5a7b-4cc2-c40c-b6f862e0630b"
      },
      "execution_count": 140,
      "outputs": [
        {
          "output_type": "execute_result",
          "data": {
            "text/plain": [
              "{'boxes': [<matplotlib.lines.Line2D at 0x7f5edbce08d0>],\n",
              " 'caps': [<matplotlib.lines.Line2D at 0x7f5edbce3990>,\n",
              "  <matplotlib.lines.Line2D at 0x7f5edbce3ed0>],\n",
              " 'fliers': [<matplotlib.lines.Line2D at 0x7f5edbcea9d0>],\n",
              " 'means': [],\n",
              " 'medians': [<matplotlib.lines.Line2D at 0x7f5edbcea490>],\n",
              " 'whiskers': [<matplotlib.lines.Line2D at 0x7f5edbce0ed0>,\n",
              "  <matplotlib.lines.Line2D at 0x7f5edbce3450>]}"
            ]
          },
          "metadata": {},
          "execution_count": 140
        },
        {
          "output_type": "display_data",
          "data": {
            "text/plain": [
              "<Figure size 432x288 with 1 Axes>"
            ],
            "image/png": "[encoded data removed]"
          },
          "metadata": {
            "needs_background": "light"
          }
        }
      ]
    },
    {
      "cell_type": "code",
      "source": [
        "import seaborn as sns"
      ],
      "metadata": {
        "id": "ZIeSXhEoITY2"
      },
      "execution_count": 141,
      "outputs": []
    },
    {
      "cell_type": "code",
      "source": [
        "sns.catplot(data=df_houses, x='sub_parish', y='price_per_m2', kind='violin')\n",
        "plt.xticks(rotation=90)"
      ],
      "metadata": {
        "colab": {
          "base_uri": "https://localhost:8080/",
          "height": 682
        },
        "id": "dU9IOJbiJq2c",
        "outputId": "2fc8e715-087c-4e85-db79-0b5a9d867667"
      },
      "execution_count": 144,
      "outputs": [
        {
          "output_type": "execute_result",
          "data": {
            "text/plain": [
              "(array([ 0,  1,  2,  3,  4,  5,  6,  7,  8,  9, 10, 11, 12, 13]),\n",
              " <a list of 14 Text major ticklabel objects>)"
            ]
          },
          "metadata": {},
          "execution_count": 144
        },
        {
          "output_type": "display_data",
          "data": {
            "text/plain": [
              "<Figure size 360x360 with 1 Axes>"
            ],
            "image/png": "[encoded data removed]"
          },
          "metadata": {
            "needs_background": "light"
          }
        }
      ]
    },
    {
      "cell_type": "code",
      "source": [
        "sns.catplot(data=df_houses, x='region_parish', y='price_per_m2', kind='violin')"
      ],
      "metadata": {
        "colab": {
          "base_uri": "https://localhost:8080/",
          "height": 387
        },
        "id": "cv05RPQ2JzzF",
        "outputId": "878c3090-5db9-44cd-94af-58dbb70bd752"
      },
      "execution_count": 146,
      "outputs": [
        {
          "output_type": "execute_result",
          "data": {
            "text/plain": [
              "<seaborn.axisgrid.FacetGrid at 0x7f5ec70a9a90>"
            ]
          },
          "metadata": {},
          "execution_count": 146
        },
        {
          "output_type": "display_data",
          "data": {
            "text/plain": [
              "<Figure size 360x360 with 1 Axes>"
            ],
            "image/png": "[encoded data removed]"
          },
          "metadata": {
            "needs_background": "light"
          }
        }
      ]
    },
    {
      "cell_type": "markdown",
      "source": [
        "## 5. Export final data to excel"
      ],
      "metadata": {
        "id": "THYFD-YtLPbK"
      }
    },
    {
      "cell_type": "markdown",
      "source": [
        "Investors guidelines:\n",
        "- analyze the price per square meter, per sub-region, and to include visualizations (but feel free to go deeper and give your own spice to the analysis).\n",
        "- preferences: apartments or duplex T0, T1 or T2, with a maximum price of 500.000€, a price per square meter below the sub-region average, above the ground floor (1st floor or higher)\n",
        "- sorted in ascending order according to the ratio between the house price per square meter and its sub-region average price per square meter"
      ],
      "metadata": {
        "id": "uxA9AkiYM4yb"
      }
    },
    {
      "cell_type": "code",
      "source": [
        "# sub_parish = 'Alto dos Moinhos'\n",
        "# df_subparishes['price_per_m2'][sub_parish] # worked until here"
      ],
      "metadata": {
        "id": "nulgo3CyQlel"
      },
      "execution_count": 175,
      "outputs": []
    },
    {
      "cell_type": "code",
      "source": [
        "# df_houses['subparishes_avg_price'] = df_subparishes['price_per_m2'][df_houses['sub_parish']]\n",
        "# df_houses.head(5)\n",
        "# but this gave an error: cannot reindex from a duplicate axis\n",
        "# so I tried something else, although I think the solution below is a bit of an overkill"
      ],
      "metadata": {
        "id": "Y7D61kjTRkO0"
      },
      "execution_count": 176,
      "outputs": []
    },
    {
      "cell_type": "code",
      "source": [
        "df_subparishes_avg_price = df_subparishes[['price_per_m2']]\n",
        "df_subparishes_avg_price = df_subparishes_avg_price.rename(columns={'price_per_m2': 'subparish_avg_price'})\n",
        "df_subparishes_avg_price.head(5)"
      ],
      "metadata": {
        "colab": {
          "base_uri": "https://localhost:8080/",
          "height": 238
        },
        "id": "2-GqSBoZK-dF",
        "outputId": "ca034875-f762-4ae0-c8e1-5d1e2008922c"
      },
      "execution_count": 156,
      "outputs": [
        {
          "output_type": "execute_result",
          "data": {
            "text/plain": [
              "                                                    subparish_avg_price\n",
              "sub_parish                                                             \n",
              "Alto do Lumiar - Quinta das Conchas - Quinta do...          3373.664651\n",
              "Alto dos Moinhos                                            4674.528764\n",
              "Bairro Calçada dos Mestres                                  3856.997267\n",
              "Bairro da Serafina - Bairro da Liberdade                    2921.143299\n",
              "Carriche - Hospital das Forças Armadas                      3242.661619"
            ],
            "text/html": [
              "\n",
              "  <div id=\"df-94b25d13-eaef-4038-aa0f-195f82eccef3\">\n",
              "    <div class=\"colab-df-container\">\n",
              "      <div>\n",
              "<style scoped>\n",
              "    .dataframe tbody tr th:only-of-type {\n",
              "        vertical-align: middle;\n",
              "    }\n",
              "\n",
              "    .dataframe tbody tr th {\n",
              "        vertical-align: top;\n",
              "    }\n",
              "\n",
              "    .dataframe thead th {\n",
              "        text-align: right;\n",
              "    }\n",
              "</style>\n",
              "<table border=\"1\" class=\"dataframe\">\n",
              "  <thead>\n",
              "    <tr style=\"text-align: right;\">\n",
              "      <th></th>\n",
              "      <th>subparish_avg_price</th>\n",
              "    </tr>\n",
              "    <tr>\n",
              "      <th>sub_parish</th>\n",
              "      <th></th>\n",
              "    </tr>\n",
              "  </thead>\n",
              "  <tbody>\n",
              "    <tr>\n",
              "      <th>Alto do Lumiar - Quinta das Conchas - Quinta do Lambert</th>\n",
              "      <td>3373.664651</td>\n",
              "    </tr>\n",
              "    <tr>\n",
              "      <th>Alto dos Moinhos</th>\n",
              "      <td>4674.528764</td>\n",
              "    </tr>\n",
              "    <tr>\n",
              "      <th>Bairro Calçada dos Mestres</th>\n",
              "      <td>3856.997267</td>\n",
              "    </tr>\n",
              "    <tr>\n",
              "      <th>Bairro da Serafina - Bairro da Liberdade</th>\n",
              "      <td>2921.143299</td>\n",
              "    </tr>\n",
              "    <tr>\n",
              "      <th>Carriche - Hospital das Forças Armadas</th>\n",
              "      <td>3242.661619</td>\n",
              "    </tr>\n",
              "  </tbody>\n",
              "</table>\n",
              "</div>\n",
              "      <button class=\"colab-df-convert\" onclick=\"convertToInteractive('df-94b25d13-eaef-4038-aa0f-195f82eccef3')\"\n",
              "              title=\"Convert this dataframe to an interactive table.\"\n",
              "              style=\"display:none;\">\n",
              "        \n",
              "  <svg xmlns=\"http://www.w3.org/2000/svg\" height=\"24px\"viewBox=\"0 0 24 24\"\n",
              "       width=\"24px\">\n",
              "    <path d=\"M0 0h24v24H0V0z\" fill=\"none\"/>\n",
              "    <path d=\"M18.56 5.44l.94 2.06.94-2.06 2.06-.94-2.06-.94-.94-2.06-.94 2.06-2.06.94zm-11 1L8.5 8.5l.94-2.06 2.06-.94-2.06-.94L8.5 2.5l-.94 2.06-2.06.94zm10 10l.94 2.06.94-2.06 2.06-.94-2.06-.94-.94-2.06-.94 2.06-2.06.94z\"/><path d=\"M17.41 7.96l-1.37-1.37c-.4-.4-.92-.59-1.43-.59-.52 0-1.04.2-1.43.59L10.3 9.45l-7.72 7.72c-.78.78-.78 2.05 0 2.83L4 21.41c.39.39.9.59 1.41.59.51 0 1.02-.2 1.41-.59l7.78-7.78 2.81-2.81c.8-.78.8-2.07 0-2.86zM5.41 20L4 18.59l7.72-7.72 1.47 1.35L5.41 20z\"/>\n",
              "  </svg>\n",
              "      </button>\n",
              "      \n",
              "  <style>\n",
              "    .colab-df-container {\n",
              "      display:flex;\n",
              "      flex-wrap:wrap;\n",
              "      gap: 12px;\n",
              "    }\n",
              "\n",
              "    .colab-df-convert {\n",
              "      background-color: #E8F0FE;\n",
              "      border: none;\n",
              "      border-radius: 50%;\n",
              "      cursor: pointer;\n",
              "      display: none;\n",
              "      fill: #1967D2;\n",
              "      height: 32px;\n",
              "      padding: 0 0 0 0;\n",
              "      width: 32px;\n",
              "    }\n",
              "\n",
              "    .colab-df-convert:hover {\n",
              "      background-color: #E2EBFA;\n",
              "      box-shadow: 0px 1px 2px rgba(60, 64, 67, 0.3), 0px 1px 3px 1px rgba(60, 64, 67, 0.15);\n",
              "      fill: #174EA6;\n",
              "    }\n",
              "\n",
              "    [theme=dark] .colab-df-convert {\n",
              "      background-color: #3B4455;\n",
              "      fill: #D2E3FC;\n",
              "    }\n",
              "\n",
              "    [theme=dark] .colab-df-convert:hover {\n",
              "      background-color: #434B5C;\n",
              "      box-shadow: 0px 1px 3px 1px rgba(0, 0, 0, 0.15);\n",
              "      filter: drop-shadow(0px 1px 2px rgba(0, 0, 0, 0.3));\n",
              "      fill: #FFFFFF;\n",
              "    }\n",
              "  </style>\n",
              "\n",
              "      <script>\n",
              "        const buttonEl =\n",
              "          document.querySelector('#df-94b25d13-eaef-4038-aa0f-195f82eccef3 button.colab-df-convert');\n",
              "        buttonEl.style.display =\n",
              "          google.colab.kernel.accessAllowed ? 'block' : 'none';\n",
              "\n",
              "        async function convertToInteractive(key) {\n",
              "          const element = document.querySelector('#df-94b25d13-eaef-4038-aa0f-195f82eccef3');\n",
              "          const dataTable =\n",
              "            await google.colab.kernel.invokeFunction('convertToInteractive',\n",
              "                                                     [key], {});\n",
              "          if (!dataTable) return;\n",
              "\n",
              "          const docLinkHtml = 'Like what you see? Visit the ' +\n",
              "            '<a target=\"_blank\" href=https://colab.research.google.com/notebooks/data_table.ipynb>data table notebook</a>'\n",
              "            + ' to learn more about interactive tables.';\n",
              "          element.innerHTML = '';\n",
              "          dataTable['output_type'] = 'display_data';\n",
              "          await google.colab.output.renderOutput(dataTable, element);\n",
              "          const docLink = document.createElement('div');\n",
              "          docLink.innerHTML = docLinkHtml;\n",
              "          element.appendChild(docLink);\n",
              "        }\n",
              "      </script>\n",
              "    </div>\n",
              "  </div>\n",
              "  "
            ]
          },
          "metadata": {},
          "execution_count": 156
        }
      ]
    },
    {
      "cell_type": "code",
      "source": [
        "df_housesx = pd.merge(df_subparishes_avg_price, df_houses, how=\"inner\", on='sub_parish', validate='one_to_many')"
      ],
      "metadata": {
        "id": "jIWaUXJtOsQk"
      },
      "execution_count": 159,
      "outputs": []
    },
    {
      "cell_type": "code",
      "source": [
        "df_housesx['price_ratio'] = df_housesx['price_per_m2'] / df_housesx['subparish_avg_price']\n",
        "df_housesx.head(5)"
      ],
      "metadata": {
        "colab": {
          "base_uri": "https://localhost:8080/",
          "height": 618
        },
        "id": "CIgs2P6GT4to",
        "outputId": "b760a5cd-c9b4-496a-f396-7ec4731343c4"
      },
      "execution_count": 177,
      "outputs": [
        {
          "output_type": "execute_result",
          "data": {
            "text/plain": [
              "                                          sub_parish  subparish_avg_price  \\\n",
              "0  Alto do Lumiar - Quinta das Conchas - Quinta d...          3373.664651   \n",
              "1  Alto do Lumiar - Quinta das Conchas - Quinta d...          3373.664651   \n",
              "2  Alto do Lumiar - Quinta das Conchas - Quinta d...          3373.664651   \n",
              "3  Alto do Lumiar - Quinta das Conchas - Quinta d...          3373.664651   \n",
              "4  Alto do Lumiar - Quinta das Conchas - Quinta d...          3373.664651   \n",
              "\n",
              "         id typology  area_in_m2  floor region_parish  price_in_euros  \\\n",
              "0  31492088      T2          111    3.0        lumiar          335000   \n",
              "1  31492087      T2          125    7.0        lumiar          400000   \n",
              "2  31492090      T2          111    5.0        lumiar          345000   \n",
              "3  31492089      T2          111    5.0        lumiar          345000   \n",
              "4  31492086      T1           81   -1.0        lumiar          220000   \n",
              "\n",
              "  seller_contact                             link_idealista  \\\n",
              "0      215550925  https://www.idealista.pt/imovel/31492088/   \n",
              "1      215550925  https://www.idealista.pt/imovel/31492087/   \n",
              "2      215550925  https://www.idealista.pt/imovel/31492090/   \n",
              "3      215550925  https://www.idealista.pt/imovel/31492089/   \n",
              "4      215550925  https://www.idealista.pt/imovel/31492086/   \n",
              "\n",
              "                                  idealista_ad_title  price_per_m2  \\\n",
              "0  Apartamento T2 em Alto do Lumiar - Quinta das ...   3018.018018   \n",
              "1  Apartamento T2 em Alto do Lumiar - Quinta das ...   3200.000000   \n",
              "2  Apartamento T2 em Alto do Lumiar - Quinta das ...   3108.108108   \n",
              "3  Apartamento T2 em Alto do Lumiar - Quinta das ...   3108.108108   \n",
              "4  Apartamento T1 em Alto do Lumiar - Quinta das ...   2716.049383   \n",
              "\n",
              "    house_type  nb_rooms  price_ratio  \n",
              "0  Apartamento         2     0.894582  \n",
              "1  Apartamento         2     0.948523  \n",
              "2  Apartamento         2     0.921285  \n",
              "3  Apartamento         2     0.921285  \n",
              "4  Apartamento         1     0.805074  "
            ],
            "text/html": [
              "\n",
              "  <div id=\"df-1aaea4e0-0de6-4348-bd54-94579ee3dda2\">\n",
              "    <div class=\"colab-df-container\">\n",
              "      <div>\n",
              "<style scoped>\n",
              "    .dataframe tbody tr th:only-of-type {\n",
              "        vertical-align: middle;\n",
              "    }\n",
              "\n",
              "    .dataframe tbody tr th {\n",
              "        vertical-align: top;\n",
              "    }\n",
              "\n",
              "    .dataframe thead th {\n",
              "        text-align: right;\n",
              "    }\n",
              "</style>\n",
              "<table border=\"1\" class=\"dataframe\">\n",
              "  <thead>\n",
              "    <tr style=\"text-align: right;\">\n",
              "      <th></th>\n",
              "      <th>sub_parish</th>\n",
              "      <th>subparish_avg_price</th>\n",
              "      <th>id</th>\n",
              "      <th>typology</th>\n",
              "      <th>area_in_m2</th>\n",
              "      <th>floor</th>\n",
              "      <th>region_parish</th>\n",
              "      <th>price_in_euros</th>\n",
              "      <th>seller_contact</th>\n",
              "      <th>link_idealista</th>\n",
              "      <th>idealista_ad_title</th>\n",
              "      <th>price_per_m2</th>\n",
              "      <th>house_type</th>\n",
              "      <th>nb_rooms</th>\n",
              "      <th>price_ratio</th>\n",
              "    </tr>\n",
              "  </thead>\n",
              "  <tbody>\n",
              "    <tr>\n",
              "      <th>0</th>\n",
              "      <td>Alto do Lumiar - Quinta das Conchas - Quinta d...</td>\n",
              "      <td>3373.664651</td>\n",
              "      <td>31492088</td>\n",
              "      <td>T2</td>\n",
              "      <td>111</td>\n",
              "      <td>3.0</td>\n",
              "      <td>lumiar</td>\n",
              "      <td>335000</td>\n",
              "      <td>215550925</td>\n",
              "      <td>https://www.idealista.pt/imovel/31492088/</td>\n",
              "      <td>Apartamento T2 em Alto do Lumiar - Quinta das ...</td>\n",
              "      <td>3018.018018</td>\n",
              "      <td>Apartamento</td>\n",
              "      <td>2</td>\n",
              "      <td>0.894582</td>\n",
              "    </tr>\n",
              "    <tr>\n",
              "      <th>1</th>\n",
              "      <td>Alto do Lumiar - Quinta das Conchas - Quinta d...</td>\n",
              "      <td>3373.664651</td>\n",
              "      <td>31492087</td>\n",
              "      <td>T2</td>\n",
              "      <td>125</td>\n",
              "      <td>7.0</td>\n",
              "      <td>lumiar</td>\n",
              "      <td>400000</td>\n",
              "      <td>215550925</td>\n",
              "      <td>https://www.idealista.pt/imovel/31492087/</td>\n",
              "      <td>Apartamento T2 em Alto do Lumiar - Quinta das ...</td>\n",
              "      <td>3200.000000</td>\n",
              "      <td>Apartamento</td>\n",
              "      <td>2</td>\n",
              "      <td>0.948523</td>\n",
              "    </tr>\n",
              "    <tr>\n",
              "      <th>2</th>\n",
              "      <td>Alto do Lumiar - Quinta das Conchas - Quinta d...</td>\n",
              "      <td>3373.664651</td>\n",
              "      <td>31492090</td>\n",
              "      <td>T2</td>\n",
              "      <td>111</td>\n",
              "      <td>5.0</td>\n",
              "      <td>lumiar</td>\n",
              "      <td>345000</td>\n",
              "      <td>215550925</td>\n",
              "      <td>https://www.idealista.pt/imovel/31492090/</td>\n",
              "      <td>Apartamento T2 em Alto do Lumiar - Quinta das ...</td>\n",
              "      <td>3108.108108</td>\n",
              "      <td>Apartamento</td>\n",
              "      <td>2</td>\n",
              "      <td>0.921285</td>\n",
              "    </tr>\n",
              "    <tr>\n",
              "      <th>3</th>\n",
              "      <td>Alto do Lumiar - Quinta das Conchas - Quinta d...</td>\n",
              "      <td>3373.664651</td>\n",
              "      <td>31492089</td>\n",
              "      <td>T2</td>\n",
              "      <td>111</td>\n",
              "      <td>5.0</td>\n",
              "      <td>lumiar</td>\n",
              "      <td>345000</td>\n",
              "      <td>215550925</td>\n",
              "      <td>https://www.idealista.pt/imovel/31492089/</td>\n",
              "      <td>Apartamento T2 em Alto do Lumiar - Quinta das ...</td>\n",
              "      <td>3108.108108</td>\n",
              "      <td>Apartamento</td>\n",
              "      <td>2</td>\n",
              "      <td>0.921285</td>\n",
              "    </tr>\n",
              "    <tr>\n",
              "      <th>4</th>\n",
              "      <td>Alto do Lumiar - Quinta das Conchas - Quinta d...</td>\n",
              "      <td>3373.664651</td>\n",
              "      <td>31492086</td>\n",
              "      <td>T1</td>\n",
              "      <td>81</td>\n",
              "      <td>-1.0</td>\n",
              "      <td>lumiar</td>\n",
              "      <td>220000</td>\n",
              "      <td>215550925</td>\n",
              "      <td>https://www.idealista.pt/imovel/31492086/</td>\n",
              "      <td>Apartamento T1 em Alto do Lumiar - Quinta das ...</td>\n",
              "      <td>2716.049383</td>\n",
              "      <td>Apartamento</td>\n",
              "      <td>1</td>\n",
              "      <td>0.805074</td>\n",
              "    </tr>\n",
              "  </tbody>\n",
              "</table>\n",
              "</div>\n",
              "      <button class=\"colab-df-convert\" onclick=\"convertToInteractive('df-1aaea4e0-0de6-4348-bd54-94579ee3dda2')\"\n",
              "              title=\"Convert this dataframe to an interactive table.\"\n",
              "              style=\"display:none;\">\n",
              "        \n",
              "  <svg xmlns=\"http://www.w3.org/2000/svg\" height=\"24px\"viewBox=\"0 0 24 24\"\n",
              "       width=\"24px\">\n",
              "    <path d=\"M0 0h24v24H0V0z\" fill=\"none\"/>\n",
              "    <path d=\"M18.56 5.44l.94 2.06.94-2.06 2.06-.94-2.06-.94-.94-2.06-.94 2.06-2.06.94zm-11 1L8.5 8.5l.94-2.06 2.06-.94-2.06-.94L8.5 2.5l-.94 2.06-2.06.94zm10 10l.94 2.06.94-2.06 2.06-.94-2.06-.94-.94-2.06-.94 2.06-2.06.94z\"/><path d=\"M17.41 7.96l-1.37-1.37c-.4-.4-.92-.59-1.43-.59-.52 0-1.04.2-1.43.59L10.3 9.45l-7.72 7.72c-.78.78-.78 2.05 0 2.83L4 21.41c.39.39.9.59 1.41.59.51 0 1.02-.2 1.41-.59l7.78-7.78 2.81-2.81c.8-.78.8-2.07 0-2.86zM5.41 20L4 18.59l7.72-7.72 1.47 1.35L5.41 20z\"/>\n",
              "  </svg>\n",
              "      </button>\n",
              "      \n",
              "  <style>\n",
              "    .colab-df-container {\n",
              "      display:flex;\n",
              "      flex-wrap:wrap;\n",
              "      gap: 12px;\n",
              "    }\n",
              "\n",
              "    .colab-df-convert {\n",
              "      background-color: #E8F0FE;\n",
              "      border: none;\n",
              "      border-radius: 50%;\n",
              "      cursor: pointer;\n",
              "      display: none;\n",
              "      fill: #1967D2;\n",
              "      height: 32px;\n",
              "      padding: 0 0 0 0;\n",
              "      width: 32px;\n",
              "    }\n",
              "\n",
              "    .colab-df-convert:hover {\n",
              "      background-color: #E2EBFA;\n",
              "      box-shadow: 0px 1px 2px rgba(60, 64, 67, 0.3), 0px 1px 3px 1px rgba(60, 64, 67, 0.15);\n",
              "      fill: #174EA6;\n",
              "    }\n",
              "\n",
              "    [theme=dark] .colab-df-convert {\n",
              "      background-color: #3B4455;\n",
              "      fill: #D2E3FC;\n",
              "    }\n",
              "\n",
              "    [theme=dark] .colab-df-convert:hover {\n",
              "      background-color: #434B5C;\n",
              "      box-shadow: 0px 1px 3px 1px rgba(0, 0, 0, 0.15);\n",
              "      filter: drop-shadow(0px 1px 2px rgba(0, 0, 0, 0.3));\n",
              "      fill: #FFFFFF;\n",
              "    }\n",
              "  </style>\n",
              "\n",
              "      <script>\n",
              "        const buttonEl =\n",
              "          document.querySelector('#df-1aaea4e0-0de6-4348-bd54-94579ee3dda2 button.colab-df-convert');\n",
              "        buttonEl.style.display =\n",
              "          google.colab.kernel.accessAllowed ? 'block' : 'none';\n",
              "\n",
              "        async function convertToInteractive(key) {\n",
              "          const element = document.querySelector('#df-1aaea4e0-0de6-4348-bd54-94579ee3dda2');\n",
              "          const dataTable =\n",
              "            await google.colab.kernel.invokeFunction('convertToInteractive',\n",
              "                                                     [key], {});\n",
              "          if (!dataTable) return;\n",
              "\n",
              "          const docLinkHtml = 'Like what you see? Visit the ' +\n",
              "            '<a target=\"_blank\" href=https://colab.research.google.com/notebooks/data_table.ipynb>data table notebook</a>'\n",
              "            + ' to learn more about interactive tables.';\n",
              "          element.innerHTML = '';\n",
              "          dataTable['output_type'] = 'display_data';\n",
              "          await google.colab.output.renderOutput(dataTable, element);\n",
              "          const docLink = document.createElement('div');\n",
              "          docLink.innerHTML = docLinkHtml;\n",
              "          element.appendChild(docLink);\n",
              "        }\n",
              "      </script>\n",
              "    </div>\n",
              "  </div>\n",
              "  "
            ]
          },
          "metadata": {},
          "execution_count": 177
        }
      ]
    },
    {
      "cell_type": "code",
      "source": [
        "# preferences:\n",
        "# apartments or duplex\n",
        "# T0, T1 or T2\n",
        "# with a maximum price of 500.000€\n",
        "# a price per square meter below the sub-region average\n",
        "# above the ground floor (1st floor or higher)\n",
        "\n",
        "df_results = df_housesx[(((df_housesx['house_type'] == 'Apartamento') | (df_housesx['house_type'] == 'Duplex')) &\n",
        "                        (df_housesx['nb_rooms'] <= 2) &\n",
        "                        (df_housesx['price_in_euros'] <= 500000) &\n",
        "                        (df_housesx['price_ratio'] < 1) &\n",
        "                        (df_housesx['floor'] >= 1))]\n",
        "df_results.head(5)"
      ],
      "metadata": {
        "colab": {
          "base_uri": "https://localhost:8080/",
          "height": 618
        },
        "id": "sTWDDL_3U_2a",
        "outputId": "54357f69-d71d-4fe5-f669-3e49383ebd08"
      },
      "execution_count": 194,
      "outputs": [
        {
          "output_type": "execute_result",
          "data": {
            "text/plain": [
              "                                           sub_parish  subparish_avg_price  \\\n",
              "0   Alto do Lumiar - Quinta das Conchas - Quinta d...          3373.664651   \n",
              "1   Alto do Lumiar - Quinta das Conchas - Quinta d...          3373.664651   \n",
              "2   Alto do Lumiar - Quinta das Conchas - Quinta d...          3373.664651   \n",
              "3   Alto do Lumiar - Quinta das Conchas - Quinta d...          3373.664651   \n",
              "30  Alto do Lumiar - Quinta das Conchas - Quinta d...          3373.664651   \n",
              "\n",
              "          id typology  area_in_m2  floor region_parish  price_in_euros  \\\n",
              "0   31492088      T2          111    3.0        lumiar          335000   \n",
              "1   31492087      T2          125    7.0        lumiar          400000   \n",
              "2   31492090      T2          111    5.0        lumiar          345000   \n",
              "3   31492089      T2          111    5.0        lumiar          345000   \n",
              "30  31327236      T1           79    2.0        lumiar          250000   \n",
              "\n",
              "   seller_contact                             link_idealista  \\\n",
              "0       215550925  https://www.idealista.pt/imovel/31492088/   \n",
              "1       215550925  https://www.idealista.pt/imovel/31492087/   \n",
              "2       215550925  https://www.idealista.pt/imovel/31492090/   \n",
              "3       215550925  https://www.idealista.pt/imovel/31492089/   \n",
              "30      215552851  https://www.idealista.pt/imovel/31327236/   \n",
              "\n",
              "                                   idealista_ad_title  price_per_m2  \\\n",
              "0   Apartamento T2 em Alto do Lumiar - Quinta das ...   3018.018018   \n",
              "1   Apartamento T2 em Alto do Lumiar - Quinta das ...   3200.000000   \n",
              "2   Apartamento T2 em Alto do Lumiar - Quinta das ...   3108.108108   \n",
              "3   Apartamento T2 em Alto do Lumiar - Quinta das ...   3108.108108   \n",
              "30  Apartamento T1 na avenida David Mourão-Ferreir...   3164.556962   \n",
              "\n",
              "     house_type  nb_rooms  price_ratio  \n",
              "0   Apartamento         2     0.894582  \n",
              "1   Apartamento         2     0.948523  \n",
              "2   Apartamento         2     0.921285  \n",
              "3   Apartamento         2     0.921285  \n",
              "30  Apartamento         1     0.938018  "
            ],
            "text/html": [
              "\n",
              "  <div id=\"df-36bd2a11-dcf4-4f07-ac1b-cdabadc5f632\">\n",
              "    <div class=\"colab-df-container\">\n",
              "      <div>\n",
              "<style scoped>\n",
              "    .dataframe tbody tr th:only-of-type {\n",
              "        vertical-align: middle;\n",
              "    }\n",
              "\n",
              "    .dataframe tbody tr th {\n",
              "        vertical-align: top;\n",
              "    }\n",
              "\n",
              "    .dataframe thead th {\n",
              "        text-align: right;\n",
              "    }\n",
              "</style>\n",
              "<table border=\"1\" class=\"dataframe\">\n",
              "  <thead>\n",
              "    <tr style=\"text-align: right;\">\n",
              "      <th></th>\n",
              "      <th>sub_parish</th>\n",
              "      <th>subparish_avg_price</th>\n",
              "      <th>id</th>\n",
              "      <th>typology</th>\n",
              "      <th>area_in_m2</th>\n",
              "      <th>floor</th>\n",
              "      <th>region_parish</th>\n",
              "      <th>price_in_euros</th>\n",
              "      <th>seller_contact</th>\n",
              "      <th>link_idealista</th>\n",
              "      <th>idealista_ad_title</th>\n",
              "      <th>price_per_m2</th>\n",
              "      <th>house_type</th>\n",
              "      <th>nb_rooms</th>\n",
              "      <th>price_ratio</th>\n",
              "    </tr>\n",
              "  </thead>\n",
              "  <tbody>\n",
              "    <tr>\n",
              "      <th>0</th>\n",
              "      <td>Alto do Lumiar - Quinta das Conchas - Quinta d...</td>\n",
              "      <td>3373.664651</td>\n",
              "      <td>31492088</td>\n",
              "      <td>T2</td>\n",
              "      <td>111</td>\n",
              "      <td>3.0</td>\n",
              "      <td>lumiar</td>\n",
              "      <td>335000</td>\n",
              "      <td>215550925</td>\n",
              "      <td>https://www.idealista.pt/imovel/31492088/</td>\n",
              "      <td>Apartamento T2 em Alto do Lumiar - Quinta das ...</td>\n",
              "      <td>3018.018018</td>\n",
              "      <td>Apartamento</td>\n",
              "      <td>2</td>\n",
              "      <td>0.894582</td>\n",
              "    </tr>\n",
              "    <tr>\n",
              "      <th>1</th>\n",
              "      <td>Alto do Lumiar - Quinta das Conchas - Quinta d...</td>\n",
              "      <td>3373.664651</td>\n",
              "      <td>31492087</td>\n",
              "      <td>T2</td>\n",
              "      <td>125</td>\n",
              "      <td>7.0</td>\n",
              "      <td>lumiar</td>\n",
              "      <td>400000</td>\n",
              "      <td>215550925</td>\n",
              "      <td>https://www.idealista.pt/imovel/31492087/</td>\n",
              "      <td>Apartamento T2 em Alto do Lumiar - Quinta das ...</td>\n",
              "      <td>3200.000000</td>\n",
              "      <td>Apartamento</td>\n",
              "      <td>2</td>\n",
              "      <td>0.948523</td>\n",
              "    </tr>\n",
              "    <tr>\n",
              "      <th>2</th>\n",
              "      <td>Alto do Lumiar - Quinta das Conchas - Quinta d...</td>\n",
              "      <td>3373.664651</td>\n",
              "      <td>31492090</td>\n",
              "      <td>T2</td>\n",
              "      <td>111</td>\n",
              "      <td>5.0</td>\n",
              "      <td>lumiar</td>\n",
              "      <td>345000</td>\n",
              "      <td>215550925</td>\n",
              "      <td>https://www.idealista.pt/imovel/31492090/</td>\n",
              "      <td>Apartamento T2 em Alto do Lumiar - Quinta das ...</td>\n",
              "      <td>3108.108108</td>\n",
              "      <td>Apartamento</td>\n",
              "      <td>2</td>\n",
              "      <td>0.921285</td>\n",
              "    </tr>\n",
              "    <tr>\n",
              "      <th>3</th>\n",
              "      <td>Alto do Lumiar - Quinta das Conchas - Quinta d...</td>\n",
              "      <td>3373.664651</td>\n",
              "      <td>31492089</td>\n",
              "      <td>T2</td>\n",
              "      <td>111</td>\n",
              "      <td>5.0</td>\n",
              "      <td>lumiar</td>\n",
              "      <td>345000</td>\n",
              "      <td>215550925</td>\n",
              "      <td>https://www.idealista.pt/imovel/31492089/</td>\n",
              "      <td>Apartamento T2 em Alto do Lumiar - Quinta das ...</td>\n",
              "      <td>3108.108108</td>\n",
              "      <td>Apartamento</td>\n",
              "      <td>2</td>\n",
              "      <td>0.921285</td>\n",
              "    </tr>\n",
              "    <tr>\n",
              "      <th>30</th>\n",
              "      <td>Alto do Lumiar - Quinta das Conchas - Quinta d...</td>\n",
              "      <td>3373.664651</td>\n",
              "      <td>31327236</td>\n",
              "      <td>T1</td>\n",
              "      <td>79</td>\n",
              "      <td>2.0</td>\n",
              "      <td>lumiar</td>\n",
              "      <td>250000</td>\n",
              "      <td>215552851</td>\n",
              "      <td>https://www.idealista.pt/imovel/31327236/</td>\n",
              "      <td>Apartamento T1 na avenida David Mourão-Ferreir...</td>\n",
              "      <td>3164.556962</td>\n",
              "      <td>Apartamento</td>\n",
              "      <td>1</td>\n",
              "      <td>0.938018</td>\n",
              "    </tr>\n",
              "  </tbody>\n",
              "</table>\n",
              "</div>\n",
              "      <button class=\"colab-df-convert\" onclick=\"convertToInteractive('df-36bd2a11-dcf4-4f07-ac1b-cdabadc5f632')\"\n",
              "              title=\"Convert this dataframe to an interactive table.\"\n",
              "              style=\"display:none;\">\n",
              "        \n",
              "  <svg xmlns=\"http://www.w3.org/2000/svg\" height=\"24px\"viewBox=\"0 0 24 24\"\n",
              "       width=\"24px\">\n",
              "    <path d=\"M0 0h24v24H0V0z\" fill=\"none\"/>\n",
              "    <path d=\"M18.56 5.44l.94 2.06.94-2.06 2.06-.94-2.06-.94-.94-2.06-.94 2.06-2.06.94zm-11 1L8.5 8.5l.94-2.06 2.06-.94-2.06-.94L8.5 2.5l-.94 2.06-2.06.94zm10 10l.94 2.06.94-2.06 2.06-.94-2.06-.94-.94-2.06-.94 2.06-2.06.94z\"/><path d=\"M17.41 7.96l-1.37-1.37c-.4-.4-.92-.59-1.43-.59-.52 0-1.04.2-1.43.59L10.3 9.45l-7.72 7.72c-.78.78-.78 2.05 0 2.83L4 21.41c.39.39.9.59 1.41.59.51 0 1.02-.2 1.41-.59l7.78-7.78 2.81-2.81c.8-.78.8-2.07 0-2.86zM5.41 20L4 18.59l7.72-7.72 1.47 1.35L5.41 20z\"/>\n",
              "  </svg>\n",
              "      </button>\n",
              "      \n",
              "  <style>\n",
              "    .colab-df-container {\n",
              "      display:flex;\n",
              "      flex-wrap:wrap;\n",
              "      gap: 12px;\n",
              "    }\n",
              "\n",
              "    .colab-df-convert {\n",
              "      background-color: #E8F0FE;\n",
              "      border: none;\n",
              "      border-radius: 50%;\n",
              "      cursor: pointer;\n",
              "      display: none;\n",
              "      fill: #1967D2;\n",
              "      height: 32px;\n",
              "      padding: 0 0 0 0;\n",
              "      width: 32px;\n",
              "    }\n",
              "\n",
              "    .colab-df-convert:hover {\n",
              "      background-color: #E2EBFA;\n",
              "      box-shadow: 0px 1px 2px rgba(60, 64, 67, 0.3), 0px 1px 3px 1px rgba(60, 64, 67, 0.15);\n",
              "      fill: #174EA6;\n",
              "    }\n",
              "\n",
              "    [theme=dark] .colab-df-convert {\n",
              "      background-color: #3B4455;\n",
              "      fill: #D2E3FC;\n",
              "    }\n",
              "\n",
              "    [theme=dark] .colab-df-convert:hover {\n",
              "      background-color: #434B5C;\n",
              "      box-shadow: 0px 1px 3px 1px rgba(0, 0, 0, 0.15);\n",
              "      filter: drop-shadow(0px 1px 2px rgba(0, 0, 0, 0.3));\n",
              "      fill: #FFFFFF;\n",
              "    }\n",
              "  </style>\n",
              "\n",
              "      <script>\n",
              "        const buttonEl =\n",
              "          document.querySelector('#df-36bd2a11-dcf4-4f07-ac1b-cdabadc5f632 button.colab-df-convert');\n",
              "        buttonEl.style.display =\n",
              "          google.colab.kernel.accessAllowed ? 'block' : 'none';\n",
              "\n",
              "        async function convertToInteractive(key) {\n",
              "          const element = document.querySelector('#df-36bd2a11-dcf4-4f07-ac1b-cdabadc5f632');\n",
              "          const dataTable =\n",
              "            await google.colab.kernel.invokeFunction('convertToInteractive',\n",
              "                                                     [key], {});\n",
              "          if (!dataTable) return;\n",
              "\n",
              "          const docLinkHtml = 'Like what you see? Visit the ' +\n",
              "            '<a target=\"_blank\" href=https://colab.research.google.com/notebooks/data_table.ipynb>data table notebook</a>'\n",
              "            + ' to learn more about interactive tables.';\n",
              "          element.innerHTML = '';\n",
              "          dataTable['output_type'] = 'display_data';\n",
              "          await google.colab.output.renderOutput(dataTable, element);\n",
              "          const docLink = document.createElement('div');\n",
              "          docLink.innerHTML = docLinkHtml;\n",
              "          element.appendChild(docLink);\n",
              "        }\n",
              "      </script>\n",
              "    </div>\n",
              "  </div>\n",
              "  "
            ]
          },
          "metadata": {},
          "execution_count": 194
        }
      ]
    },
    {
      "cell_type": "code",
      "source": [
        "df_results.sort_values(by=\"price_ratio\", ascending=True).head(5)"
      ],
      "metadata": {
        "colab": {
          "base_uri": "https://localhost:8080/",
          "height": 444
        },
        "id": "59h99kT6VPtn",
        "outputId": "ad479d4e-60de-403f-9850-37543c68e2b8"
      },
      "execution_count": 196,
      "outputs": [
        {
          "output_type": "execute_result",
          "data": {
            "text/plain": [
              "                  sub_parish  subparish_avg_price        id typology  \\\n",
              "860  Centro - Nova Campolide          6272.029879  30678844      T1    \n",
              "861  Centro - Nova Campolide          6272.029879  30613146      T1    \n",
              "745  Centro - Nova Campolide          6272.029879  31293805      T2    \n",
              "684  Centro - Nova Campolide          6272.029879  31464728      T2    \n",
              "797  Centro - Nova Campolide          6272.029879  31083816      T2    \n",
              "\n",
              "     area_in_m2  floor region_parish  price_in_euros seller_contact  \\\n",
              "860          63    1.0     campolide          115000    215568914.0   \n",
              "861          60    2.0     campolide          175000    215552859.0   \n",
              "745          69    2.0     campolide          209000    215555738.0   \n",
              "684         105    3.0     campolide          318500    215555267.0   \n",
              "797         105    3.0     campolide          326500    215556715.0   \n",
              "\n",
              "                                link_idealista  \\\n",
              "860  https://www.idealista.pt/imovel/30678844/   \n",
              "861  https://www.idealista.pt/imovel/30613146/   \n",
              "745  https://www.idealista.pt/imovel/31293805/   \n",
              "684  https://www.idealista.pt/imovel/31464728/   \n",
              "797  https://www.idealista.pt/imovel/31083816/   \n",
              "\n",
              "                                    idealista_ad_title  price_per_m2  \\\n",
              "860  Apartamento T1 na rua Conde Antas, 66, Centro ...   1825.396825   \n",
              "861  Apartamento T1 na rua Arco do Carvalhão, s/n, ...   2916.666667   \n",
              "745  Apartamento T2 em Centro - Nova Campolide, Cam...   3028.985507   \n",
              "684  Apartamento T2 na rua General Taborda, 3, Cent...   3033.333333   \n",
              "797  Apartamento T2 em Centro - Nova Campolide, Cam...   3109.523810   \n",
              "\n",
              "      house_type  nb_rooms  price_ratio  \n",
              "860  Apartamento         1     0.291038  \n",
              "861  Apartamento         1     0.465028  \n",
              "745  Apartamento         2     0.482935  \n",
              "684  Apartamento         2     0.483629  \n",
              "797  Apartamento         2     0.495776  "
            ],
            "text/html": [
              "\n",
              "  <div id=\"df-9b4510a2-d2b7-48ac-b32e-b00a93d05301\">\n",
              "    <div class=\"colab-df-container\">\n",
              "      <div>\n",
              "<style scoped>\n",
              "    .dataframe tbody tr th:only-of-type {\n",
              "        vertical-align: middle;\n",
              "    }\n",
              "\n",
              "    .dataframe tbody tr th {\n",
              "        vertical-align: top;\n",
              "    }\n",
              "\n",
              "    .dataframe thead th {\n",
              "        text-align: right;\n",
              "    }\n",
              "</style>\n",
              "<table border=\"1\" class=\"dataframe\">\n",
              "  <thead>\n",
              "    <tr style=\"text-align: right;\">\n",
              "      <th></th>\n",
              "      <th>sub_parish</th>\n",
              "      <th>subparish_avg_price</th>\n",
              "      <th>id</th>\n",
              "      <th>typology</th>\n",
              "      <th>area_in_m2</th>\n",
              "      <th>floor</th>\n",
              "      <th>region_parish</th>\n",
              "      <th>price_in_euros</th>\n",
              "      <th>seller_contact</th>\n",
              "      <th>link_idealista</th>\n",
              "      <th>idealista_ad_title</th>\n",
              "      <th>price_per_m2</th>\n",
              "      <th>house_type</th>\n",
              "      <th>nb_rooms</th>\n",
              "      <th>price_ratio</th>\n",
              "    </tr>\n",
              "  </thead>\n",
              "  <tbody>\n",
              "    <tr>\n",
              "      <th>860</th>\n",
              "      <td>Centro - Nova Campolide</td>\n",
              "      <td>6272.029879</td>\n",
              "      <td>30678844</td>\n",
              "      <td>T1</td>\n",
              "      <td>63</td>\n",
              "      <td>1.0</td>\n",
              "      <td>campolide</td>\n",
              "      <td>115000</td>\n",
              "      <td>215568914.0</td>\n",
              "      <td>https://www.idealista.pt/imovel/30678844/</td>\n",
              "      <td>Apartamento T1 na rua Conde Antas, 66, Centro ...</td>\n",
              "      <td>1825.396825</td>\n",
              "      <td>Apartamento</td>\n",
              "      <td>1</td>\n",
              "      <td>0.291038</td>\n",
              "    </tr>\n",
              "    <tr>\n",
              "      <th>861</th>\n",
              "      <td>Centro - Nova Campolide</td>\n",
              "      <td>6272.029879</td>\n",
              "      <td>30613146</td>\n",
              "      <td>T1</td>\n",
              "      <td>60</td>\n",
              "      <td>2.0</td>\n",
              "      <td>campolide</td>\n",
              "      <td>175000</td>\n",
              "      <td>215552859.0</td>\n",
              "      <td>https://www.idealista.pt/imovel/30613146/</td>\n",
              "      <td>Apartamento T1 na rua Arco do Carvalhão, s/n, ...</td>\n",
              "      <td>2916.666667</td>\n",
              "      <td>Apartamento</td>\n",
              "      <td>1</td>\n",
              "      <td>0.465028</td>\n",
              "    </tr>\n",
              "    <tr>\n",
              "      <th>745</th>\n",
              "      <td>Centro - Nova Campolide</td>\n",
              "      <td>6272.029879</td>\n",
              "      <td>31293805</td>\n",
              "      <td>T2</td>\n",
              "      <td>69</td>\n",
              "      <td>2.0</td>\n",
              "      <td>campolide</td>\n",
              "      <td>209000</td>\n",
              "      <td>215555738.0</td>\n",
              "      <td>https://www.idealista.pt/imovel/31293805/</td>\n",
              "      <td>Apartamento T2 em Centro - Nova Campolide, Cam...</td>\n",
              "      <td>3028.985507</td>\n",
              "      <td>Apartamento</td>\n",
              "      <td>2</td>\n",
              "      <td>0.482935</td>\n",
              "    </tr>\n",
              "    <tr>\n",
              "      <th>684</th>\n",
              "      <td>Centro - Nova Campolide</td>\n",
              "      <td>6272.029879</td>\n",
              "      <td>31464728</td>\n",
              "      <td>T2</td>\n",
              "      <td>105</td>\n",
              "      <td>3.0</td>\n",
              "      <td>campolide</td>\n",
              "      <td>318500</td>\n",
              "      <td>215555267.0</td>\n",
              "      <td>https://www.idealista.pt/imovel/31464728/</td>\n",
              "      <td>Apartamento T2 na rua General Taborda, 3, Cent...</td>\n",
              "      <td>3033.333333</td>\n",
              "      <td>Apartamento</td>\n",
              "      <td>2</td>\n",
              "      <td>0.483629</td>\n",
              "    </tr>\n",
              "    <tr>\n",
              "      <th>797</th>\n",
              "      <td>Centro - Nova Campolide</td>\n",
              "      <td>6272.029879</td>\n",
              "      <td>31083816</td>\n",
              "      <td>T2</td>\n",
              "      <td>105</td>\n",
              "      <td>3.0</td>\n",
              "      <td>campolide</td>\n",
              "      <td>326500</td>\n",
              "      <td>215556715.0</td>\n",
              "      <td>https://www.idealista.pt/imovel/31083816/</td>\n",
              "      <td>Apartamento T2 em Centro - Nova Campolide, Cam...</td>\n",
              "      <td>3109.523810</td>\n",
              "      <td>Apartamento</td>\n",
              "      <td>2</td>\n",
              "      <td>0.495776</td>\n",
              "    </tr>\n",
              "  </tbody>\n",
              "</table>\n",
              "</div>\n",
              "      <button class=\"colab-df-convert\" onclick=\"convertToInteractive('df-9b4510a2-d2b7-48ac-b32e-b00a93d05301')\"\n",
              "              title=\"Convert this dataframe to an interactive table.\"\n",
              "              style=\"display:none;\">\n",
              "        \n",
              "  <svg xmlns=\"http://www.w3.org/2000/svg\" height=\"24px\"viewBox=\"0 0 24 24\"\n",
              "       width=\"24px\">\n",
              "    <path d=\"M0 0h24v24H0V0z\" fill=\"none\"/>\n",
              "    <path d=\"M18.56 5.44l.94 2.06.94-2.06 2.06-.94-2.06-.94-.94-2.06-.94 2.06-2.06.94zm-11 1L8.5 8.5l.94-2.06 2.06-.94-2.06-.94L8.5 2.5l-.94 2.06-2.06.94zm10 10l.94 2.06.94-2.06 2.06-.94-2.06-.94-.94-2.06-.94 2.06-2.06.94z\"/><path d=\"M17.41 7.96l-1.37-1.37c-.4-.4-.92-.59-1.43-.59-.52 0-1.04.2-1.43.59L10.3 9.45l-7.72 7.72c-.78.78-.78 2.05 0 2.83L4 21.41c.39.39.9.59 1.41.59.51 0 1.02-.2 1.41-.59l7.78-7.78 2.81-2.81c.8-.78.8-2.07 0-2.86zM5.41 20L4 18.59l7.72-7.72 1.47 1.35L5.41 20z\"/>\n",
              "  </svg>\n",
              "      </button>\n",
              "      \n",
              "  <style>\n",
              "    .colab-df-container {\n",
              "      display:flex;\n",
              "      flex-wrap:wrap;\n",
              "      gap: 12px;\n",
              "    }\n",
              "\n",
              "    .colab-df-convert {\n",
              "      background-color: #E8F0FE;\n",
              "      border: none;\n",
              "      border-radius: 50%;\n",
              "      cursor: pointer;\n",
              "      display: none;\n",
              "      fill: #1967D2;\n",
              "      height: 32px;\n",
              "      padding: 0 0 0 0;\n",
              "      width: 32px;\n",
              "    }\n",
              "\n",
              "    .colab-df-convert:hover {\n",
              "      background-color: #E2EBFA;\n",
              "      box-shadow: 0px 1px 2px rgba(60, 64, 67, 0.3), 0px 1px 3px 1px rgba(60, 64, 67, 0.15);\n",
              "      fill: #174EA6;\n",
              "    }\n",
              "\n",
              "    [theme=dark] .colab-df-convert {\n",
              "      background-color: #3B4455;\n",
              "      fill: #D2E3FC;\n",
              "    }\n",
              "\n",
              "    [theme=dark] .colab-df-convert:hover {\n",
              "      background-color: #434B5C;\n",
              "      box-shadow: 0px 1px 3px 1px rgba(0, 0, 0, 0.15);\n",
              "      filter: drop-shadow(0px 1px 2px rgba(0, 0, 0, 0.3));\n",
              "      fill: #FFFFFF;\n",
              "    }\n",
              "  </style>\n",
              "\n",
              "      <script>\n",
              "        const buttonEl =\n",
              "          document.querySelector('#df-9b4510a2-d2b7-48ac-b32e-b00a93d05301 button.colab-df-convert');\n",
              "        buttonEl.style.display =\n",
              "          google.colab.kernel.accessAllowed ? 'block' : 'none';\n",
              "\n",
              "        async function convertToInteractive(key) {\n",
              "          const element = document.querySelector('#df-9b4510a2-d2b7-48ac-b32e-b00a93d05301');\n",
              "          const dataTable =\n",
              "            await google.colab.kernel.invokeFunction('convertToInteractive',\n",
              "                                                     [key], {});\n",
              "          if (!dataTable) return;\n",
              "\n",
              "          const docLinkHtml = 'Like what you see? Visit the ' +\n",
              "            '<a target=\"_blank\" href=https://colab.research.google.com/notebooks/data_table.ipynb>data table notebook</a>'\n",
              "            + ' to learn more about interactive tables.';\n",
              "          element.innerHTML = '';\n",
              "          dataTable['output_type'] = 'display_data';\n",
              "          await google.colab.output.renderOutput(dataTable, element);\n",
              "          const docLink = document.createElement('div');\n",
              "          docLink.innerHTML = docLinkHtml;\n",
              "          element.appendChild(docLink);\n",
              "        }\n",
              "      </script>\n",
              "    </div>\n",
              "  </div>\n",
              "  "
            ]
          },
          "metadata": {},
          "execution_count": 196
        }
      ]
    },
    {
      "cell_type": "code",
      "source": [
        ""
      ],
      "metadata": {
        "id": "QZo5YIDabBAO"
      },
      "execution_count": null,
      "outputs": []
    }
  ]
}