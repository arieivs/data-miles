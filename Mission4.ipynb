{
  "nbformat": 4,
  "nbformat_minor": 0,
  "metadata": {
    "colab": {
      "name": "Mission4.ipynb",
      "provenance": [],
      "collapsed_sections": []
    },
    "kernelspec": {
      "name": "python3",
      "display_name": "Python 3"
    },
    "language_info": {
      "name": "python"
    }
  },
  "cells": [
    {
      "cell_type": "markdown",
      "source": [
        "# Real Estate Web Scraper"
      ],
      "metadata": {
        "id": "8vg24lxCVrPl"
      }
    },
    {
      "cell_type": "code",
      "source": [
        "# headers for get method for Idealista website\n",
        "headers_idealista = {\n",
        "                      'accept': 'text/html,application/xhtml+xml,application/xml;q=0.9,image/avif,'\\\n",
        "                          'image/webp,image/apng,*/*;q=0.8,application/signed-exchange;v=b3;q=0.9',\n",
        "                      'accept-encoding': 'gzip, deflate, br',\n",
        "                      'accept-language': 'pt-PT,pt;q=0.9,en-US;q=0.8,en;q=0.7',\n",
        "                      'cache-control': 'max-age=0',\n",
        "                      'referer': 'https://www.idealista.pt/en/comprar-casas/lisboa/?ordem=atualizado-desc',\n",
        "                      'sec-ch-ua': '\" Not;A Brand\";v=\"99\", \"Google Chrome\";v=\"91\", \"Chromium\";v=\"91\"',\n",
        "                      'sec-ch-ua-mobile': '?0',\n",
        "                      'sec-fetch-dest': 'document',\n",
        "                      'sec-fetch-mode': 'navigate',\n",
        "                      'sec-fetch-site': 'same-origin',\n",
        "                      'sec-fetch-user': '?1',\n",
        "                      'upgrade-insecure-requests': '1',\n",
        "                      'user-agent': 'Mozilla/5.0 (Windows NT 10.0; Win64; x64) AppleWebKit/537.36 (KHTML, like Gecko) '\\\n",
        "                          'Chrome/91.0.4472.77 Safari/537.36'\n",
        "                  }"
      ],
      "metadata": {
        "id": "RCsQZyDEVqgi"
      },
      "execution_count": null,
      "outputs": []
    },
    {
      "cell_type": "code",
      "source": [
        "from requests import get\n",
        "from bs4 import BeautifulSoup"
      ],
      "metadata": {
        "id": "M21rQGI3WyUS"
      },
      "execution_count": null,
      "outputs": []
    },
    {
      "cell_type": "code",
      "source": [
        "# I wanted to get the information needed to build the dictionary\n",
        "# from the downloaded html page, so that I'm not continuously making requests\n",
        "# html_file = open(\"/content/drive/MyDrive/Colab Notebooks/idealista.html\", \"r\")\n",
        "# html_soup = BeautifulSoup(html_file.read(), 'html.parser')\n",
        "# base_url = \"https://www.idealista.pt\"\n",
        "# parish_name = \"Lumiar\"\n",
        "# things used while creating the method below"
      ],
      "metadata": {
        "id": "6ehHNVoobsqX"
      },
      "execution_count": null,
      "outputs": []
    },
    {
      "cell_type": "code",
      "source": [
        "# For guidance:\n",
        "# t2_campolide = {'ad_title': \"Apartamento T2 em Centro - Nova Campolide, Campolide\",\n",
        "#                'ad_id': 29929511,\n",
        "#                'ad_link': \"https://www.idealista.pt/imovel/29929511/)\",\n",
        "#                'house_typology': \"T2\",\n",
        "#                'house_price_euros': 735000,\n",
        "#                'house_area_m2: 106,\n",
        "#                'house_floor': '1º andar',\n",
        "#                'house_parish': \"Campolide\",\n",
        "#                'seller_contact': 210020965}\n",
        "\n",
        "def get_houses_per_subparish(url, parish_name, houses_dict):\n",
        "  base_url = \"https://www.idealista.pt\" # should I give base_url as arg?\n",
        "  response = get(url, headers=headers_idealista)\n",
        "  html_soup = BeautifulSoup(response.text, 'html.parser')\n",
        "  houses_soup = html_soup.find_all('article', class_=\"item\")\n",
        "  for house_soup in houses_soup:\n",
        "    house_dict = {}\n",
        "    house_dict['ad_id'] = int(house_soup['data-adid'])\n",
        "    house_dict['ad_title'] = house_soup.find('a', class_='item-link')['title']\n",
        "    house_dict['ad_link'] = base_url + house_soup.find('a', class_='item-link')['href']\n",
        "    house_details = house_soup.find_all('span', class_='item-detail')\n",
        "    house_dict['house_typology'] = house_details[0].text\n",
        "    # is there a better way other than descentants?\n",
        "    house_dict['house_area_m2'] = int(list(house_details[1].descendants)[0].replace('.', ''))\n",
        "    try:\n",
        "      house_dict['house_floor'] = list(house_details[2].descendants)[0]\n",
        "    except:\n",
        "      house_dict['house_floor'] = \"\"\n",
        "    house_dict['house_price_euros'] = int(list(house_soup.find('span', class_='item-price').descendants)[0].replace('.', ''))\n",
        "    house_dict['house_parish'] = parish_name\n",
        "    try:\n",
        "      house_dict['seller_contact'] = int(house_soup.find('span', class_='icon-phone item-not-clickable-phone').text)\n",
        "    except:\n",
        "      house_dict['seller_contact'] = \"\"\n",
        "    houses_dict.append(house_dict)\n",
        "  if html_soup.find('li', class_=\"next\"):\n",
        "    url = base_url + html_soup.find('li', class_=\"next\").a['href']\n",
        "    get_houses_per_subparish(url, parish_name, houses_dict)\n"
      ],
      "metadata": {
        "id": "RLPnTeeMdYuo"
      },
      "execution_count": null,
      "outputs": []
    },
    {
      "cell_type": "code",
      "source": [
        "# there's a maximum of 30 houses per page\n",
        "parishes = [\n",
        "            {\n",
        "                'name': 'Campolide',\n",
        "                'slug': 'campolide',\n",
        "                'sub_parishes': ['bairro-da-serafina', 'praca-de-espanha-sete-rios', 'bairro-calcada-dos-mestres', 'centro-nova-campolide']\n",
        "            },\n",
        "            {\n",
        "                'name': 'Lumiar',\n",
        "                'slug': 'lumiar',\n",
        "                'sub_parishes': ['paco-do-lumiar', 'quinta-dos-alcoutins', 'carriche-hospital-das-forcas-armadas',\n",
        "                            'alto-do-lumiar-quinta-das-conchas-quinta-do-lambert', 'centro', 'telheiras']\n",
        "            },\n",
        "            {\n",
        "                'name': 'São Domingos de Benfica',\n",
        "                'slug': 'sao-domingos-de-benfica',\n",
        "                'sub_parishes': ['alto-dos-moinhos', 'laranjeiras', 'estrada-de-benfica', 'sete-rios']\n",
        "            }\n",
        "           ]\n",
        "\n",
        "def get_houses_idealista(parishes):\n",
        "  base_url = \"https://www.idealista.pt\"\n",
        "  houses = []\n",
        "  for parish in parishes:\n",
        "    for sub_parish in parish['sub_parishes']:\n",
        "      url = base_url + '/comprar-casas/' + parish['slug'] + '/' + sub_parish + '/'\n",
        "      get_houses_per_subparish(url, parish['name'], houses)\n",
        "  return houses\n",
        "\n",
        "houses_idealista = get_houses_idealista(parishes)"
      ],
      "metadata": {
        "id": "OcacpsvvgFE9"
      },
      "execution_count": null,
      "outputs": []
    },
    {
      "cell_type": "code",
      "source": [
        "len(houses_idealista)"
      ],
      "metadata": {
        "id": "LxAFpImh8-1_",
        "colab": {
          "base_uri": "https://localhost:8080/"
        },
        "outputId": "ecb3cb3e-5766-48c6-b6f5-1bb9922419cd"
      },
      "execution_count": null,
      "outputs": [
        {
          "output_type": "execute_result",
          "data": {
            "text/plain": [
              "530"
            ]
          },
          "metadata": {},
          "execution_count": 16
        }
      ]
    },
    {
      "cell_type": "code",
      "source": [
        "houses_idealista[0]"
      ],
      "metadata": {
        "colab": {
          "base_uri": "https://localhost:8080/"
        },
        "id": "bvFXFI-oe6xH",
        "outputId": "bb12c137-dedf-4a2a-c8c4-f89570d0edeb"
      },
      "execution_count": null,
      "outputs": [
        {
          "output_type": "execute_result",
          "data": {
            "text/plain": [
              "{'ad_id': 31684620,\n",
              " 'ad_link': 'https://www.idealista.pt/imovel/31684620/',\n",
              " 'ad_title': 'Moradia em Bairro da Serafina, Campolide',\n",
              " 'house_area_m2': 103,\n",
              " 'house_floor': '',\n",
              " 'house_parish': 'Campolide',\n",
              " 'house_price_euros': 118000,\n",
              " 'house_typology': 'T7 ',\n",
              " 'seller_contact': 215561507}"
            ]
          },
          "metadata": {},
          "execution_count": 17
        }
      ]
    },
    {
      "cell_type": "code",
      "source": [
        ""
      ],
      "metadata": {
        "id": "1Ha3IQoZe8mC"
      },
      "execution_count": null,
      "outputs": []
    }
  ]
}