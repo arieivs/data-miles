{
  "nbformat": 4,
  "nbformat_minor": 0,
  "metadata": {
    "colab": {
      "name": "Mission1.ipynb",
      "provenance": [],
      "collapsed_sections": []
    },
    "kernelspec": {
      "name": "python3",
      "display_name": "Python 3"
    },
    "language_info": {
      "name": "python"
    }
  },
  "cells": [
    {
      "cell_type": "markdown",
      "source": [
        "# 1. Energy and Water Accessibility and Consumption"
      ],
      "metadata": {
        "id": "vT87IJoOmGJS"
      }
    },
    {
      "cell_type": "code",
      "source": [
        "# Import libraries\n",
        "# import pandas as pd\n",
        "# from matplotlib import pyplot as plt\n",
        "import numpy as np"
      ],
      "metadata": {
        "id": "NmbzT_edma45"
      },
      "execution_count": null,
      "outputs": []
    },
    {
      "cell_type": "markdown",
      "source": [
        "## 1.1. Of all energy used in the world, how much comes from natural gas, coal and oil?"
      ],
      "metadata": {
        "id": "lvIdy3AAsir5"
      }
    },
    {
      "cell_type": "code",
      "source": [
        "# Global direct primary energy consumption in TWh by source in 2019\n",
        "# Source: Our World in Data\n",
        "\n",
        "coal = 43849\n",
        "oil = 53620\n",
        "gas = 39292\n",
        "biomass = 11111\n",
        "hydropower = 4222\n",
        "nuclear = 2796\n",
        "wind = 1430\n",
        "biofuels = 1143\n",
        "solar = 724\n",
        "other_renewables = 652\n",
        "total = 158839"
      ],
      "metadata": {
        "id": "xzmpquC5nWS8"
      },
      "execution_count": null,
      "outputs": []
    },
    {
      "cell_type": "code",
      "source": [
        "fossil_fuels_total = coal + oil + gas\n",
        "fossil_fuels_percentage = (fossil_fuels_total / total) * 100\n",
        "print(fossil_fuels_percentage)"
      ],
      "metadata": {
        "colab": {
          "base_uri": "https://localhost:8080/"
        },
        "id": "rKcgjnaxrx7d",
        "outputId": "0ed09036-56b1-469d-ff12-bffca9d63167"
      },
      "execution_count": null,
      "outputs": [
        {
          "output_type": "stream",
          "name": "stdout",
          "text": [
            "86.10039096191741\n"
          ]
        }
      ]
    },
    {
      "cell_type": "markdown",
      "source": [
        "## 1.2. How many people in the world have some access to electricity?"
      ],
      "metadata": {
        "id": "YDT_3fEasOIV"
      }
    },
    {
      "cell_type": "code",
      "source": [
        "# Electricty access of countries by income\n",
        "# Source: The World Bank\n",
        "\n",
        "# Low income countries\n",
        "low_total_population = 647870823\n",
        "low_population_access_electricity_relative = 0.4092\n",
        "\n",
        "# Middle income countries\n",
        "middle_total_population = 5786162963\n",
        "middle_population_access_electricity_relative = 0.9351\n",
        "\n",
        "# High income countries\n",
        "high_total_population = 1210795776\n",
        "high_population_access_electricity_relative = 0.9999"
      ],
      "metadata": {
        "id": "Knpe4IgYndEF"
      },
      "execution_count": null,
      "outputs": []
    },
    {
      "cell_type": "code",
      "source": [
        "low_population_access_electricity = low_total_population * low_population_access_electricity_relative\n",
        "middle_population_access_electricity = middle_total_population * middle_population_access_electricity_relative\n",
        "high_population_access_electricity = high_total_population * high_population_access_electricity_relative\n",
        "population_access_electricity = low_population_access_electricity + middle_population_access_electricity + high_population_access_electricity\n",
        "total_population = low_total_population + middle_total_population + high_total_population\n",
        "population_access_electricity_relative = population_access_electricity / total_population\n",
        "print(population_access_electricity_relative)"
      ],
      "metadata": {
        "colab": {
          "base_uri": "https://localhost:8080/"
        },
        "id": "1E1SYeyCsr-t",
        "outputId": "1259c791-a36f-4dd0-b86b-5d56988de33d"
      },
      "execution_count": null,
      "outputs": [
        {
          "output_type": "stream",
          "name": "stdout",
          "text": [
            "0.9007950233613462\n"
          ]
        }
      ]
    },
    {
      "cell_type": "markdown",
      "source": [
        "## 1.3 How many people in the world have access to safe drinking water in their home or close by?"
      ],
      "metadata": {
        "id": "a794C8Xit-gC"
      }
    },
    {
      "cell_type": "code",
      "source": [
        "# Water access by safely management services\n",
        "# Source: Our World in Data\n",
        "population_with_safe_water_services = 5.4E9\n",
        "population_without_safe_water_services = 2.25E9"
      ],
      "metadata": {
        "id": "jcjjdjxspuKW"
      },
      "execution_count": null,
      "outputs": []
    },
    {
      "cell_type": "code",
      "source": [
        "population_with_safe_water_services_relative = population_with_safe_water_services / total_population\n",
        "print(population_with_safe_water_services_relative)"
      ],
      "metadata": {
        "colab": {
          "base_uri": "https://localhost:8080/"
        },
        "id": "VG1niCk-uX-a",
        "outputId": "856e79d7-96fe-47dc-a3f4-848e4e9d498f"
      },
      "execution_count": null,
      "outputs": [
        {
          "output_type": "stream",
          "name": "stdout",
          "text": [
            "0.7063597633152832\n"
          ]
        }
      ]
    },
    {
      "cell_type": "markdown",
      "source": [
        "## 1.4. Of all the freshwater used in the world, how much goes to agriculture?"
      ],
      "metadata": {
        "id": "C9aDOAUGuxnI"
      }
    },
    {
      "cell_type": "code",
      "source": [
        "# Water consumption\n",
        "# Source: Our World in Data\n",
        "\n",
        "# Per group of countries in trillion m^3 per year\n",
        "brics_water_consumption = 1.73\n",
        "oecd_water_consumption = 0.93\n",
        "row_water_consumption = 1.33\n",
        "\n",
        "# Per industry - 3 segments: household, industry, agriculture\n",
        "household_water_consumption_relative = 0.11 # percentage\n",
        "industrial_water_consumption = 0.76 # trillion m^3 per year"
      ],
      "metadata": {
        "id": "MH95eVakqbKd"
      },
      "execution_count": null,
      "outputs": []
    },
    {
      "cell_type": "code",
      "source": [
        "total_water_consumption = brics_water_consumption + oecd_water_consumption + row_water_consumption\n",
        "industrial_water_consumption_relative = industrial_water_consumption / total_water_consumption\n",
        "agriculture_water_consumption_relative = 1 - household_water_consumption_relative - industrial_water_consumption_relative\n",
        "print(agriculture_water_consumption_relative)"
      ],
      "metadata": {
        "colab": {
          "base_uri": "https://localhost:8080/"
        },
        "id": "QuM4V6nnrle4",
        "outputId": "5bebfd41-e6db-469d-e401-faa4714fb384"
      },
      "execution_count": null,
      "outputs": [
        {
          "output_type": "stream",
          "name": "stdout",
          "text": [
            "0.6995238095238095\n"
          ]
        }
      ]
    },
    {
      "cell_type": "markdown",
      "source": [
        "# 2. Internet Access"
      ],
      "metadata": {
        "id": "6NuI38NdwB4s"
      }
    },
    {
      "cell_type": "markdown",
      "source": [
        "## 2.1. What is the total number of people with access to internet in the low income countries’ group?"
      ],
      "metadata": {
        "id": "ec_ys3lawEaN"
      }
    },
    {
      "cell_type": "code",
      "source": [
        "low_population_access_internet_per_country = [4437830, 3323621, 618320, 207679, 1067680, 7702280, 41781, 21383226, 478499, 2862948, 76751, 1669033, 1301477, 2639933, 2571855, 6501130, 2469076, 2823581, 1052962, 317864, 895498, 13549424, 6002725, 1026563, 10840617, 7963533]\n",
        "low_population_access_internet = sum(low_population_access_internet_per_country)\n",
        "print(low_population_access_internet)"
      ],
      "metadata": {
        "colab": {
          "base_uri": "https://localhost:8080/"
        },
        "id": "2LPuKpxLwDsD",
        "outputId": "72a2d2bf-f5a8-4913-f257-ac0a536b9c99"
      },
      "execution_count": null,
      "outputs": [
        {
          "output_type": "stream",
          "name": "stdout",
          "text": [
            "103825886\n"
          ]
        }
      ]
    },
    {
      "cell_type": "markdown",
      "source": [
        "## 2.2. What is the average percentage of the population with access to internet among the low income countries?"
      ],
      "metadata": {
        "id": "EPaabGdLx5dF"
      }
    },
    {
      "cell_type": "code",
      "source": [
        "low_population_access_internet_relative_per_country = [1.4, 15.9, 5.2, 4.3, 6.5, 8.6, 1.3, 18.6, 19.8, 21.8, 3.9, 33.0, 4.7, 13.8, 12.7, 20.8, 10.2, 21.8, 13.2, 2.0, 8.0, 30.9, 34.3, 12.4, 23.7, 26.7]\n",
        "low_population_access_internet_relative_average = sum(low_population_access_internet_relative_per_country) / len(low_population_access_internet_relative_per_country)\n",
        "print(low_population_access_internet_relative_average)\n",
        "print(low_population_access_internet_relative_per_country)"
      ],
      "metadata": {
        "colab": {
          "base_uri": "https://localhost:8080/"
        },
        "id": "RGlCtyAsx6u8",
        "outputId": "fa3fd47c-7379-43c0-89e3-2b11c49a48cd"
      },
      "execution_count": null,
      "outputs": [
        {
          "output_type": "stream",
          "name": "stdout",
          "text": [
            "14.44230769230769\n",
            "[1.4, 15.9, 5.2, 4.3, 6.5, 8.6, 1.3, 18.6, 19.8, 21.8, 3.9, 33.0, 4.7, 13.8, 12.7, 20.8, 10.2, 21.8, 13.2, 2.0, 8.0, 30.9, 34.3, 12.4, 23.7, 26.7]\n"
          ]
        }
      ]
    },
    {
      "cell_type": "markdown",
      "source": [
        "## 2.3. Which country from the low-income group has the highest percentage of the population with access to internet?"
      ],
      "metadata": {
        "id": "gHF-sso4yeJS"
      }
    },
    {
      "cell_type": "code",
      "source": [
        "# 'set' object is not subscriptable => sets are unordered therefore do not support indexing\n",
        "# making a list from a list sounds cleaner than making a set out of a list and a list out of a set again\n",
        "low_income_countries = np.unique(['Afghanistan', 'Burkina Faso', 'Burundi', 'Central African Republic', 'Chad', 'Democratic Republic of Congo', 'Eritrea', 'Eritrea', 'Ethiopia', 'Gambia', 'Guinea', 'Guinea-Bissau', 'Liberia', 'Madagascar', 'Malawi', 'Mali', 'Mozambique', 'Niger', 'Niger', 'Rwanda', 'Sierra Leone', 'Somalia', 'South Sudan', 'Sudan', 'Syria', 'Togo', 'Uganda', 'Yemen'])\n",
        "max = 0\n",
        "index_max = 0\n",
        "# more code but a single loop instead of two (one to get the max, other to get the index)\n",
        "for i in range(0, len(low_population_access_internet_relative_per_country)):\n",
        "  if low_population_access_internet_relative_per_country[i] > max:\n",
        "    max = low_population_access_internet_relative_per_country[i]\n",
        "    index_max = i\n",
        "print(low_income_countries[index_max])"
      ],
      "metadata": {
        "colab": {
          "base_uri": "https://localhost:8080/"
        },
        "id": "YuAvFYzbye8o",
        "outputId": "871dd94b-1d52-4d87-f854-2d8f4dfc8e91"
      },
      "execution_count": null,
      "outputs": [
        {
          "output_type": "stream",
          "name": "stdout",
          "text": [
            "Syria\n"
          ]
        }
      ]
    },
    {
      "cell_type": "markdown",
      "source": [
        "## 2.4. If we add the lower-middle income countries, what is the average percentage of the population with access to internet (among the low- and lower-middle income countries)?"
      ],
      "metadata": {
        "id": "DPsWw32D2rXV"
      }
    },
    {
      "cell_type": "code",
      "source": [
        "lower_middle_population_access_internet_relative_per_country = [49.0, 21.4, 18.0, 47.1, 14.1, 41.8, 44.3, 40.5, 23.2, 57.2, 8.5, 8.6, 43.8, 55.7, 57.3, 33.8, 30.3, 37.9, 32.5, 32.1, 32.0, 47.7, 70.0, 22.6, 14.6, 38.2, 25.5, 32.5, 20.8, 35.3, 51.1, 74.4, 25.1, 21.4, 27.9, 36.0, 17.1, 70.6, 11.2, 60.1, 33.6, 29.9, 29.6, 11.9, 34.1, 22.0, 20.0, 27.5, 66.7, 62.6, 55.2, 25.7, 69.8, 27.9, 27.1]\n",
        "low_lower_middle_population_access_internet_relative_per_country = low_population_access_internet_relative_per_country + lower_middle_population_access_internet_relative_per_country\n",
        "low_lower_middle_population_access_internet_relative_average = sum(low_lower_middle_population_access_internet_relative_per_country) / len(low_lower_middle_population_access_internet_relative_per_country)\n",
        "print(low_lower_middle_population_access_internet_relative_average)"
      ],
      "metadata": {
        "colab": {
          "base_uri": "https://localhost:8080/"
        },
        "id": "Az37PN9J1EUC",
        "outputId": "ed3851b4-869e-4bc7-dea0-2010d9cfd8ae"
      },
      "execution_count": null,
      "outputs": [
        {
          "output_type": "stream",
          "name": "stdout",
          "text": [
            "29.016049382716034\n"
          ]
        }
      ]
    },
    {
      "cell_type": "markdown",
      "source": [
        "## 2.5. What is the percentage of the population in Europe & Central Asia with some access to Internet in 2019?"
      ],
      "metadata": {
        "id": "gL36N5XGS3fu"
      }
    },
    {
      "cell_type": "code",
      "source": [
        "population_access_internet_per_region = {\"East Asia & Pacific\": 1332951361,\n",
        "                                         \"Europe & Central Asia\": 737270551,\n",
        "                                         \"Latin America & Caribbean\": 430064244,\n",
        "                                         \"Middle East & North Africa\": 301099965,\n",
        "                                         \"North America\": 326887183,\n",
        "                                         \"South Asia\": 527829719,\n",
        "                                         \"Sub-Saharan Africa\": 276618220}\n",
        "population_access_internet_europe_central_asia = population_access_internet_per_region[\"Europe & Central Asia\"]\n",
        "population_europe_central_asia = 921455672\n",
        "population_access_internet_europe_central_asia_relative = population_access_internet_europe_central_asia / population_europe_central_asia\n",
        "print(population_access_internet_europe_central_asia_relative)"
      ],
      "metadata": {
        "colab": {
          "base_uri": "https://localhost:8080/"
        },
        "id": "uT8630vuzxsM",
        "outputId": "020c71ac-e87f-4d79-d8d4-91e1c826ce74"
      },
      "execution_count": null,
      "outputs": [
        {
          "output_type": "stream",
          "name": "stdout",
          "text": [
            "0.800115049918538\n"
          ]
        }
      ]
    },
    {
      "cell_type": "markdown",
      "source": [
        "## 2.6. What is the percentage of the population in the world with some access to Internet in 2019?"
      ],
      "metadata": {
        "id": "fvzavg7HUNds"
      }
    },
    {
      "cell_type": "code",
      "source": [
        "population_access_internet = sum(population_access_internet_per_region.values())\n",
        "world_population = 7726810526\n",
        "population_access_internet_relative = population_access_internet / world_population\n",
        "print(population_access_internet_relative)"
      ],
      "metadata": {
        "colab": {
          "base_uri": "https://localhost:8080/"
        },
        "id": "d9tCO8YhToOc",
        "outputId": "bd357beb-711e-4c23-d055-32aaaf075add"
      },
      "execution_count": null,
      "outputs": [
        {
          "output_type": "stream",
          "name": "stdout",
          "text": [
            "0.508970839878467\n"
          ]
        }
      ]
    },
    {
      "cell_type": "markdown",
      "source": [
        "## 2.7. What is the percentage of population in the group North America, Latin America & Caribbean with some access to Internet in 2019?"
      ],
      "metadata": {
        "id": "2b2jlRFDYIig"
      }
    },
    {
      "cell_type": "code",
      "source": [
        "pop_internet_per_region = { 'East Asia & Pacific': {\n",
        "                              'population': 2328453894, 'pop_internet': 1332951361\n",
        "                             },\n",
        "                            'Europe & Central Asia': {\n",
        "                              'population': 921455672, 'pop_internet': 737270551\n",
        "                             },\n",
        "                            'Latin America & Caribbean': {\n",
        "                              'population': 652196854,'pop_internet': 430064244\n",
        "                             },\n",
        "                            'Middle East & North Africa': {\n",
        "                              'population': 464554123,'pop_internet': 301099965\n",
        "                             },\n",
        "                            'North America': {\n",
        "                              'population': 367553264, 'pop_internet': 326887183\n",
        "                             },\n",
        "                            'South Asia': {\n",
        "                              'population': 1856882402, 'pop_internet': 527829719\n",
        "                             },\n",
        "                            'Sub-Saharan Africa': {\n",
        "                              'population': 1135714317, 'pop_internet': 276618220\n",
        "                             }\n",
        "                          }\n",
        "population_america = pop_internet_per_region['Latin America & Caribbean']['population'] + pop_internet_per_region['North America']['population']\n",
        "population_access_internet_america = pop_internet_per_region['Latin America & Caribbean']['pop_internet'] + pop_internet_per_region['North America']['pop_internet']\n",
        "population_access_internet_america_relative = population_access_internet_america / population_america\n",
        "print(population_access_internet_america_relative)"
      ],
      "metadata": {
        "colab": {
          "base_uri": "https://localhost:8080/"
        },
        "id": "QqY3plLUXLhh",
        "outputId": "78840a8d-c9ae-4e05-829c-6f285c001687"
      },
      "execution_count": null,
      "outputs": [
        {
          "output_type": "stream",
          "name": "stdout",
          "text": [
            "0.74229109037475\n"
          ]
        }
      ]
    },
    {
      "cell_type": "markdown",
      "source": [
        "# 3. International Refugees"
      ],
      "metadata": {
        "id": "JNRyXSLPbWOT"
      }
    },
    {
      "cell_type": "code",
      "source": [
        "# Import libraries\n",
        "import pandas as pd\n",
        "from matplotlib import pyplot as plt"
      ],
      "metadata": {
        "id": "k6HuVSJoYpA1"
      },
      "execution_count": null,
      "outputs": []
    },
    {
      "cell_type": "code",
      "source": [
        "# Load dataset to a dataframe\n",
        "df = pd.read_csv(\"/content/drive/MyDrive/Colab Notebooks/international_refugees.csv\")"
      ],
      "metadata": {
        "id": "YUpvMce5cAYg"
      },
      "execution_count": null,
      "outputs": []
    },
    {
      "cell_type": "code",
      "source": [
        "df.head(5)"
      ],
      "metadata": {
        "colab": {
          "base_uri": "https://localhost:8080/",
          "height": 219
        },
        "id": "c8emSWxDcLhq",
        "outputId": "0172c84e-640e-442f-834a-92d3fe0d8482"
      },
      "execution_count": null,
      "outputs": [
        {
          "output_type": "execute_result",
          "data": {
            "text/plain": [
              "                country                      region  population  refugees\n",
              "0           Afghanistan                  South Asia    38928341     72400\n",
              "1                Angola          Sub-Saharan Africa    32866268     56100\n",
              "2               Albania       Europe & Central Asia     2837743       115\n",
              "3               Andorra       Europe & Central Asia       77265         0\n",
              "4  United Arab Emirates  Middle East & North Africa     9890400      8560"
            ],
            "text/html": [
              "\n",
              "  <div id=\"df-a10287ac-09fb-4b88-b06d-70352af6b80f\">\n",
              "    <div class=\"colab-df-container\">\n",
              "      <div>\n",
              "<style scoped>\n",
              "    .dataframe tbody tr th:only-of-type {\n",
              "        vertical-align: middle;\n",
              "    }\n",
              "\n",
              "    .dataframe tbody tr th {\n",
              "        vertical-align: top;\n",
              "    }\n",
              "\n",
              "    .dataframe thead th {\n",
              "        text-align: right;\n",
              "    }\n",
              "</style>\n",
              "<table border=\"1\" class=\"dataframe\">\n",
              "  <thead>\n",
              "    <tr style=\"text-align: right;\">\n",
              "      <th></th>\n",
              "      <th>country</th>\n",
              "      <th>region</th>\n",
              "      <th>population</th>\n",
              "      <th>refugees</th>\n",
              "    </tr>\n",
              "  </thead>\n",
              "  <tbody>\n",
              "    <tr>\n",
              "      <th>0</th>\n",
              "      <td>Afghanistan</td>\n",
              "      <td>South Asia</td>\n",
              "      <td>38928341</td>\n",
              "      <td>72400</td>\n",
              "    </tr>\n",
              "    <tr>\n",
              "      <th>1</th>\n",
              "      <td>Angola</td>\n",
              "      <td>Sub-Saharan Africa</td>\n",
              "      <td>32866268</td>\n",
              "      <td>56100</td>\n",
              "    </tr>\n",
              "    <tr>\n",
              "      <th>2</th>\n",
              "      <td>Albania</td>\n",
              "      <td>Europe &amp; Central Asia</td>\n",
              "      <td>2837743</td>\n",
              "      <td>115</td>\n",
              "    </tr>\n",
              "    <tr>\n",
              "      <th>3</th>\n",
              "      <td>Andorra</td>\n",
              "      <td>Europe &amp; Central Asia</td>\n",
              "      <td>77265</td>\n",
              "      <td>0</td>\n",
              "    </tr>\n",
              "    <tr>\n",
              "      <th>4</th>\n",
              "      <td>United Arab Emirates</td>\n",
              "      <td>Middle East &amp; North Africa</td>\n",
              "      <td>9890400</td>\n",
              "      <td>8560</td>\n",
              "    </tr>\n",
              "  </tbody>\n",
              "</table>\n",
              "</div>\n",
              "      <button class=\"colab-df-convert\" onclick=\"convertToInteractive('df-a10287ac-09fb-4b88-b06d-70352af6b80f')\"\n",
              "              title=\"Convert this dataframe to an interactive table.\"\n",
              "              style=\"display:none;\">\n",
              "        \n",
              "  <svg xmlns=\"http://www.w3.org/2000/svg\" height=\"24px\"viewBox=\"0 0 24 24\"\n",
              "       width=\"24px\">\n",
              "    <path d=\"M0 0h24v24H0V0z\" fill=\"none\"/>\n",
              "    <path d=\"M18.56 5.44l.94 2.06.94-2.06 2.06-.94-2.06-.94-.94-2.06-.94 2.06-2.06.94zm-11 1L8.5 8.5l.94-2.06 2.06-.94-2.06-.94L8.5 2.5l-.94 2.06-2.06.94zm10 10l.94 2.06.94-2.06 2.06-.94-2.06-.94-.94-2.06-.94 2.06-2.06.94z\"/><path d=\"M17.41 7.96l-1.37-1.37c-.4-.4-.92-.59-1.43-.59-.52 0-1.04.2-1.43.59L10.3 9.45l-7.72 7.72c-.78.78-.78 2.05 0 2.83L4 21.41c.39.39.9.59 1.41.59.51 0 1.02-.2 1.41-.59l7.78-7.78 2.81-2.81c.8-.78.8-2.07 0-2.86zM5.41 20L4 18.59l7.72-7.72 1.47 1.35L5.41 20z\"/>\n",
              "  </svg>\n",
              "      </button>\n",
              "      \n",
              "  <style>\n",
              "    .colab-df-container {\n",
              "      display:flex;\n",
              "      flex-wrap:wrap;\n",
              "      gap: 12px;\n",
              "    }\n",
              "\n",
              "    .colab-df-convert {\n",
              "      background-color: #E8F0FE;\n",
              "      border: none;\n",
              "      border-radius: 50%;\n",
              "      cursor: pointer;\n",
              "      display: none;\n",
              "      fill: #1967D2;\n",
              "      height: 32px;\n",
              "      padding: 0 0 0 0;\n",
              "      width: 32px;\n",
              "    }\n",
              "\n",
              "    .colab-df-convert:hover {\n",
              "      background-color: #E2EBFA;\n",
              "      box-shadow: 0px 1px 2px rgba(60, 64, 67, 0.3), 0px 1px 3px 1px rgba(60, 64, 67, 0.15);\n",
              "      fill: #174EA6;\n",
              "    }\n",
              "\n",
              "    [theme=dark] .colab-df-convert {\n",
              "      background-color: #3B4455;\n",
              "      fill: #D2E3FC;\n",
              "    }\n",
              "\n",
              "    [theme=dark] .colab-df-convert:hover {\n",
              "      background-color: #434B5C;\n",
              "      box-shadow: 0px 1px 3px 1px rgba(0, 0, 0, 0.15);\n",
              "      filter: drop-shadow(0px 1px 2px rgba(0, 0, 0, 0.3));\n",
              "      fill: #FFFFFF;\n",
              "    }\n",
              "  </style>\n",
              "\n",
              "      <script>\n",
              "        const buttonEl =\n",
              "          document.querySelector('#df-a10287ac-09fb-4b88-b06d-70352af6b80f button.colab-df-convert');\n",
              "        buttonEl.style.display =\n",
              "          google.colab.kernel.accessAllowed ? 'block' : 'none';\n",
              "\n",
              "        async function convertToInteractive(key) {\n",
              "          const element = document.querySelector('#df-a10287ac-09fb-4b88-b06d-70352af6b80f');\n",
              "          const dataTable =\n",
              "            await google.colab.kernel.invokeFunction('convertToInteractive',\n",
              "                                                     [key], {});\n",
              "          if (!dataTable) return;\n",
              "\n",
              "          const docLinkHtml = 'Like what you see? Visit the ' +\n",
              "            '<a target=\"_blank\" href=https://colab.research.google.com/notebooks/data_table.ipynb>data table notebook</a>'\n",
              "            + ' to learn more about interactive tables.';\n",
              "          element.innerHTML = '';\n",
              "          dataTable['output_type'] = 'display_data';\n",
              "          await google.colab.output.renderOutput(dataTable, element);\n",
              "          const docLink = document.createElement('div');\n",
              "          docLink.innerHTML = docLinkHtml;\n",
              "          element.appendChild(docLink);\n",
              "        }\n",
              "      </script>\n",
              "    </div>\n",
              "  </div>\n",
              "  "
            ]
          },
          "metadata": {},
          "execution_count": 82
        }
      ]
    },
    {
      "cell_type": "markdown",
      "source": [
        "## 3.1. What share of the world population are international refugees?"
      ],
      "metadata": {
        "id": "X3M92JYFg8_4"
      }
    },
    {
      "cell_type": "code",
      "source": [
        "world_population = df['population'].sum()\n",
        "world_refugees = df['refugees'].sum()\n",
        "world_refugees_relative = world_refugees / world_population\n",
        "print(world_refugees_relative)"
      ],
      "metadata": {
        "colab": {
          "base_uri": "https://localhost:8080/"
        },
        "id": "yzaxFPEjgxUE",
        "outputId": "8e75915d-13fa-439d-d725-37241473ff95"
      },
      "execution_count": null,
      "outputs": [
        {
          "output_type": "stream",
          "name": "stdout",
          "text": [
            "0.00443769393380888\n"
          ]
        }
      ]
    },
    {
      "cell_type": "markdown",
      "source": [
        "## 3.2. Which country hosted the largest share of refugees in relation to its population in 2020?"
      ],
      "metadata": {
        "id": "0TOMPUS8hhmA"
      }
    },
    {
      "cell_type": "code",
      "source": [
        "df['refugees_share'] = df['refugees'] / df['population']\n",
        "max_refugees_share = df[df['refugees_share'] ==df['refugees_share'].max()]\n",
        "max_refugees_share"
      ],
      "metadata": {
        "colab": {
          "base_uri": "https://localhost:8080/",
          "height": 125
        },
        "id": "JTcrflqDhNEu",
        "outputId": "c9227683-08a7-4249-d804-a38d5a6294e4"
      },
      "execution_count": null,
      "outputs": [
        {
          "output_type": "execute_result",
          "data": {
            "text/plain": [
              "       country                      region  population  refugees  \\\n",
              "145  Palestine  Middle East & North Africa     5101414   2320000   \n",
              "\n",
              "     refugees_share  \n",
              "145        0.454776  "
            ],
            "text/html": [
              "\n",
              "  <div id=\"df-41cf8ecc-57c4-46b4-ab58-246455c7ccbf\">\n",
              "    <div class=\"colab-df-container\">\n",
              "      <div>\n",
              "<style scoped>\n",
              "    .dataframe tbody tr th:only-of-type {\n",
              "        vertical-align: middle;\n",
              "    }\n",
              "\n",
              "    .dataframe tbody tr th {\n",
              "        vertical-align: top;\n",
              "    }\n",
              "\n",
              "    .dataframe thead th {\n",
              "        text-align: right;\n",
              "    }\n",
              "</style>\n",
              "<table border=\"1\" class=\"dataframe\">\n",
              "  <thead>\n",
              "    <tr style=\"text-align: right;\">\n",
              "      <th></th>\n",
              "      <th>country</th>\n",
              "      <th>region</th>\n",
              "      <th>population</th>\n",
              "      <th>refugees</th>\n",
              "      <th>refugees_share</th>\n",
              "    </tr>\n",
              "  </thead>\n",
              "  <tbody>\n",
              "    <tr>\n",
              "      <th>145</th>\n",
              "      <td>Palestine</td>\n",
              "      <td>Middle East &amp; North Africa</td>\n",
              "      <td>5101414</td>\n",
              "      <td>2320000</td>\n",
              "      <td>0.454776</td>\n",
              "    </tr>\n",
              "  </tbody>\n",
              "</table>\n",
              "</div>\n",
              "      <button class=\"colab-df-convert\" onclick=\"convertToInteractive('df-41cf8ecc-57c4-46b4-ab58-246455c7ccbf')\"\n",
              "              title=\"Convert this dataframe to an interactive table.\"\n",
              "              style=\"display:none;\">\n",
              "        \n",
              "  <svg xmlns=\"http://www.w3.org/2000/svg\" height=\"24px\"viewBox=\"0 0 24 24\"\n",
              "       width=\"24px\">\n",
              "    <path d=\"M0 0h24v24H0V0z\" fill=\"none\"/>\n",
              "    <path d=\"M18.56 5.44l.94 2.06.94-2.06 2.06-.94-2.06-.94-.94-2.06-.94 2.06-2.06.94zm-11 1L8.5 8.5l.94-2.06 2.06-.94-2.06-.94L8.5 2.5l-.94 2.06-2.06.94zm10 10l.94 2.06.94-2.06 2.06-.94-2.06-.94-.94-2.06-.94 2.06-2.06.94z\"/><path d=\"M17.41 7.96l-1.37-1.37c-.4-.4-.92-.59-1.43-.59-.52 0-1.04.2-1.43.59L10.3 9.45l-7.72 7.72c-.78.78-.78 2.05 0 2.83L4 21.41c.39.39.9.59 1.41.59.51 0 1.02-.2 1.41-.59l7.78-7.78 2.81-2.81c.8-.78.8-2.07 0-2.86zM5.41 20L4 18.59l7.72-7.72 1.47 1.35L5.41 20z\"/>\n",
              "  </svg>\n",
              "      </button>\n",
              "      \n",
              "  <style>\n",
              "    .colab-df-container {\n",
              "      display:flex;\n",
              "      flex-wrap:wrap;\n",
              "      gap: 12px;\n",
              "    }\n",
              "\n",
              "    .colab-df-convert {\n",
              "      background-color: #E8F0FE;\n",
              "      border: none;\n",
              "      border-radius: 50%;\n",
              "      cursor: pointer;\n",
              "      display: none;\n",
              "      fill: #1967D2;\n",
              "      height: 32px;\n",
              "      padding: 0 0 0 0;\n",
              "      width: 32px;\n",
              "    }\n",
              "\n",
              "    .colab-df-convert:hover {\n",
              "      background-color: #E2EBFA;\n",
              "      box-shadow: 0px 1px 2px rgba(60, 64, 67, 0.3), 0px 1px 3px 1px rgba(60, 64, 67, 0.15);\n",
              "      fill: #174EA6;\n",
              "    }\n",
              "\n",
              "    [theme=dark] .colab-df-convert {\n",
              "      background-color: #3B4455;\n",
              "      fill: #D2E3FC;\n",
              "    }\n",
              "\n",
              "    [theme=dark] .colab-df-convert:hover {\n",
              "      background-color: #434B5C;\n",
              "      box-shadow: 0px 1px 3px 1px rgba(0, 0, 0, 0.15);\n",
              "      filter: drop-shadow(0px 1px 2px rgba(0, 0, 0, 0.3));\n",
              "      fill: #FFFFFF;\n",
              "    }\n",
              "  </style>\n",
              "\n",
              "      <script>\n",
              "        const buttonEl =\n",
              "          document.querySelector('#df-41cf8ecc-57c4-46b4-ab58-246455c7ccbf button.colab-df-convert');\n",
              "        buttonEl.style.display =\n",
              "          google.colab.kernel.accessAllowed ? 'block' : 'none';\n",
              "\n",
              "        async function convertToInteractive(key) {\n",
              "          const element = document.querySelector('#df-41cf8ecc-57c4-46b4-ab58-246455c7ccbf');\n",
              "          const dataTable =\n",
              "            await google.colab.kernel.invokeFunction('convertToInteractive',\n",
              "                                                     [key], {});\n",
              "          if (!dataTable) return;\n",
              "\n",
              "          const docLinkHtml = 'Like what you see? Visit the ' +\n",
              "            '<a target=\"_blank\" href=https://colab.research.google.com/notebooks/data_table.ipynb>data table notebook</a>'\n",
              "            + ' to learn more about interactive tables.';\n",
              "          element.innerHTML = '';\n",
              "          dataTable['output_type'] = 'display_data';\n",
              "          await google.colab.output.renderOutput(dataTable, element);\n",
              "          const docLink = document.createElement('div');\n",
              "          docLink.innerHTML = docLinkHtml;\n",
              "          element.appendChild(docLink);\n",
              "        }\n",
              "      </script>\n",
              "    </div>\n",
              "  </div>\n",
              "  "
            ]
          },
          "metadata": {},
          "execution_count": 87
        }
      ]
    },
    {
      "cell_type": "code",
      "source": [
        "max_refugees_share['country']"
      ],
      "metadata": {
        "colab": {
          "base_uri": "https://localhost:8080/"
        },
        "id": "7QuEZkhxjChe",
        "outputId": "833817bb-a5ec-43bc-d469-42852543f38b"
      },
      "execution_count": null,
      "outputs": [
        {
          "output_type": "execute_result",
          "data": {
            "text/plain": [
              "145    Palestine\n",
              "Name: country, dtype: object"
            ]
          },
          "metadata": {},
          "execution_count": 88
        }
      ]
    },
    {
      "cell_type": "markdown",
      "source": [
        "## 3.3. How many refugees were exiled in Germany in 2020?"
      ],
      "metadata": {
        "id": "lxIs7iqZik5K"
      }
    },
    {
      "cell_type": "code",
      "source": [
        "germany_data = df[df['country'] == 'Germany']\n",
        "germany_data "
      ],
      "metadata": {
        "colab": {
          "base_uri": "https://localhost:8080/",
          "height": 81
        },
        "id": "r4zSixW7h3TK",
        "outputId": "0e219e92-443a-439b-d119-d867c363cc9e"
      },
      "execution_count": null,
      "outputs": [
        {
          "output_type": "execute_result",
          "data": {
            "text/plain": [
              "    country                 region  population  refugees  refugees_share\n",
              "44  Germany  Europe & Central Asia    83240525   1450000        0.017419"
            ],
            "text/html": [
              "\n",
              "  <div id=\"df-40555448-bf72-4b86-a35c-5e229fa5c8f2\">\n",
              "    <div class=\"colab-df-container\">\n",
              "      <div>\n",
              "<style scoped>\n",
              "    .dataframe tbody tr th:only-of-type {\n",
              "        vertical-align: middle;\n",
              "    }\n",
              "\n",
              "    .dataframe tbody tr th {\n",
              "        vertical-align: top;\n",
              "    }\n",
              "\n",
              "    .dataframe thead th {\n",
              "        text-align: right;\n",
              "    }\n",
              "</style>\n",
              "<table border=\"1\" class=\"dataframe\">\n",
              "  <thead>\n",
              "    <tr style=\"text-align: right;\">\n",
              "      <th></th>\n",
              "      <th>country</th>\n",
              "      <th>region</th>\n",
              "      <th>population</th>\n",
              "      <th>refugees</th>\n",
              "      <th>refugees_share</th>\n",
              "    </tr>\n",
              "  </thead>\n",
              "  <tbody>\n",
              "    <tr>\n",
              "      <th>44</th>\n",
              "      <td>Germany</td>\n",
              "      <td>Europe &amp; Central Asia</td>\n",
              "      <td>83240525</td>\n",
              "      <td>1450000</td>\n",
              "      <td>0.017419</td>\n",
              "    </tr>\n",
              "  </tbody>\n",
              "</table>\n",
              "</div>\n",
              "      <button class=\"colab-df-convert\" onclick=\"convertToInteractive('df-40555448-bf72-4b86-a35c-5e229fa5c8f2')\"\n",
              "              title=\"Convert this dataframe to an interactive table.\"\n",
              "              style=\"display:none;\">\n",
              "        \n",
              "  <svg xmlns=\"http://www.w3.org/2000/svg\" height=\"24px\"viewBox=\"0 0 24 24\"\n",
              "       width=\"24px\">\n",
              "    <path d=\"M0 0h24v24H0V0z\" fill=\"none\"/>\n",
              "    <path d=\"M18.56 5.44l.94 2.06.94-2.06 2.06-.94-2.06-.94-.94-2.06-.94 2.06-2.06.94zm-11 1L8.5 8.5l.94-2.06 2.06-.94-2.06-.94L8.5 2.5l-.94 2.06-2.06.94zm10 10l.94 2.06.94-2.06 2.06-.94-2.06-.94-.94-2.06-.94 2.06-2.06.94z\"/><path d=\"M17.41 7.96l-1.37-1.37c-.4-.4-.92-.59-1.43-.59-.52 0-1.04.2-1.43.59L10.3 9.45l-7.72 7.72c-.78.78-.78 2.05 0 2.83L4 21.41c.39.39.9.59 1.41.59.51 0 1.02-.2 1.41-.59l7.78-7.78 2.81-2.81c.8-.78.8-2.07 0-2.86zM5.41 20L4 18.59l7.72-7.72 1.47 1.35L5.41 20z\"/>\n",
              "  </svg>\n",
              "      </button>\n",
              "      \n",
              "  <style>\n",
              "    .colab-df-container {\n",
              "      display:flex;\n",
              "      flex-wrap:wrap;\n",
              "      gap: 12px;\n",
              "    }\n",
              "\n",
              "    .colab-df-convert {\n",
              "      background-color: #E8F0FE;\n",
              "      border: none;\n",
              "      border-radius: 50%;\n",
              "      cursor: pointer;\n",
              "      display: none;\n",
              "      fill: #1967D2;\n",
              "      height: 32px;\n",
              "      padding: 0 0 0 0;\n",
              "      width: 32px;\n",
              "    }\n",
              "\n",
              "    .colab-df-convert:hover {\n",
              "      background-color: #E2EBFA;\n",
              "      box-shadow: 0px 1px 2px rgba(60, 64, 67, 0.3), 0px 1px 3px 1px rgba(60, 64, 67, 0.15);\n",
              "      fill: #174EA6;\n",
              "    }\n",
              "\n",
              "    [theme=dark] .colab-df-convert {\n",
              "      background-color: #3B4455;\n",
              "      fill: #D2E3FC;\n",
              "    }\n",
              "\n",
              "    [theme=dark] .colab-df-convert:hover {\n",
              "      background-color: #434B5C;\n",
              "      box-shadow: 0px 1px 3px 1px rgba(0, 0, 0, 0.15);\n",
              "      filter: drop-shadow(0px 1px 2px rgba(0, 0, 0, 0.3));\n",
              "      fill: #FFFFFF;\n",
              "    }\n",
              "  </style>\n",
              "\n",
              "      <script>\n",
              "        const buttonEl =\n",
              "          document.querySelector('#df-40555448-bf72-4b86-a35c-5e229fa5c8f2 button.colab-df-convert');\n",
              "        buttonEl.style.display =\n",
              "          google.colab.kernel.accessAllowed ? 'block' : 'none';\n",
              "\n",
              "        async function convertToInteractive(key) {\n",
              "          const element = document.querySelector('#df-40555448-bf72-4b86-a35c-5e229fa5c8f2');\n",
              "          const dataTable =\n",
              "            await google.colab.kernel.invokeFunction('convertToInteractive',\n",
              "                                                     [key], {});\n",
              "          if (!dataTable) return;\n",
              "\n",
              "          const docLinkHtml = 'Like what you see? Visit the ' +\n",
              "            '<a target=\"_blank\" href=https://colab.research.google.com/notebooks/data_table.ipynb>data table notebook</a>'\n",
              "            + ' to learn more about interactive tables.';\n",
              "          element.innerHTML = '';\n",
              "          dataTable['output_type'] = 'display_data';\n",
              "          await google.colab.output.renderOutput(dataTable, element);\n",
              "          const docLink = document.createElement('div');\n",
              "          docLink.innerHTML = docLinkHtml;\n",
              "          element.appendChild(docLink);\n",
              "        }\n",
              "      </script>\n",
              "    </div>\n",
              "  </div>\n",
              "  "
            ]
          },
          "metadata": {},
          "execution_count": 90
        }
      ]
    },
    {
      "cell_type": "code",
      "source": [
        "germany_data['refugees']"
      ],
      "metadata": {
        "colab": {
          "base_uri": "https://localhost:8080/"
        },
        "id": "icYtDTh7jLxM",
        "outputId": "55b60a53-3893-4bb1-9321-fe18bd1ec135"
      },
      "execution_count": null,
      "outputs": [
        {
          "output_type": "execute_result",
          "data": {
            "text/plain": [
              "44    1450000\n",
              "Name: refugees, dtype: int64"
            ]
          },
          "metadata": {},
          "execution_count": 91
        }
      ]
    },
    {
      "cell_type": "markdown",
      "source": [
        "## 3.4. Which of the regions hosted the largest number of international refugees in 2020?"
      ],
      "metadata": {
        "id": "L3I4QCXfjd0-"
      }
    },
    {
      "cell_type": "code",
      "source": [
        "df.sort_values(by='refugees', ascending=False).head(10)"
      ],
      "metadata": {
        "colab": {
          "base_uri": "https://localhost:8080/",
          "height": 459
        },
        "id": "17sBzrFhjWee",
        "outputId": "3e6ff4bc-7dc5-4f98-f4b3-b91008ac06d7"
      },
      "execution_count": null,
      "outputs": [
        {
          "output_type": "execute_result",
          "data": {
            "text/plain": [
              "           country                      region  population  refugees  \\\n",
              "177         Turkey       Europe & Central Asia    84339067   3970000   \n",
              "86          Jordan  Middle East & North Africa    10203140   2980000   \n",
              "145      Palestine  Middle East & North Africa     5101414   2320000   \n",
              "37        Colombia   Latin America & Caribbean    50882884   1750000   \n",
              "44         Germany       Europe & Central Asia    83240525   1450000   \n",
              "180         Uganda          Sub-Saharan Africa    45741000   1450000   \n",
              "135       Pakistan                  South Asia   220892331   1450000   \n",
              "97         Lebanon  Middle East & North Africa     6825442   1360000   \n",
              "183  United States               North America   329484123   1340000   \n",
              "137           Peru   Latin America & Caribbean    32971846   1060000   \n",
              "\n",
              "     refugees_share  \n",
              "177        0.047072  \n",
              "86         0.292067  \n",
              "145        0.454776  \n",
              "37         0.034393  \n",
              "44         0.017419  \n",
              "180        0.031700  \n",
              "135        0.006564  \n",
              "97         0.199254  \n",
              "183        0.004067  \n",
              "137        0.032149  "
            ],
            "text/html": [
              "\n",
              "  <div id=\"df-dfd2120e-1f84-4979-92ac-cb98127a203f\">\n",
              "    <div class=\"colab-df-container\">\n",
              "      <div>\n",
              "<style scoped>\n",
              "    .dataframe tbody tr th:only-of-type {\n",
              "        vertical-align: middle;\n",
              "    }\n",
              "\n",
              "    .dataframe tbody tr th {\n",
              "        vertical-align: top;\n",
              "    }\n",
              "\n",
              "    .dataframe thead th {\n",
              "        text-align: right;\n",
              "    }\n",
              "</style>\n",
              "<table border=\"1\" class=\"dataframe\">\n",
              "  <thead>\n",
              "    <tr style=\"text-align: right;\">\n",
              "      <th></th>\n",
              "      <th>country</th>\n",
              "      <th>region</th>\n",
              "      <th>population</th>\n",
              "      <th>refugees</th>\n",
              "      <th>refugees_share</th>\n",
              "    </tr>\n",
              "  </thead>\n",
              "  <tbody>\n",
              "    <tr>\n",
              "      <th>177</th>\n",
              "      <td>Turkey</td>\n",
              "      <td>Europe &amp; Central Asia</td>\n",
              "      <td>84339067</td>\n",
              "      <td>3970000</td>\n",
              "      <td>0.047072</td>\n",
              "    </tr>\n",
              "    <tr>\n",
              "      <th>86</th>\n",
              "      <td>Jordan</td>\n",
              "      <td>Middle East &amp; North Africa</td>\n",
              "      <td>10203140</td>\n",
              "      <td>2980000</td>\n",
              "      <td>0.292067</td>\n",
              "    </tr>\n",
              "    <tr>\n",
              "      <th>145</th>\n",
              "      <td>Palestine</td>\n",
              "      <td>Middle East &amp; North Africa</td>\n",
              "      <td>5101414</td>\n",
              "      <td>2320000</td>\n",
              "      <td>0.454776</td>\n",
              "    </tr>\n",
              "    <tr>\n",
              "      <th>37</th>\n",
              "      <td>Colombia</td>\n",
              "      <td>Latin America &amp; Caribbean</td>\n",
              "      <td>50882884</td>\n",
              "      <td>1750000</td>\n",
              "      <td>0.034393</td>\n",
              "    </tr>\n",
              "    <tr>\n",
              "      <th>44</th>\n",
              "      <td>Germany</td>\n",
              "      <td>Europe &amp; Central Asia</td>\n",
              "      <td>83240525</td>\n",
              "      <td>1450000</td>\n",
              "      <td>0.017419</td>\n",
              "    </tr>\n",
              "    <tr>\n",
              "      <th>180</th>\n",
              "      <td>Uganda</td>\n",
              "      <td>Sub-Saharan Africa</td>\n",
              "      <td>45741000</td>\n",
              "      <td>1450000</td>\n",
              "      <td>0.031700</td>\n",
              "    </tr>\n",
              "    <tr>\n",
              "      <th>135</th>\n",
              "      <td>Pakistan</td>\n",
              "      <td>South Asia</td>\n",
              "      <td>220892331</td>\n",
              "      <td>1450000</td>\n",
              "      <td>0.006564</td>\n",
              "    </tr>\n",
              "    <tr>\n",
              "      <th>97</th>\n",
              "      <td>Lebanon</td>\n",
              "      <td>Middle East &amp; North Africa</td>\n",
              "      <td>6825442</td>\n",
              "      <td>1360000</td>\n",
              "      <td>0.199254</td>\n",
              "    </tr>\n",
              "    <tr>\n",
              "      <th>183</th>\n",
              "      <td>United States</td>\n",
              "      <td>North America</td>\n",
              "      <td>329484123</td>\n",
              "      <td>1340000</td>\n",
              "      <td>0.004067</td>\n",
              "    </tr>\n",
              "    <tr>\n",
              "      <th>137</th>\n",
              "      <td>Peru</td>\n",
              "      <td>Latin America &amp; Caribbean</td>\n",
              "      <td>32971846</td>\n",
              "      <td>1060000</td>\n",
              "      <td>0.032149</td>\n",
              "    </tr>\n",
              "  </tbody>\n",
              "</table>\n",
              "</div>\n",
              "      <button class=\"colab-df-convert\" onclick=\"convertToInteractive('df-dfd2120e-1f84-4979-92ac-cb98127a203f')\"\n",
              "              title=\"Convert this dataframe to an interactive table.\"\n",
              "              style=\"display:none;\">\n",
              "        \n",
              "  <svg xmlns=\"http://www.w3.org/2000/svg\" height=\"24px\"viewBox=\"0 0 24 24\"\n",
              "       width=\"24px\">\n",
              "    <path d=\"M0 0h24v24H0V0z\" fill=\"none\"/>\n",
              "    <path d=\"M18.56 5.44l.94 2.06.94-2.06 2.06-.94-2.06-.94-.94-2.06-.94 2.06-2.06.94zm-11 1L8.5 8.5l.94-2.06 2.06-.94-2.06-.94L8.5 2.5l-.94 2.06-2.06.94zm10 10l.94 2.06.94-2.06 2.06-.94-2.06-.94-.94-2.06-.94 2.06-2.06.94z\"/><path d=\"M17.41 7.96l-1.37-1.37c-.4-.4-.92-.59-1.43-.59-.52 0-1.04.2-1.43.59L10.3 9.45l-7.72 7.72c-.78.78-.78 2.05 0 2.83L4 21.41c.39.39.9.59 1.41.59.51 0 1.02-.2 1.41-.59l7.78-7.78 2.81-2.81c.8-.78.8-2.07 0-2.86zM5.41 20L4 18.59l7.72-7.72 1.47 1.35L5.41 20z\"/>\n",
              "  </svg>\n",
              "      </button>\n",
              "      \n",
              "  <style>\n",
              "    .colab-df-container {\n",
              "      display:flex;\n",
              "      flex-wrap:wrap;\n",
              "      gap: 12px;\n",
              "    }\n",
              "\n",
              "    .colab-df-convert {\n",
              "      background-color: #E8F0FE;\n",
              "      border: none;\n",
              "      border-radius: 50%;\n",
              "      cursor: pointer;\n",
              "      display: none;\n",
              "      fill: #1967D2;\n",
              "      height: 32px;\n",
              "      padding: 0 0 0 0;\n",
              "      width: 32px;\n",
              "    }\n",
              "\n",
              "    .colab-df-convert:hover {\n",
              "      background-color: #E2EBFA;\n",
              "      box-shadow: 0px 1px 2px rgba(60, 64, 67, 0.3), 0px 1px 3px 1px rgba(60, 64, 67, 0.15);\n",
              "      fill: #174EA6;\n",
              "    }\n",
              "\n",
              "    [theme=dark] .colab-df-convert {\n",
              "      background-color: #3B4455;\n",
              "      fill: #D2E3FC;\n",
              "    }\n",
              "\n",
              "    [theme=dark] .colab-df-convert:hover {\n",
              "      background-color: #434B5C;\n",
              "      box-shadow: 0px 1px 3px 1px rgba(0, 0, 0, 0.15);\n",
              "      filter: drop-shadow(0px 1px 2px rgba(0, 0, 0, 0.3));\n",
              "      fill: #FFFFFF;\n",
              "    }\n",
              "  </style>\n",
              "\n",
              "      <script>\n",
              "        const buttonEl =\n",
              "          document.querySelector('#df-dfd2120e-1f84-4979-92ac-cb98127a203f button.colab-df-convert');\n",
              "        buttonEl.style.display =\n",
              "          google.colab.kernel.accessAllowed ? 'block' : 'none';\n",
              "\n",
              "        async function convertToInteractive(key) {\n",
              "          const element = document.querySelector('#df-dfd2120e-1f84-4979-92ac-cb98127a203f');\n",
              "          const dataTable =\n",
              "            await google.colab.kernel.invokeFunction('convertToInteractive',\n",
              "                                                     [key], {});\n",
              "          if (!dataTable) return;\n",
              "\n",
              "          const docLinkHtml = 'Like what you see? Visit the ' +\n",
              "            '<a target=\"_blank\" href=https://colab.research.google.com/notebooks/data_table.ipynb>data table notebook</a>'\n",
              "            + ' to learn more about interactive tables.';\n",
              "          element.innerHTML = '';\n",
              "          dataTable['output_type'] = 'display_data';\n",
              "          await google.colab.output.renderOutput(dataTable, element);\n",
              "          const docLink = document.createElement('div');\n",
              "          docLink.innerHTML = docLinkHtml;\n",
              "          element.appendChild(docLink);\n",
              "        }\n",
              "      </script>\n",
              "    </div>\n",
              "  </div>\n",
              "  "
            ]
          },
          "metadata": {},
          "execution_count": 93
        }
      ]
    },
    {
      "cell_type": "code",
      "source": [
        ""
      ],
      "metadata": {
        "id": "BfyEoseukKq4"
      },
      "execution_count": null,
      "outputs": []
    }
  ]
}